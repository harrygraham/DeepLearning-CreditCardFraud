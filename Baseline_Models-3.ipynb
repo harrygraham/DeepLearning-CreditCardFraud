{
 "cells": [
  {
   "cell_type": "markdown",
   "metadata": {},
   "source": [
    "# Baseline Models\n",
    "\n",
    "Here we walk through some data exploration and do work on our baseline models.\n",
    "\n",
    "The outline is as follows:\n",
    "\n",
    "* Look at data and run simple logistic regression classifer on data\n",
    "* Try resampling methods using this classifer \n",
    "* Implement other baseline classifiers using the best resampling technique \n",
    "* See briefly what tuning can be done"
   ]
  },
  {
   "cell_type": "markdown",
   "metadata": {},
   "source": [
    "\n",
    "### Imports and printing utility\n"
   ]
  },
  {
   "cell_type": "code",
   "execution_count": 1,
   "metadata": {},
   "outputs": [],
   "source": [
    "import pandas as pd\n",
    "import matplotlib.pyplot as plt\n",
    "import numpy as np\n",
    "import itertools\n",
    "\n",
    "from IPython.core.display import HTML\n",
    "\n",
    "HTML(\"\"\"\n",
    "<style>\n",
    " {\n",
    "    display: table-cell;\n",
    "    text-align: center;\n",
    "   .output_png vertical-align: middle;\n",
    "}\n",
    "</style>\n",
    "\"\"\")\n",
    "\n",
    "def plot_confusion_matrix(cm, classes,\n",
    "                          normalize=False,\n",
    "                          title='Confusion matrix',\n",
    "                          cmap=plt.cm.Blues):\n",
    "    \"\"\"\n",
    "    This function prints and plots the confusion matrix.\n",
    "    Normalization can be applied by setting `normalize=True`.\n",
    "    \"\"\"\n",
    "    plt.imshow(cm, interpolation='nearest', cmap=cmap)\n",
    "    plt.title(title)\n",
    "    plt.colorbar()\n",
    "    tick_marks = np.arange(len(classes))\n",
    "    plt.xticks(tick_marks, classes, rotation=0)\n",
    "    plt.yticks(tick_marks, classes)\n",
    "\n",
    "    if normalize:\n",
    "        cm = cm.astype('float') / cm.sum(axis=1)[:, np.newaxis]\n",
    "        #print(\"Normalized confusion matrix\")\n",
    "    else:\n",
    "        1#print('Confusion matrix, without normalization')\n",
    "\n",
    "    #print(cm)\n",
    "\n",
    "    thresh = cm.max() / 2.\n",
    "    for i, j in itertools.product(range(cm.shape[0]), range(cm.shape[1])):\n",
    "        plt.text(j, i, cm[i, j],\n",
    "                 horizontalalignment=\"center\",\n",
    "                 color=\"white\" if cm[i, j] > thresh else \"black\")\n",
    "\n",
    "    plt.tight_layout()\n",
    "    plt.ylabel('True label')\n",
    "    plt.xlabel('Predicted label')\n",
    "    "
   ]
  },
  {
   "cell_type": "markdown",
   "metadata": {},
   "source": [
    "This is a function that prints a nice plot of the confusion matrix, that'll be useful to use later on."
   ]
  },
  {
   "cell_type": "markdown",
   "metadata": {},
   "source": [
    "### Read in Data"
   ]
  },
  {
   "cell_type": "code",
   "execution_count": 2,
   "metadata": {
    "scrolled": false
   },
   "outputs": [
    {
     "data": {
      "text/html": [
       "<div>\n",
       "<style scoped>\n",
       "    .dataframe tbody tr th:only-of-type {\n",
       "        vertical-align: middle;\n",
       "    }\n",
       "\n",
       "    .dataframe tbody tr th {\n",
       "        vertical-align: top;\n",
       "    }\n",
       "\n",
       "    .dataframe thead th {\n",
       "        text-align: right;\n",
       "    }\n",
       "</style>\n",
       "<table border=\"1\" class=\"dataframe\">\n",
       "  <thead>\n",
       "    <tr style=\"text-align: right;\">\n",
       "      <th></th>\n",
       "      <th>Time</th>\n",
       "      <th>V1</th>\n",
       "      <th>V2</th>\n",
       "      <th>V3</th>\n",
       "      <th>V4</th>\n",
       "      <th>V5</th>\n",
       "      <th>V6</th>\n",
       "      <th>V7</th>\n",
       "      <th>V8</th>\n",
       "      <th>V9</th>\n",
       "      <th>...</th>\n",
       "      <th>V21</th>\n",
       "      <th>V22</th>\n",
       "      <th>V23</th>\n",
       "      <th>V24</th>\n",
       "      <th>V25</th>\n",
       "      <th>V26</th>\n",
       "      <th>V27</th>\n",
       "      <th>V28</th>\n",
       "      <th>Amount</th>\n",
       "      <th>Class</th>\n",
       "    </tr>\n",
       "  </thead>\n",
       "  <tbody>\n",
       "    <tr>\n",
       "      <th>0</th>\n",
       "      <td>0.0</td>\n",
       "      <td>-1.359807</td>\n",
       "      <td>-0.072781</td>\n",
       "      <td>2.536347</td>\n",
       "      <td>1.378155</td>\n",
       "      <td>-0.338321</td>\n",
       "      <td>0.462388</td>\n",
       "      <td>0.239599</td>\n",
       "      <td>0.098698</td>\n",
       "      <td>0.363787</td>\n",
       "      <td>...</td>\n",
       "      <td>-0.018307</td>\n",
       "      <td>0.277838</td>\n",
       "      <td>-0.110474</td>\n",
       "      <td>0.066928</td>\n",
       "      <td>0.128539</td>\n",
       "      <td>-0.189115</td>\n",
       "      <td>0.133558</td>\n",
       "      <td>-0.021053</td>\n",
       "      <td>149.62</td>\n",
       "      <td>0</td>\n",
       "    </tr>\n",
       "    <tr>\n",
       "      <th>1</th>\n",
       "      <td>0.0</td>\n",
       "      <td>1.191857</td>\n",
       "      <td>0.266151</td>\n",
       "      <td>0.166480</td>\n",
       "      <td>0.448154</td>\n",
       "      <td>0.060018</td>\n",
       "      <td>-0.082361</td>\n",
       "      <td>-0.078803</td>\n",
       "      <td>0.085102</td>\n",
       "      <td>-0.255425</td>\n",
       "      <td>...</td>\n",
       "      <td>-0.225775</td>\n",
       "      <td>-0.638672</td>\n",
       "      <td>0.101288</td>\n",
       "      <td>-0.339846</td>\n",
       "      <td>0.167170</td>\n",
       "      <td>0.125895</td>\n",
       "      <td>-0.008983</td>\n",
       "      <td>0.014724</td>\n",
       "      <td>2.69</td>\n",
       "      <td>0</td>\n",
       "    </tr>\n",
       "    <tr>\n",
       "      <th>2</th>\n",
       "      <td>1.0</td>\n",
       "      <td>-1.358354</td>\n",
       "      <td>-1.340163</td>\n",
       "      <td>1.773209</td>\n",
       "      <td>0.379780</td>\n",
       "      <td>-0.503198</td>\n",
       "      <td>1.800499</td>\n",
       "      <td>0.791461</td>\n",
       "      <td>0.247676</td>\n",
       "      <td>-1.514654</td>\n",
       "      <td>...</td>\n",
       "      <td>0.247998</td>\n",
       "      <td>0.771679</td>\n",
       "      <td>0.909412</td>\n",
       "      <td>-0.689281</td>\n",
       "      <td>-0.327642</td>\n",
       "      <td>-0.139097</td>\n",
       "      <td>-0.055353</td>\n",
       "      <td>-0.059752</td>\n",
       "      <td>378.66</td>\n",
       "      <td>0</td>\n",
       "    </tr>\n",
       "    <tr>\n",
       "      <th>3</th>\n",
       "      <td>1.0</td>\n",
       "      <td>-0.966272</td>\n",
       "      <td>-0.185226</td>\n",
       "      <td>1.792993</td>\n",
       "      <td>-0.863291</td>\n",
       "      <td>-0.010309</td>\n",
       "      <td>1.247203</td>\n",
       "      <td>0.237609</td>\n",
       "      <td>0.377436</td>\n",
       "      <td>-1.387024</td>\n",
       "      <td>...</td>\n",
       "      <td>-0.108300</td>\n",
       "      <td>0.005274</td>\n",
       "      <td>-0.190321</td>\n",
       "      <td>-1.175575</td>\n",
       "      <td>0.647376</td>\n",
       "      <td>-0.221929</td>\n",
       "      <td>0.062723</td>\n",
       "      <td>0.061458</td>\n",
       "      <td>123.50</td>\n",
       "      <td>0</td>\n",
       "    </tr>\n",
       "    <tr>\n",
       "      <th>4</th>\n",
       "      <td>2.0</td>\n",
       "      <td>-1.158233</td>\n",
       "      <td>0.877737</td>\n",
       "      <td>1.548718</td>\n",
       "      <td>0.403034</td>\n",
       "      <td>-0.407193</td>\n",
       "      <td>0.095921</td>\n",
       "      <td>0.592941</td>\n",
       "      <td>-0.270533</td>\n",
       "      <td>0.817739</td>\n",
       "      <td>...</td>\n",
       "      <td>-0.009431</td>\n",
       "      <td>0.798278</td>\n",
       "      <td>-0.137458</td>\n",
       "      <td>0.141267</td>\n",
       "      <td>-0.206010</td>\n",
       "      <td>0.502292</td>\n",
       "      <td>0.219422</td>\n",
       "      <td>0.215153</td>\n",
       "      <td>69.99</td>\n",
       "      <td>0</td>\n",
       "    </tr>\n",
       "  </tbody>\n",
       "</table>\n",
       "<p>5 rows × 31 columns</p>\n",
       "</div>"
      ],
      "text/plain": [
       "   Time        V1        V2        V3        V4        V5        V6        V7  \\\n",
       "0   0.0 -1.359807 -0.072781  2.536347  1.378155 -0.338321  0.462388  0.239599   \n",
       "1   0.0  1.191857  0.266151  0.166480  0.448154  0.060018 -0.082361 -0.078803   \n",
       "2   1.0 -1.358354 -1.340163  1.773209  0.379780 -0.503198  1.800499  0.791461   \n",
       "3   1.0 -0.966272 -0.185226  1.792993 -0.863291 -0.010309  1.247203  0.237609   \n",
       "4   2.0 -1.158233  0.877737  1.548718  0.403034 -0.407193  0.095921  0.592941   \n",
       "\n",
       "         V8        V9  ...         V21       V22       V23       V24  \\\n",
       "0  0.098698  0.363787  ...   -0.018307  0.277838 -0.110474  0.066928   \n",
       "1  0.085102 -0.255425  ...   -0.225775 -0.638672  0.101288 -0.339846   \n",
       "2  0.247676 -1.514654  ...    0.247998  0.771679  0.909412 -0.689281   \n",
       "3  0.377436 -1.387024  ...   -0.108300  0.005274 -0.190321 -1.175575   \n",
       "4 -0.270533  0.817739  ...   -0.009431  0.798278 -0.137458  0.141267   \n",
       "\n",
       "        V25       V26       V27       V28  Amount  Class  \n",
       "0  0.128539 -0.189115  0.133558 -0.021053  149.62      0  \n",
       "1  0.167170  0.125895 -0.008983  0.014724    2.69      0  \n",
       "2 -0.327642 -0.139097 -0.055353 -0.059752  378.66      0  \n",
       "3  0.647376 -0.221929  0.062723  0.061458  123.50      0  \n",
       "4 -0.206010  0.502292  0.219422  0.215153   69.99      0  \n",
       "\n",
       "[5 rows x 31 columns]"
      ]
     },
     "execution_count": 2,
     "metadata": {},
     "output_type": "execute_result"
    }
   ],
   "source": [
    "data = pd.read_csv(\"creditcard.csv\")\n",
    "data.head()"
   ]
  },
  {
   "cell_type": "markdown",
   "metadata": {},
   "source": [
    "As we can see, the features have been normalised, except Time and Amount."
   ]
  },
  {
   "cell_type": "markdown",
   "metadata": {},
   "source": [
    "### View data balance"
   ]
  },
  {
   "cell_type": "code",
   "execution_count": 3,
   "metadata": {
    "scrolled": true
   },
   "outputs": [
    {
     "data": {
      "image/png": "[encoded data removed]",
      "text/plain": [
       "<matplotlib.figure.Figure at 0x10f8f2b50>"
      ]
     },
     "metadata": {},
     "output_type": "display_data"
    },
    {
     "name": "stdout",
     "output_type": "stream",
     "text": [
      "0    284315\n",
      "1       492\n",
      "Name: Class, dtype: int64\n"
     ]
    }
   ],
   "source": [
    "# Print a plot of class balance\n",
    "classes = pd.value_counts(data['Class'], sort=True).sort_index()\n",
    "classes.plot(kind = 'bar')\n",
    "plt.show()\n",
    "print classes"
   ]
  },
  {
   "cell_type": "markdown",
   "metadata": {},
   "source": [
    "### Normalise the Amount column and drop the Time column and the old Amount column"
   ]
  },
  {
   "cell_type": "code",
   "execution_count": 4,
   "metadata": {},
   "outputs": [
    {
     "name": "stderr",
     "output_type": "stream",
     "text": [
      "/Users/HarryG1/Documents/University/Year_3/DeepLearning-CreditCardFraud/devEnv/lib/python2.7/site-packages/ipykernel_launcher.py:3: FutureWarning: reshape is deprecated and will raise in a subsequent release. Please use .values.reshape(...) instead\n",
      "  This is separate from the ipykernel package so we can avoid doing imports until\n"
     ]
    },
    {
     "data": {
      "text/html": [
       "<div>\n",
       "<style scoped>\n",
       "    .dataframe tbody tr th:only-of-type {\n",
       "        vertical-align: middle;\n",
       "    }\n",
       "\n",
       "    .dataframe tbody tr th {\n",
       "        vertical-align: top;\n",
       "    }\n",
       "\n",
       "    .dataframe thead th {\n",
       "        text-align: right;\n",
       "    }\n",
       "</style>\n",
       "<table border=\"1\" class=\"dataframe\">\n",
       "  <thead>\n",
       "    <tr style=\"text-align: right;\">\n",
       "      <th></th>\n",
       "      <th>V1</th>\n",
       "      <th>V2</th>\n",
       "      <th>V3</th>\n",
       "      <th>V4</th>\n",
       "      <th>V5</th>\n",
       "      <th>V6</th>\n",
       "      <th>V7</th>\n",
       "      <th>V8</th>\n",
       "      <th>V9</th>\n",
       "      <th>V10</th>\n",
       "      <th>...</th>\n",
       "      <th>V21</th>\n",
       "      <th>V22</th>\n",
       "      <th>V23</th>\n",
       "      <th>V24</th>\n",
       "      <th>V25</th>\n",
       "      <th>V26</th>\n",
       "      <th>V27</th>\n",
       "      <th>V28</th>\n",
       "      <th>Class</th>\n",
       "      <th>norm_Amount</th>\n",
       "    </tr>\n",
       "  </thead>\n",
       "  <tbody>\n",
       "    <tr>\n",
       "      <th>0</th>\n",
       "      <td>-1.359807</td>\n",
       "      <td>-0.072781</td>\n",
       "      <td>2.536347</td>\n",
       "      <td>1.378155</td>\n",
       "      <td>-0.338321</td>\n",
       "      <td>0.462388</td>\n",
       "      <td>0.239599</td>\n",
       "      <td>0.098698</td>\n",
       "      <td>0.363787</td>\n",
       "      <td>0.090794</td>\n",
       "      <td>...</td>\n",
       "      <td>-0.018307</td>\n",
       "      <td>0.277838</td>\n",
       "      <td>-0.110474</td>\n",
       "      <td>0.066928</td>\n",
       "      <td>0.128539</td>\n",
       "      <td>-0.189115</td>\n",
       "      <td>0.133558</td>\n",
       "      <td>-0.021053</td>\n",
       "      <td>0</td>\n",
       "      <td>0.244964</td>\n",
       "    </tr>\n",
       "    <tr>\n",
       "      <th>1</th>\n",
       "      <td>1.191857</td>\n",
       "      <td>0.266151</td>\n",
       "      <td>0.166480</td>\n",
       "      <td>0.448154</td>\n",
       "      <td>0.060018</td>\n",
       "      <td>-0.082361</td>\n",
       "      <td>-0.078803</td>\n",
       "      <td>0.085102</td>\n",
       "      <td>-0.255425</td>\n",
       "      <td>-0.166974</td>\n",
       "      <td>...</td>\n",
       "      <td>-0.225775</td>\n",
       "      <td>-0.638672</td>\n",
       "      <td>0.101288</td>\n",
       "      <td>-0.339846</td>\n",
       "      <td>0.167170</td>\n",
       "      <td>0.125895</td>\n",
       "      <td>-0.008983</td>\n",
       "      <td>0.014724</td>\n",
       "      <td>0</td>\n",
       "      <td>-0.342475</td>\n",
       "    </tr>\n",
       "    <tr>\n",
       "      <th>2</th>\n",
       "      <td>-1.358354</td>\n",
       "      <td>-1.340163</td>\n",
       "      <td>1.773209</td>\n",
       "      <td>0.379780</td>\n",
       "      <td>-0.503198</td>\n",
       "      <td>1.800499</td>\n",
       "      <td>0.791461</td>\n",
       "      <td>0.247676</td>\n",
       "      <td>-1.514654</td>\n",
       "      <td>0.207643</td>\n",
       "      <td>...</td>\n",
       "      <td>0.247998</td>\n",
       "      <td>0.771679</td>\n",
       "      <td>0.909412</td>\n",
       "      <td>-0.689281</td>\n",
       "      <td>-0.327642</td>\n",
       "      <td>-0.139097</td>\n",
       "      <td>-0.055353</td>\n",
       "      <td>-0.059752</td>\n",
       "      <td>0</td>\n",
       "      <td>1.160686</td>\n",
       "    </tr>\n",
       "    <tr>\n",
       "      <th>3</th>\n",
       "      <td>-0.966272</td>\n",
       "      <td>-0.185226</td>\n",
       "      <td>1.792993</td>\n",
       "      <td>-0.863291</td>\n",
       "      <td>-0.010309</td>\n",
       "      <td>1.247203</td>\n",
       "      <td>0.237609</td>\n",
       "      <td>0.377436</td>\n",
       "      <td>-1.387024</td>\n",
       "      <td>-0.054952</td>\n",
       "      <td>...</td>\n",
       "      <td>-0.108300</td>\n",
       "      <td>0.005274</td>\n",
       "      <td>-0.190321</td>\n",
       "      <td>-1.175575</td>\n",
       "      <td>0.647376</td>\n",
       "      <td>-0.221929</td>\n",
       "      <td>0.062723</td>\n",
       "      <td>0.061458</td>\n",
       "      <td>0</td>\n",
       "      <td>0.140534</td>\n",
       "    </tr>\n",
       "    <tr>\n",
       "      <th>4</th>\n",
       "      <td>-1.158233</td>\n",
       "      <td>0.877737</td>\n",
       "      <td>1.548718</td>\n",
       "      <td>0.403034</td>\n",
       "      <td>-0.407193</td>\n",
       "      <td>0.095921</td>\n",
       "      <td>0.592941</td>\n",
       "      <td>-0.270533</td>\n",
       "      <td>0.817739</td>\n",
       "      <td>0.753074</td>\n",
       "      <td>...</td>\n",
       "      <td>-0.009431</td>\n",
       "      <td>0.798278</td>\n",
       "      <td>-0.137458</td>\n",
       "      <td>0.141267</td>\n",
       "      <td>-0.206010</td>\n",
       "      <td>0.502292</td>\n",
       "      <td>0.219422</td>\n",
       "      <td>0.215153</td>\n",
       "      <td>0</td>\n",
       "      <td>-0.073403</td>\n",
       "    </tr>\n",
       "  </tbody>\n",
       "</table>\n",
       "<p>5 rows × 30 columns</p>\n",
       "</div>"
      ],
      "text/plain": [
       "         V1        V2        V3        V4        V5        V6        V7  \\\n",
       "0 -1.359807 -0.072781  2.536347  1.378155 -0.338321  0.462388  0.239599   \n",
       "1  1.191857  0.266151  0.166480  0.448154  0.060018 -0.082361 -0.078803   \n",
       "2 -1.358354 -1.340163  1.773209  0.379780 -0.503198  1.800499  0.791461   \n",
       "3 -0.966272 -0.185226  1.792993 -0.863291 -0.010309  1.247203  0.237609   \n",
       "4 -1.158233  0.877737  1.548718  0.403034 -0.407193  0.095921  0.592941   \n",
       "\n",
       "         V8        V9       V10     ...            V21       V22       V23  \\\n",
       "0  0.098698  0.363787  0.090794     ...      -0.018307  0.277838 -0.110474   \n",
       "1  0.085102 -0.255425 -0.166974     ...      -0.225775 -0.638672  0.101288   \n",
       "2  0.247676 -1.514654  0.207643     ...       0.247998  0.771679  0.909412   \n",
       "3  0.377436 -1.387024 -0.054952     ...      -0.108300  0.005274 -0.190321   \n",
       "4 -0.270533  0.817739  0.753074     ...      -0.009431  0.798278 -0.137458   \n",
       "\n",
       "        V24       V25       V26       V27       V28  Class  norm_Amount  \n",
       "0  0.066928  0.128539 -0.189115  0.133558 -0.021053      0     0.244964  \n",
       "1 -0.339846  0.167170  0.125895 -0.008983  0.014724      0    -0.342475  \n",
       "2 -0.689281 -0.327642 -0.139097 -0.055353 -0.059752      0     1.160686  \n",
       "3 -1.175575  0.647376 -0.221929  0.062723  0.061458      0     0.140534  \n",
       "4  0.141267 -0.206010  0.502292  0.219422  0.215153      0    -0.073403  \n",
       "\n",
       "[5 rows x 30 columns]"
      ]
     },
     "execution_count": 4,
     "metadata": {},
     "output_type": "execute_result"
    }
   ],
   "source": [
    "# Normalise and reshape the Amount column, so it's values lie between -1 and 1\n",
    "from sklearn.preprocessing import StandardScaler\n",
    "data['norm_Amount'] = StandardScaler().fit_transform(data['Amount'].reshape(-1,1))\n",
    "\n",
    "# Drop the old Amount column and also the Time column as we don't want to include this at this stage\n",
    "data = data.drop(['Time', 'Amount'], axis=1)\n",
    "\n",
    "data.head()"
   ]
  },
  {
   "cell_type": "markdown",
   "metadata": {},
   "source": [
    "---\n",
    "## Logistic regression (without sampling)\n",
    "---\n",
    "Let's setup a logistic regression classifier to run on our data."
   ]
  },
  {
   "cell_type": "markdown",
   "metadata": {},
   "source": [
    "### Imports and classifer instantiation "
   ]
  },
  {
   "cell_type": "code",
   "execution_count": 5,
   "metadata": {},
   "outputs": [],
   "source": [
    "from sklearn.linear_model import LogisticRegression\n",
    "from sklearn.model_selection import train_test_split, KFold, cross_val_score\n",
    "from sklearn.metrics import confusion_matrix,precision_recall_curve,auc,roc_auc_score,roc_curve,recall_score,classification_report \n",
    "\n",
    "# Call the logistic regression model with a certain C parameter\n",
    "lr = LogisticRegression(C = 10)"
   ]
  },
  {
   "cell_type": "markdown",
   "metadata": {},
   "source": [
    "### Assign data to x and y and perform a train-test split on the data"
   ]
  },
  {
   "cell_type": "code",
   "execution_count": 6,
   "metadata": {},
   "outputs": [
    {
     "name": "stderr",
     "output_type": "stream",
     "text": [
      "/Users/HarryG1/Documents/University/Year_3/DeepLearning-CreditCardFraud/devEnv/lib/python2.7/site-packages/ipykernel_launcher.py:2: DeprecationWarning: \n",
      ".ix is deprecated. Please use\n",
      ".loc for label based indexing or\n",
      ".iloc for positional indexing\n",
      "\n",
      "See the documentation here:\n",
      "http://pandas.pydata.org/pandas-docs/stable/indexing.html#ix-indexer-is-deprecated\n",
      "  \n"
     ]
    }
   ],
   "source": [
    "# Assign variables x and y corresponding to row data and it's class value\n",
    "X = data.ix[:, data.columns != 'Class']\n",
    "y = data.ix[:, data.columns == 'Class']\n",
    "\n",
    "# Whole dataset, training-test data splitting\n",
    "X_train, X_test, y_train, y_test = train_test_split(X,y,test_size = 0.3, random_state = 0)"
   ]
  },
  {
   "cell_type": "markdown",
   "metadata": {},
   "source": [
    "### Here we perform cross validation\n",
    "The reason we do this is so we compute an average of runs of our classifier, to be confident in it's results. The scoring metric here is defined as F1 as this is the metric we are most interested in. If you wanted the whole confusion matrix metrics performed under cross-val then you would need to essentially run cross-val yourself, looping over iterations and storing the matrix results. For the purposes of this, we'll just look at F1."
   ]
  },
  {
   "cell_type": "code",
   "execution_count": 7,
   "metadata": {},
   "outputs": [
    {
     "name": "stderr",
     "output_type": "stream",
     "text": [
      "/Users/HarryG1/Documents/University/Year_3/DeepLearning-CreditCardFraud/devEnv/lib/python2.7/site-packages/sklearn/utils/validation.py:578: DataConversionWarning: A column-vector y was passed when a 1d array was expected. Please change the shape of y to (n_samples, ), for example using ravel().\n",
      "  y = column_or_1d(y, warn=True)\n"
     ]
    },
    {
     "name": "stdout",
     "output_type": "stream",
     "text": [
      "[ 0.7184466   0.76829268  0.58333333  0.77011494  0.64516129]\n",
      "F1 mean =  0.697069770211\n"
     ]
    }
   ],
   "source": [
    "# CROSS VALIDATION\n",
    "scores = cross_val_score(lr, X, y, scoring='f1', cv=5)\n",
    "print scores\n",
    "print 'F1 mean = ', np.mean(scores)"
   ]
  },
  {
   "cell_type": "markdown",
   "metadata": {},
   "source": [
    "### Fit the data in a single run and print a confusion matrix\n",
    "This is just a single run for the purposes of printing a confusion matrix to give us a visualisation of how the classifer performed."
   ]
  },
  {
   "cell_type": "code",
   "execution_count": 8,
   "metadata": {},
   "outputs": [
    {
     "data": {
      "image/png": "[encoded data removed]",
      "text/plain": [
       "<matplotlib.figure.Figure at 0x116158d90>"
      ]
     },
     "metadata": {},
     "output_type": "display_data"
    }
   ],
   "source": [
    "lr.fit(X_train, y_train)\n",
    "y_pred = lr.predict(X_test)\n",
    "cm = confusion_matrix(y_test, y_pred)\n",
    "class_names = [0,1]\n",
    "\n",
    "\n",
    "plt.figure()\n",
    "plot_confusion_matrix(cm, classes=class_names, title='Confusion matrix')\n",
    "plt.show()"
   ]
  },
  {
   "cell_type": "markdown",
   "metadata": {},
   "source": [
    "### Print classification report"
   ]
  },
  {
   "cell_type": "code",
   "execution_count": 9,
   "metadata": {},
   "outputs": [
    {
     "name": "stdout",
     "output_type": "stream",
     "text": [
      "             precision    recall  f1-score   support\n",
      "\n",
      "          0       1.00      1.00      1.00     85296\n",
      "          1       0.88      0.62      0.73       147\n",
      "\n",
      "avg / total       1.00      1.00      1.00     85443\n",
      "\n"
     ]
    }
   ],
   "source": [
    "\n",
    "from sklearn.metrics import classification_report\n",
    "print classification_report(y_test, y_pred)"
   ]
  },
  {
   "cell_type": "markdown",
   "metadata": {},
   "source": [
    "---\n",
    "### Evaluation\n",
    "\n",
    "So, as we can see, without any sampling techniques on the data, running a simple logistic regression gives us a F1 score average of around 73%. \n",
    "\n",
    "This is not great. That means that nearly 40% of fraudlent cases were incorrectly predicted. \n",
    "\n",
    "---"
   ]
  },
  {
   "cell_type": "markdown",
   "metadata": {},
   "source": [
    "---\n",
    "## Aside on C parameter of Logistic regression\n",
    "---\n",
    "The C parameter of the logistic regression is essentially a regularisation parameter. Increasing the regularisation strength penalises \"large\" weight coefficients. This is mainly so that the model performs better on unseen data and avoids learning anomolies or noise.\n",
    "\n",
    "#### To determine the best value to give this parameter we can do a quick hyper-parameter tuning, namely Grid Search, to find the best value to use:"
   ]
  },
  {
   "cell_type": "code",
   "execution_count": 10,
   "metadata": {},
   "outputs": [
    {
     "name": "stdout",
     "output_type": "stream",
     "text": [
      "Best parameters set found on development set:\n",
      "\n",
      "{'C': 10}\n",
      "\n",
      "Grid scores on development set:\n",
      "\n",
      "0.695 (+/-0.112) for {'C': 0.01}\n",
      "0.717 (+/-0.077) for {'C': 0.1}\n",
      "0.725 (+/-0.072) for {'C': 1}\n",
      "0.727 (+/-0.085) for {'C': 10}\n",
      "0.727 (+/-0.085) for {'C': 100}\n",
      "\n",
      "Detailed classification report:\n",
      "\n",
      "             precision    recall  f1-score   support\n",
      "\n",
      "          0       1.00      1.00      1.00     85296\n",
      "          1       0.88      0.62      0.73       147\n",
      "\n",
      "avg / total       1.00      1.00      1.00     85443\n",
      "\n",
      "\n",
      "The model is trained on the full development set.\n",
      "The scores are computed on the full evaluation set.\n",
      "\n"
     ]
    }
   ],
   "source": [
    "from sklearn.model_selection import GridSearchCV\n",
    "\n",
    "# Call the logistic regression model with a certain C parameter\n",
    "lr = GridSearchCV(LogisticRegression(C = 0.01), {'C':[0.01, 0.1, 1, 10, 100]}, scoring='f1')\n",
    "\n",
    "# Assign variables x and y corresponding to row data and it's class value\n",
    "X = data.ix[:, data.columns != 'Class']\n",
    "y = data.ix[:, data.columns == 'Class']\n",
    "\n",
    "# # Whole dataset, training-test data splitting\n",
    "X_train, X_test, y_train, y_test = train_test_split(X,y,test_size = 0.3, random_state = 0)\n",
    "\n",
    "lr.fit(X_train, y_train)\n",
    "y_pred = lr.predict(X_test)\n",
    "\n",
    "# cm = confusion_matrix(y_test, y_pred)\n",
    "# class_names = [0,1]\n",
    "\n",
    "print(\"Best parameters set found on development set:\")\n",
    "print \"\"\n",
    "print(lr.best_params_)\n",
    "print \"\"\n",
    "print(\"Grid scores on development set:\")\n",
    "print \"\"\n",
    "means = lr.cv_results_['mean_test_score']\n",
    "stds = lr.cv_results_['std_test_score']\n",
    "for mean, std, params in zip(means, stds, lr.cv_results_['params']):\n",
    "    print(\"%0.3f (+/-%0.03f) for %r\"\n",
    "          % (mean, std * 2, params))\n",
    "print \"\"\n",
    "\n",
    "print(\"Detailed classification report:\")\n",
    "print \"\"\n",
    "print classification_report(y_test, y_pred)\n",
    "print \"\"\n",
    "print(\"The model is trained on the full development set.\")\n",
    "print(\"The scores are computed on the full evaluation set.\")\n",
    "print \"\"\n"
   ]
  },
  {
   "cell_type": "markdown",
   "metadata": {},
   "source": [
    "#### So we can see here that C=10 is the best value to use."
   ]
  },
  {
   "cell_type": "markdown",
   "metadata": {},
   "source": [
    "---\n",
    "## Undersampling \n",
    "---\n",
    "#### Here, we will attempt undersampling by reducing the number of the majority class, down to a 50:50 ratio with the minority class"
   ]
  },
  {
   "cell_type": "code",
   "execution_count": 18,
   "metadata": {},
   "outputs": [
    {
     "name": "stdout",
     "output_type": "stream",
     "text": [
      "Number of frauds 492\n",
      "number of non fraud:  284315\n",
      "non_fraud after:  492\n",
      "[ 0.90526316  0.9375      0.90810811  0.95789474  0.91005291]\n",
      "F1 mean =  0.92376378258\n"
     ]
    },
    {
     "name": "stderr",
     "output_type": "stream",
     "text": [
      "/Users/HarryG1/Documents/University/Year_3/DeepLearning-CreditCardFraud/devEnv/lib/python2.7/site-packages/ipykernel_launcher.py:17: DeprecationWarning: \n",
      ".ix is deprecated. Please use\n",
      ".loc for label based indexing or\n",
      ".iloc for positional indexing\n",
      "\n",
      "See the documentation here:\n",
      "http://pandas.pydata.org/pandas-docs/stable/indexing.html#ix-indexer-is-deprecated\n"
     ]
    },
    {
     "data": {
      "image/png": "[encoded data removed]",
      "text/plain": [
       "<matplotlib.figure.Figure at 0x112d61510>"
      ]
     },
     "metadata": {},
     "output_type": "display_data"
    },
    {
     "name": "stdout",
     "output_type": "stream",
     "text": [
      "             precision    recall  f1-score   support\n",
      "\n",
      "          0       0.92      0.95      0.94       147\n",
      "          1       0.95      0.92      0.94       149\n",
      "\n",
      "avg / total       0.94      0.94      0.94       296\n",
      "\n"
     ]
    }
   ],
   "source": [
    "fraud_indices = np.array(data[data.Class == 1].index)\n",
    "print 'Number of frauds', len(fraud_indices)\n",
    "\n",
    "non_fraud = data[data.Class==0]\n",
    "fraud = data[data.Class==1]\n",
    "\n",
    "print 'number of non fraud: ', len(non_fraud)\n",
    "non_fraud = non_fraud.loc[np.random.choice(non_fraud.index, len(fraud_indices), replace=False)]\n",
    "\n",
    "undersampled_data = pd.concat([non_fraud, fraud])\n",
    "print 'non_fraud after: ', len(non_fraud)\n",
    "\n",
    "# Call the logistic regression model with a certain C parameter\n",
    "lr = LogisticRegression(C = 10)\n",
    "\n",
    "# Assign variables x and y corresponding to row data and it's class value\n",
    "X = undersampled_data.ix[:, data.columns != 'Class']\n",
    "y = undersampled_data.ix[:, data.columns == 'Class']\n",
    "\n",
    "# Whole dataset, training-test data splitting\n",
    "X_train, X_test, y_train, y_test = train_test_split(X,y,test_size = 0.3, random_state = 0)\n",
    "\n",
    "# CROSS VALIDATION\n",
    "scores = cross_val_score(lr, X, y, scoring='f1', cv=5)\n",
    "print scores\n",
    "print 'F1 mean = ', np.mean(scores)\n",
    "\n",
    "lr.fit(X_train, y_train)\n",
    "y_pred = lr.predict(X_test)\n",
    "cm = confusion_matrix(y_test, y_pred)\n",
    "class_names = [0,1]\n",
    "\n",
    "\n",
    "plt.figure()\n",
    "plot_confusion_matrix(cm, classes=class_names, title='Confusion matrix')\n",
    "plt.show()\n",
    "\n",
    "from sklearn.metrics import classification_report\n",
    "print classification_report(y_test, y_pred)\n",
    "\n"
   ]
  },
  {
   "cell_type": "markdown",
   "metadata": {},
   "source": [
    "### Evaluation \n",
    "\n",
    "#### As we can see, by bringing the data to a 50:50 ratio, we bring the recall performance up to 88% average! up from 60%.\n",
    "This is a significant increase."
   ]
  },
  {
   "cell_type": "markdown",
   "metadata": {},
   "source": [
    "---\n",
    "## Oversampling \n",
    "---\n",
    "\n",
    "Next, we want to try oversampling techniques. This is where the minority class (the fraudulent cases) is scaled up in size, to compare more equally with the number of the majority class. "
   ]
  },
  {
   "cell_type": "markdown",
   "metadata": {},
   "source": [
    "#### A way we can do this is by random oversampling, which randomly duplicates data. Let's see how this performs..."
   ]
  },
  {
   "cell_type": "code",
   "execution_count": 17,
   "metadata": {},
   "outputs": [
    {
     "name": "stdout",
     "output_type": "stream",
     "text": [
      "Original dataset shape Counter({0: 284315, 1: 492})\n",
      "Resampled training dataset shape Counter({0: 284315, 1: 284315})\n",
      "[ 0.7184466   0.76829268  0.58333333  0.77011494  0.64516129]\n",
      "F1 mean =  0.697069770211\n"
     ]
    },
    {
     "data": {
      "image/png": "[encoded data removed]",
      "text/plain": [
       "<matplotlib.figure.Figure at 0x11327b950>"
      ]
     },
     "metadata": {},
     "output_type": "display_data"
    },
    {
     "name": "stdout",
     "output_type": "stream",
     "text": [
      "             precision    recall  f1-score   support\n",
      "\n",
      "          0       0.93      0.98      0.95     85172\n",
      "          1       0.98      0.92      0.95     85417\n",
      "\n",
      "avg / total       0.95      0.95      0.95    170589\n",
      "\n"
     ]
    }
   ],
   "source": [
    "# Assign variables x and y corresponding to row data and it's class value\n",
    "X = data.ix[:, data.columns != 'Class']\n",
    "y = data.ix[:, data.columns == 'Class']\n",
    "\n",
    "# Setup oversampler and print new data shape\n",
    "from collections import Counter\n",
    "from imblearn.over_sampling import RandomOverSampler \n",
    "ros = RandomOverSampler(random_state=1)\n",
    "X_res, y_res = ros.fit_sample(X, y)\n",
    "print('Original dataset shape {}'.format(Counter(data['Class'])))\n",
    "print('Resampled training dataset shape {}'.format(Counter(y_res)))\n",
    "\n",
    "\n",
    "# Whole dataset, training-test data splitting\n",
    "X_train, X_test, y_train, y_test = train_test_split(X_res,y_res,test_size = 0.3, random_state = 0)\n",
    "\n",
    "# CROSS VALIDATION - NOW ONLY ON TRAINING DATA *\n",
    "scores = cross_val_score(lr, X, y, scoring='f1', cv=5)\n",
    "print scores\n",
    "print 'F1 mean = ', np.mean(scores)\n",
    "\n",
    "lr.fit(X_train, y_train)\n",
    "y_pred = lr.predict(X_test)\n",
    "cm = confusion_matrix(y_test, y_pred)\n",
    "class_names = [0,1]\n",
    "\n",
    "\n",
    "plt.figure()\n",
    "plot_confusion_matrix(cm, classes=class_names, title='Confusion matrix')\n",
    "plt.show()\n",
    "\n",
    "from sklearn.metrics import classification_report\n",
    "print classification_report(y_test, y_pred)"
   ]
  },
  {
   "cell_type": "markdown",
   "metadata": {},
   "source": [
    "### Evaluation \n",
    "\n",
    "#### Oversampling definitely seems to perform slightly better than undersampling here.  We bring the recall performance up to 92% average, fairly conclusively.\n"
   ]
  },
  {
   "cell_type": "markdown",
   "metadata": {},
   "source": [
    "### NOTE: However we have to think whether this is wise. Simply duplicating data means that model has potential to cheat. Some of the test data in the test-train split will be the same data as in training. This means that there is likely to be some bias in predictions. \n",
    "\n",
    "#### How to overcome? - Instead of oversampling straight away, we should SPLIT the data into test-train FIRST and THEN apply oversampling. This means we have less test data but it is TRUE test data that has not been seen before by the model. \n",
    "\n",
    "#### Let's retry this random oversampling but sampling ONLY the training data..."
   ]
  },
  {
   "cell_type": "markdown",
   "metadata": {},
   "source": [
    "---\n",
    "## Oversampling ( Preserving test data - oversampling training data only)\n",
    "---"
   ]
  },
  {
   "cell_type": "markdown",
   "metadata": {},
   "source": [
    "#### The code will look almost identical to before, just a shift in the order of events:"
   ]
  },
  {
   "cell_type": "code",
   "execution_count": 19,
   "metadata": {},
   "outputs": [],
   "source": [
    "# Assign variables x and y corresponding to row data and it's class value\n",
    "X = data.ix[:, data.columns != 'Class']\n",
    "y = data.ix[:, data.columns == 'Class']"
   ]
  },
  {
   "cell_type": "markdown",
   "metadata": {},
   "source": [
    "#### Swap the order of data splitting and oversampling"
   ]
  },
  {
   "cell_type": "code",
   "execution_count": 20,
   "metadata": {},
   "outputs": [
    {
     "name": "stdout",
     "output_type": "stream",
     "text": [
      "Original dataset shape Counter({0: 284315, 1: 492})\n",
      "Training dataset shape Counter({0: 199019, 1: 345})\n",
      "Resampled training dataset shape Counter({0: 199019, 1: 199019})\n"
     ]
    }
   ],
   "source": [
    "# Whole dataset, training-test data splitting\n",
    "X_train, X_test, y_train, y_test = train_test_split(X,y,test_size = 0.3, random_state = 0)\n",
    "\n",
    "from collections import Counter\n",
    "from imblearn.over_sampling import RandomOverSampler \n",
    "ros = RandomOverSampler(random_state=1)\n",
    "X_res, y_res = ros.fit_sample(X_train, y_train)\n",
    "print('Original dataset shape {}'.format(Counter(data['Class'])))\n",
    "print('Training dataset shape {}'.format(Counter(y_train['Class'])))\n",
    "print('Resampled training dataset shape {}'.format(Counter(y_res)))"
   ]
  },
  {
   "cell_type": "markdown",
   "metadata": {},
   "source": [
    "#### As we see, the shape of the data is an equal, but less than 284315 split. This is because we are resampling the TRAINING data only. This then leaves 147 fraud cases for testing, as seen in the confusion matric results below.\n",
    "\n",
    "EXTENSION: Experiment with variations on fraud test data. I.e. Take a lower amount of fraud training data and oversample, leaving more 'True' fraud data for testing and see if there is any better performance.\n",
    "\n",
    "\n",
    "#### Then do as usual, cross validate and print metrics"
   ]
  },
  {
   "cell_type": "code",
   "execution_count": 22,
   "metadata": {},
   "outputs": [
    {
     "name": "stdout",
     "output_type": "stream",
     "text": [
      "[ 0.94351454  0.94433796  0.94443437  0.94459841  0.94653665]\n",
      "F1 mean =  0.944684384668\n"
     ]
    },
    {
     "data": {
      "image/png": "[encoded data removed]",
      "text/plain": [
       "<matplotlib.figure.Figure at 0x112d6c5d0>"
      ]
     },
     "metadata": {},
     "output_type": "display_data"
    },
    {
     "name": "stdout",
     "output_type": "stream",
     "text": [
      "             precision    recall  f1-score   support\n",
      "\n",
      "          0       1.00      0.98      0.99     85296\n",
      "          1       0.06      0.91      0.12       147\n",
      "\n",
      "avg / total       1.00      0.98      0.99     85443\n",
      "\n"
     ]
    }
   ],
   "source": [
    "# CROSS VALIDATION\n",
    "scores = cross_val_score(lr, X_res, y_res, scoring='f1', cv=5)\n",
    "print scores\n",
    "print 'F1 mean = ', np.mean(scores)\n",
    "\n",
    "lr.fit(X_res, y_res)\n",
    "y_pred = lr.predict(X_test)\n",
    "cm = confusion_matrix(y_test, y_pred)\n",
    "class_names = [0,1]\n",
    "\n",
    "\n",
    "plt.figure()\n",
    "plot_confusion_matrix(cm, classes=class_names, title='Confusion matrix')\n",
    "plt.show()\n",
    "\n",
    "from sklearn.metrics import classification_report\n",
    "print classification_report(y_test, y_pred)"
   ]
  },
  {
   "cell_type": "markdown",
   "metadata": {},
   "source": [
    "### Evaluation \n",
    "\n",
    "#### Oversampling on training data only seems to perform approximately the same, if not slightly less. This is to be expected however, as the hypothesis was that by oversampling the entire dataset, some of our duplicates were 'leaking' into our test sets which could have created some slight bias. \n",
    "\n",
    "#### So for the purposes of Oversampling by Random, duplication, I would conclude that moving forward with the second method is absolutely fine given the intuition and empirical result."
   ]
  },
  {
   "cell_type": "markdown",
   "metadata": {},
   "source": [
    "---\n",
    "## SMOTE ( Preserving test data - oversampling training data only)\n",
    "---\n",
    "\n",
    "### Now we try the SMOTE method (Synthetic Minority Oversampling Technique). \n",
    "#### This will oversample our minority data in a similar fashion as before, except the new data will be synthetic ones, which means fraudulent data will be slightly modified (i.e noise added, tweak of value etc) to create new examples.\n",
    "\n",
    "#### The procedure is similar to before, sampling training data only to preserve test data"
   ]
  },
  {
   "cell_type": "code",
   "execution_count": 34,
   "metadata": {},
   "outputs": [
    {
     "name": "stdout",
     "output_type": "stream",
     "text": [
      "Original dataset shape Counter({0: 284315, 1: 492})\n",
      "Training dataset shape Counter({0: 199013, 1: 351})\n",
      "Resampled training dataset shape Counter({0: 199013, 1: 199013})\n",
      "[ 0.94455464  0.94354421  0.94324048  0.94478639  0.94327122]\n",
      "F1 mean =  0.943879387236\n"
     ]
    },
    {
     "data": {
      "image/png": "[encoded data removed]",
      "text/plain": [
       "<matplotlib.figure.Figure at 0x11b4b7e50>"
      ]
     },
     "metadata": {},
     "output_type": "display_data"
    },
    {
     "name": "stdout",
     "output_type": "stream",
     "text": [
      "             precision    recall  f1-score   support\n",
      "\n",
      "          0       1.00      0.97      0.99     85302\n",
      "          1       0.06      0.91      0.11       141\n",
      "\n",
      "avg / total       1.00      0.97      0.99     85443\n",
      "\n"
     ]
    }
   ],
   "source": [
    "# Assign variables x and y corresponding to row data and it's class value\n",
    "X = data.ix[:, data.columns != 'Class']\n",
    "y = data.ix[:, data.columns == 'Class']\n",
    "\n",
    "\n",
    "# Whole dataset, training-test data splitting\n",
    "X_train, X_test, y_train, y_test = train_test_split(X,y,test_size = 0.3)\n",
    "\n",
    "from collections import Counter\n",
    "from imblearn.over_sampling import SMOTE\n",
    "sm = SMOTE(random_state=1)\n",
    "X_res, y_res = sm.fit_sample(X_train, y_train)\n",
    "print('Original dataset shape {}'.format(Counter(data['Class'])))\n",
    "print('Training dataset shape {}'.format(Counter(y_train['Class'])))\n",
    "print('Resampled training dataset shape {}'.format(Counter(y_res)))\n",
    "\n",
    "# CROSS VALIDATION\n",
    "scores = cross_val_score(lr, X_res, y_res, scoring='f1', cv=5)\n",
    "print scores\n",
    "print 'F1 mean = ', np.mean(scores)\n",
    "\n",
    "lr.fit(X_res, y_res)\n",
    "y_pred = lr.predict(X_test)\n",
    "cm = confusion_matrix(y_test, y_pred)\n",
    "class_names = [0,1]\n",
    "\n",
    "\n",
    "plt.figure()\n",
    "plot_confusion_matrix(cm, classes=class_names, title='Confusion matrix')\n",
    "plt.show()\n",
    "\n",
    "from sklearn.metrics import classification_report\n",
    "print classification_report(y_test, y_pred)"
   ]
  },
  {
   "cell_type": "markdown",
   "metadata": {},
   "source": [
    "### Evaluation \n",
    "\n",
    "#### Oversampling on training data using SMOTE seems to perform approximately the same. "
   ]
  },
  {
   "cell_type": "code",
   "execution_count": 25,
   "metadata": {},
   "outputs": [],
   "source": [
    "def smote_data(x_data, y_data):\n",
    "    from collections import Counter\n",
    "    from imblearn.over_sampling import SMOTE\n",
    "    sm = SMOTE()\n",
    "    X_res, y_res = sm.fit_sample(x_data, y_data)\n",
    "    print('Resampling the data with SMOTE. . .')\n",
    "    print('Resampled training dataset shape {}'.format(Counter(y_res)))\n",
    "\n",
    "    return X_res, y_res"
   ]
  },
  {
   "cell_type": "code",
   "execution_count": 26,
   "metadata": {},
   "outputs": [],
   "source": [
    "def custom_cross_val_2(X, y, clf, n):\n",
    "    from sklearn.model_selection import StratifiedKFold\n",
    "    from sklearn.base import clone\n",
    "    import datetime\n",
    "    from sklearn.metrics import precision_recall_fscore_support\n",
    "    \n",
    "    print 'Cross validating... \\n'\n",
    "    skfolds = StratifiedKFold(n_splits=n, random_state=42)\n",
    "    \n",
    "    precision = []\n",
    "    recall = []\n",
    "    f1score = []\n",
    "    elapsed_times = []\n",
    "    cv = 0\n",
    "    name = clf.__class__.__name__\n",
    "    \n",
    "    for train_index, test_index in skfolds.split(X, y):\n",
    "        cv=cv+1\n",
    "        print len(train_index)\n",
    "        clone_clf = clone(clf)\n",
    "        X_train_folds = X.iloc[train_index]\n",
    "        y_train_folds = y.iloc[train_index]\n",
    "        X_test_fold = X.iloc[test_index]\n",
    "        y_test_fold = y.iloc[test_index]\n",
    "        \n",
    "        print len(y_train_folds[y_train_folds['Class']==1])\n",
    "        X_res, y_res = smote_data(X_train_folds, y_train_folds )\n",
    "        \n",
    "        \n",
    "        \n",
    "        start = datetime.datetime.now()\n",
    "        \n",
    "        print('Fitting the model... CV[{}]'.format(cv))\n",
    "        clone_clf.fit(X_res, y_res)\n",
    "        \n",
    "        end = datetime.datetime.now()\n",
    "        elapsed = end - start\n",
    "        elapsed_times.append(elapsed)\n",
    "        \n",
    "        y_pred = clone_clf.predict(X_test_fold)\n",
    "        \n",
    "        prfs = precision_recall_fscore_support(y_test_fold, y_pred, pos_label=1, average='binary')\n",
    "        \n",
    "        precision.append(prfs[0])\n",
    "        recall.append(prfs[1])\n",
    "        f1score.append(prfs[2])\n",
    "        \n",
    "        \n",
    "    \n",
    "    average_timedelta = sum(elapsed_times, datetime.timedelta(0)) / len(elapsed_times)\n",
    "    entry = [name, np.mean(f1score), np.mean(precision), np.mean(recall), average_timedelta]\n",
    "    print('Mean scores: ', entry )\n",
    "    return entry"
   ]
  },
  {
   "cell_type": "code",
   "execution_count": 28,
   "metadata": {},
   "outputs": [
    {
     "name": "stdout",
     "output_type": "stream",
     "text": [
      "Cross validating... \n",
      "\n",
      "227845\n",
      "393\n",
      "Resampling the data with SMOTE. . .\n",
      "Resampled training dataset shape Counter({0: 227452, 1: 227452})\n",
      "Fitting the model... CV[1]\n",
      "227845\n",
      "393\n",
      "Resampling the data with SMOTE. . .\n",
      "Resampled training dataset shape Counter({0: 227452, 1: 227452})\n",
      "Fitting the model... CV[2]\n",
      "227846\n",
      "394\n",
      "Resampling the data with SMOTE. . .\n",
      "Resampled training dataset shape Counter({0: 227452, 1: 227452})\n",
      "Fitting the model... CV[3]\n",
      "227846\n",
      "394\n",
      "Resampling the data with SMOTE. . .\n",
      "Resampled training dataset shape Counter({0: 227452, 1: 227452})\n",
      "Fitting the model... CV[4]\n",
      "227846\n",
      "394\n",
      "Resampling the data with SMOTE. . .\n",
      "Resampled training dataset shape Counter({0: 227452, 1: 227452})\n",
      "Fitting the model... CV[5]\n",
      "('Mean scores: ', ['LogisticRegression', 0.11136541674423021, 0.05974964355476492, 0.8902082044939188, datetime.timedelta(0, 5, 947349)])\n",
      "['LogisticRegression', 0.11136541674423021, 0.05974964355476492, 0.8902082044939188, datetime.timedelta(0, 5, 947349)]\n",
      "F1 mean =  0.111365416744\n"
     ]
    }
   ],
   "source": [
    "# CROSS VALIDATION\n",
    "scores = custom_cross_val_2(X, y,lr, 5)\n",
    "print scores\n",
    "print 'F1 mean = ', scores[1]"
   ]
  },
  {
   "cell_type": "code",
   "execution_count": 35,
   "metadata": {},
   "outputs": [],
   "source": [
    "def oversample_data(x_data, y_data):\n",
    "\n",
    "    from collections import Counter\n",
    "    from imblearn.over_sampling import RandomOverSampler \n",
    "    ros = RandomOverSampler(random_state=1)\n",
    "    X_res, y_res = ros.fit_sample(x_data, y_data)\n",
    "    print('Original dataset shape {}'.format(Counter(data['Class'])))\n",
    "    print('Training dataset shape {}'.format(Counter(y_train['Class'])))\n",
    "    print('Resampled training dataset shape {}'.format(Counter(y_res)))\n",
    "\n",
    "    return X_res, y_res"
   ]
  },
  {
   "cell_type": "code",
   "execution_count": 36,
   "metadata": {},
   "outputs": [],
   "source": [
    "def custom_cross_val_3(X, y, clf, n):\n",
    "    from sklearn.model_selection import StratifiedKFold\n",
    "    from sklearn.base import clone\n",
    "    import datetime\n",
    "    from sklearn.metrics import precision_recall_fscore_support\n",
    "    \n",
    "    print 'Cross validating... \\n'\n",
    "    skfolds = StratifiedKFold(n_splits=n, random_state=42)\n",
    "    \n",
    "    precision = []\n",
    "    recall = []\n",
    "    f1score = []\n",
    "    elapsed_times = []\n",
    "    cv = 0\n",
    "    name = clf.__class__.__name__\n",
    "    \n",
    "    for train_index, test_index in skfolds.split(X, y):\n",
    "        cv=cv+1\n",
    "        print len(train_index)\n",
    "        clone_clf = clone(clf)\n",
    "        X_train_folds = X.iloc[train_index]\n",
    "        y_train_folds = y.iloc[train_index]\n",
    "        X_test_fold = X.iloc[test_index]\n",
    "        y_test_fold = y.iloc[test_index]\n",
    "        \n",
    "        print len(y_train_folds[y_train_folds['Class']==1])\n",
    "        X_res, y_res = oversample_data(X_train_folds, y_train_folds )\n",
    "        \n",
    "        \n",
    "        \n",
    "        start = datetime.datetime.now()\n",
    "        \n",
    "        print('Fitting the model... CV[{}]'.format(cv))\n",
    "        clone_clf.fit(X_res, y_res)\n",
    "        \n",
    "        end = datetime.datetime.now()\n",
    "        elapsed = end - start\n",
    "        elapsed_times.append(elapsed)\n",
    "        \n",
    "        y_pred = clone_clf.predict(X_test_fold)\n",
    "        \n",
    "        prfs = precision_recall_fscore_support(y_test_fold, y_pred, pos_label=1, average='binary')\n",
    "        \n",
    "        precision.append(prfs[0])\n",
    "        recall.append(prfs[1])\n",
    "        f1score.append(prfs[2])\n",
    "        \n",
    "        \n",
    "    \n",
    "    average_timedelta = sum(elapsed_times, datetime.timedelta(0)) / len(elapsed_times)\n",
    "    entry = [name, np.mean(f1score), np.mean(precision), np.mean(recall), average_timedelta]\n",
    "    print('Mean scores: ', entry )\n",
    "    return entry"
   ]
  },
  {
   "cell_type": "code",
   "execution_count": 37,
   "metadata": {},
   "outputs": [
    {
     "name": "stdout",
     "output_type": "stream",
     "text": [
      "Cross validating... \n",
      "\n",
      "227845\n",
      "393\n",
      "Original dataset shape Counter({0: 284315, 1: 492})\n",
      "Training dataset shape Counter({0: 199013, 1: 351})\n",
      "Resampled training dataset shape Counter({0: 227452, 1: 227452})\n",
      "Fitting the model... CV[1]\n",
      "227845\n",
      "393\n",
      "Original dataset shape Counter({0: 284315, 1: 492})\n",
      "Training dataset shape Counter({0: 199013, 1: 351})\n",
      "Resampled training dataset shape Counter({0: 227452, 1: 227452})\n",
      "Fitting the model... CV[2]\n",
      "227846\n",
      "394\n",
      "Original dataset shape Counter({0: 284315, 1: 492})\n",
      "Training dataset shape Counter({0: 199013, 1: 351})\n",
      "Resampled training dataset shape Counter({0: 227452, 1: 227452})\n",
      "Fitting the model... CV[3]\n",
      "227846\n",
      "394\n",
      "Original dataset shape Counter({0: 284315, 1: 492})\n",
      "Training dataset shape Counter({0: 199013, 1: 351})\n",
      "Resampled training dataset shape Counter({0: 227452, 1: 227452})\n",
      "Fitting the model... CV[4]\n",
      "227846\n",
      "394\n",
      "Original dataset shape Counter({0: 284315, 1: 492})\n",
      "Training dataset shape Counter({0: 199013, 1: 351})\n",
      "Resampled training dataset shape Counter({0: 227452, 1: 227452})\n",
      "Fitting the model... CV[5]\n",
      "('Mean scores: ', ['LogisticRegression', 0.11623623449852916, 0.062614185797477295, 0.90032982890125746, datetime.timedelta(0, 5, 275111)])\n"
     ]
    }
   ],
   "source": [
    "scores = custom_cross_val_3(X, y, lr, 5)"
   ]
  },
  {
   "cell_type": "code",
   "execution_count": 38,
   "metadata": {
    "scrolled": true
   },
   "outputs": [
    {
     "name": "stdout",
     "output_type": "stream",
     "text": [
      "Cross validating... \n",
      "\n",
      "256325\n",
      "442\n",
      "Resampling the data with SMOTE. . .\n",
      "Resampled training dataset shape Counter({0: 255883, 1: 255883})\n",
      "Fitting the model... CV[1]\n",
      "256325\n",
      "442\n",
      "Resampling the data with SMOTE. . .\n",
      "Resampled training dataset shape Counter({0: 255883, 1: 255883})\n",
      "Fitting the model... CV[2]\n",
      "256326\n",
      "443\n",
      "Resampling the data with SMOTE. . .\n",
      "Resampled training dataset shape Counter({0: 255883, 1: 255883})\n",
      "Fitting the model... CV[3]\n",
      "256326\n",
      "443\n",
      "Resampling the data with SMOTE. . .\n",
      "Resampled training dataset shape Counter({0: 255883, 1: 255883})\n",
      "Fitting the model... CV[4]\n",
      "256326\n",
      "443\n",
      "Resampling the data with SMOTE. . .\n",
      "Resampled training dataset shape Counter({0: 255883, 1: 255883})\n",
      "Fitting the model... CV[5]\n",
      "256327\n",
      "443\n",
      "Resampling the data with SMOTE. . .\n",
      "Resampled training dataset shape Counter({0: 255884, 1: 255884})\n",
      "Fitting the model... CV[6]\n",
      "256327\n",
      "443\n",
      "Resampling the data with SMOTE. . .\n",
      "Resampled training dataset shape Counter({0: 255884, 1: 255884})\n",
      "Fitting the model... CV[7]\n",
      "256327\n",
      "443\n",
      "Resampling the data with SMOTE. . .\n",
      "Resampled training dataset shape Counter({0: 255884, 1: 255884})\n",
      "Fitting the model... CV[8]\n",
      "256327\n",
      "443\n",
      "Resampling the data with SMOTE. . .\n",
      "Resampled training dataset shape Counter({0: 255884, 1: 255884})\n",
      "Fitting the model... CV[9]\n",
      "256327\n",
      "443\n",
      "Resampling the data with SMOTE. . .\n",
      "Resampled training dataset shape Counter({0: 255884, 1: 255884})\n",
      "Fitting the model... CV[10]\n",
      "('Mean scores: ', ['LogisticRegression', 0.11092022946688154, 0.059684765875965239, 0.87628571428571433, datetime.timedelta(0, 6, 112225)])\n"
     ]
    }
   ],
   "source": [
    "scores = custom_cross_val_2(X, y,lr, 10)"
   ]
  },
  {
   "cell_type": "code",
   "execution_count": 39,
   "metadata": {},
   "outputs": [
    {
     "name": "stdout",
     "output_type": "stream",
     "text": [
      "Cross validating... \n",
      "\n",
      "256325\n",
      "442\n",
      "Original dataset shape Counter({0: 284315, 1: 492})\n",
      "Training dataset shape Counter({0: 199013, 1: 351})\n",
      "Resampled training dataset shape Counter({0: 255883, 1: 255883})\n",
      "Fitting the model... CV[1]\n",
      "256325\n",
      "442\n",
      "Original dataset shape Counter({0: 284315, 1: 492})\n",
      "Training dataset shape Counter({0: 199013, 1: 351})\n",
      "Resampled training dataset shape Counter({0: 255883, 1: 255883})\n",
      "Fitting the model... CV[2]\n",
      "256326\n",
      "443\n",
      "Original dataset shape Counter({0: 284315, 1: 492})\n",
      "Training dataset shape Counter({0: 199013, 1: 351})\n",
      "Resampled training dataset shape Counter({0: 255883, 1: 255883})\n",
      "Fitting the model... CV[3]\n",
      "256326\n",
      "443\n",
      "Original dataset shape Counter({0: 284315, 1: 492})\n",
      "Training dataset shape Counter({0: 199013, 1: 351})\n",
      "Resampled training dataset shape Counter({0: 255883, 1: 255883})\n",
      "Fitting the model... CV[4]\n",
      "256326\n",
      "443\n",
      "Original dataset shape Counter({0: 284315, 1: 492})\n",
      "Training dataset shape Counter({0: 199013, 1: 351})\n",
      "Resampled training dataset shape Counter({0: 255883, 1: 255883})\n",
      "Fitting the model... CV[5]\n",
      "256327\n",
      "443\n",
      "Original dataset shape Counter({0: 284315, 1: 492})\n",
      "Training dataset shape Counter({0: 199013, 1: 351})\n",
      "Resampled training dataset shape Counter({0: 255884, 1: 255884})\n",
      "Fitting the model... CV[6]\n",
      "256327\n",
      "443\n",
      "Original dataset shape Counter({0: 284315, 1: 492})\n",
      "Training dataset shape Counter({0: 199013, 1: 351})\n",
      "Resampled training dataset shape Counter({0: 255884, 1: 255884})\n",
      "Fitting the model... CV[7]\n",
      "256327\n",
      "443\n",
      "Original dataset shape Counter({0: 284315, 1: 492})\n",
      "Training dataset shape Counter({0: 199013, 1: 351})\n",
      "Resampled training dataset shape Counter({0: 255884, 1: 255884})\n",
      "Fitting the model... CV[8]\n",
      "256327\n",
      "443\n",
      "Original dataset shape Counter({0: 284315, 1: 492})\n",
      "Training dataset shape Counter({0: 199013, 1: 351})\n",
      "Resampled training dataset shape Counter({0: 255884, 1: 255884})\n",
      "Fitting the model... CV[9]\n",
      "256327\n",
      "443\n",
      "Original dataset shape Counter({0: 284315, 1: 492})\n",
      "Training dataset shape Counter({0: 199013, 1: 351})\n",
      "Resampled training dataset shape Counter({0: 255884, 1: 255884})\n",
      "Fitting the model... CV[10]\n",
      "('Mean scores: ', ['LogisticRegression', 0.11956608464831955, 0.064831910865825529, 0.88028571428571423, datetime.timedelta(0, 6, 157322)])\n"
     ]
    }
   ],
   "source": [
    "scores = custom_cross_val_3(X, y,lr, 10)"
   ]
  },
  {
   "cell_type": "code",
   "execution_count": 2,
   "metadata": {},
   "outputs": [],
   "source": [
    "import pandas as pd\n",
    "import matplotlib.pyplot as plt\n",
    "import numpy as np\n",
    "import itertools\n",
    "\n",
    "data = data = pd.read_csv(\"creditcard.csv\")\n",
    "\n",
    "# Call the logistic regression model with a certain C parameter\n",
    "lr = LogisticRegression(C = 10)"
   ]
  },
  {
   "cell_type": "code",
   "execution_count": 3,
   "metadata": {},
   "outputs": [],
   "source": [
    "def undersample_data(data):\n",
    "\n",
    "    fraud_indices = np.array(data[data.Class == 1].index)\n",
    "    print 'Number of frauds', len(fraud_indices)\n",
    "\n",
    "    non_fraud = data[data.Class==0]\n",
    "    fraud = data[data.Class==1]\n",
    "\n",
    "    print 'number of non fraud: ', len(non_fraud)\n",
    "    non_fraud = non_fraud.loc[np.random.choice(non_fraud.index, len(fraud_indices), replace=False)]\n",
    "\n",
    "    undersampled_data = pd.concat([non_fraud, fraud])\n",
    "    print 'non_fraud after: ', len(non_fraud)\n",
    "\n",
    "    # Assign variables x and y corresponding to row data and it's class value\n",
    "    X = undersampled_data.ix[:, data.columns != 'Class']\n",
    "    y = undersampled_data.ix[:, data.columns == 'Class']\n",
    "    \n",
    "    return X, y"
   ]
  },
  {
   "cell_type": "code",
   "execution_count": 24,
   "metadata": {},
   "outputs": [],
   "source": [
    "def custom_cross_val_under(data, clf, n):\n",
    "    from sklearn.model_selection import StratifiedKFold\n",
    "    from sklearn.base import clone\n",
    "    import datetime\n",
    "    from sklearn.metrics import precision_recall_fscore_support\n",
    "    \n",
    "    print 'Cross validating... \\n'\n",
    "    skfolds = StratifiedKFold(n_splits=n, random_state=42)\n",
    "    \n",
    "    precision = []\n",
    "    recall = []\n",
    "    f1score = []\n",
    "    elapsed_times = []\n",
    "    cv = 0\n",
    "    name = clf.__class__.__name__\n",
    "    \n",
    "    # Assign variables x and y corresponding to row data and it's class value\n",
    "    X,y = undersample_data(data)\n",
    "    \n",
    "    for train_index, test_index in skfolds.split(X, y):\n",
    "        cv=cv+1\n",
    "        print 'training length: ', len(train_index)\n",
    "        clone_clf = clone(clf)\n",
    "        X_train_folds = X.iloc[train_index]\n",
    "        y_train_folds = y.iloc[train_index]\n",
    "        X_test_fold = X.iloc[test_index]\n",
    "        y_test_fold = y.iloc[test_index]\n",
    "        \n",
    "        print 'fraud training length', len(y_train_folds[y_train_folds['Class']==1])\n",
    "        print 'test length', len(y_test_fold)\n",
    "        X_res, y_res = X_train_folds, y_train_folds\n",
    "        \n",
    "        start = datetime.datetime.now()\n",
    "        \n",
    "        print('Fitting the model... CV[{}]'.format(cv))\n",
    "        clone_clf.fit(X_res, y_res)\n",
    "        \n",
    "        end = datetime.datetime.now()\n",
    "        elapsed = end - start\n",
    "        elapsed_times.append(elapsed)\n",
    "        \n",
    "        y_pred = clone_clf.predict(X_test_fold)\n",
    "        \n",
    "        prfs = precision_recall_fscore_support(y_test_fold, y_pred, pos_label=1, average='binary')\n",
    "        \n",
    "        precision.append(prfs[0])\n",
    "        recall.append(prfs[1])\n",
    "        f1score.append(prfs[2])\n",
    "        \n",
    "        \n",
    "    \n",
    "    average_timedelta = sum(elapsed_times, datetime.timedelta(0)) / len(elapsed_times)\n",
    "    entry = [name, np.mean(f1score), np.mean(precision), np.mean(recall), average_timedelta]\n",
    "    print('Mean scores: ', entry )\n",
    "    return entry"
   ]
  },
  {
   "cell_type": "code",
   "execution_count": 9,
   "metadata": {},
   "outputs": [],
   "source": [
    "def custom_cross_val_original(data, clf, n):\n",
    "    from sklearn.model_selection import StratifiedKFold\n",
    "    from sklearn.base import clone\n",
    "    import datetime\n",
    "    from sklearn.metrics import precision_recall_fscore_support\n",
    "    \n",
    "    print 'Cross validating... \\n'\n",
    "    skfolds = StratifiedKFold(n_splits=n, random_state=42)\n",
    "    \n",
    "    precision = []\n",
    "    recall = []\n",
    "    f1score = []\n",
    "    elapsed_times = []\n",
    "    cv = 0\n",
    "    name = clf.__class__.__name__\n",
    "    \n",
    "    # Assign variables x and y corresponding to row data and it's class value\n",
    "    X = data.ix[:, data.columns != 'Class']\n",
    "    y = data.ix[:, data.columns == 'Class']\n",
    "    \n",
    "    for train_index, test_index in skfolds.split(X, y):\n",
    "        cv=cv+1\n",
    "        print len(train_index)\n",
    "        clone_clf = clone(clf)\n",
    "        X_train_folds = X.iloc[train_index]\n",
    "        y_train_folds = y.iloc[train_index]\n",
    "        X_test_fold = X.iloc[test_index]\n",
    "        y_test_fold = y.iloc[test_index]\n",
    "        \n",
    "        print len(y_train_folds[y_train_folds['Class']==1])\n",
    "        X_res, y_res = X_train_folds, y_train_folds\n",
    "        \n",
    "        start = datetime.datetime.now()\n",
    "        \n",
    "        print('Fitting the model... CV[{}]'.format(cv))\n",
    "        clone_clf.fit(X_res, y_res)\n",
    "        \n",
    "        end = datetime.datetime.now()\n",
    "        elapsed = end - start\n",
    "        elapsed_times.append(elapsed)\n",
    "        \n",
    "        y_pred = clone_clf.predict(X_test_fold)\n",
    "        \n",
    "        prfs = precision_recall_fscore_support(y_test_fold, y_pred, pos_label=1, average='binary')\n",
    "        \n",
    "        precision.append(prfs[0])\n",
    "        recall.append(prfs[1])\n",
    "        f1score.append(prfs[2])\n",
    "        \n",
    "        \n",
    "    \n",
    "    average_timedelta = sum(elapsed_times, datetime.timedelta(0)) / len(elapsed_times)\n",
    "    entry = [name, np.mean(f1score), np.mean(precision), np.mean(recall), average_timedelta]\n",
    "    print('Mean scores: ', entry )\n",
    "    return entry"
   ]
  },
  {
   "cell_type": "code",
   "execution_count": 25,
   "metadata": {},
   "outputs": [],
   "source": [
    "from sklearn.linear_model import LogisticRegression\n",
    "from sklearn.model_selection import train_test_split, KFold, cross_val_score\n",
    "from sklearn.metrics import confusion_matrix,precision_recall_curve,auc,roc_auc_score,roc_curve,recall_score,classification_report \n",
    "\n",
    "# Call the logistic regression model with a certain C parameter\n",
    "lr = LogisticRegression(C = 10)"
   ]
  },
  {
   "cell_type": "code",
   "execution_count": 26,
   "metadata": {},
   "outputs": [
    {
     "name": "stdout",
     "output_type": "stream",
     "text": [
      "Cross validating... \n",
      "\n",
      "Number of frauds 492\n",
      "number of non fraud:  284315\n",
      "non_fraud after:  492\n",
      "training length:  884\n",
      "fraud training length 442\n",
      "test length 100\n",
      "Fitting the model... CV[1]\n",
      "training length:  884\n",
      "fraud training length 442\n",
      "test length 100\n",
      "Fitting the model... CV[2]\n",
      "training length:  886\n",
      "fraud training length 443\n",
      "test length 98\n",
      "Fitting the model... CV[3]\n",
      "training length:  886\n",
      "fraud training length 443\n",
      "test length 98\n",
      "Fitting the model... CV[4]\n",
      "training length:  886\n",
      "fraud training length 443\n",
      "test length 98\n",
      "Fitting the model... CV[5]\n",
      "training length:  886\n",
      "fraud training length 443\n",
      "test length 98\n",
      "Fitting the model... CV[6]\n",
      "training length:  886\n",
      "fraud training length 443\n",
      "test length 98\n",
      "Fitting the model... CV[7]\n",
      "training length:  886\n",
      "fraud training length 443\n",
      "test length 98\n",
      "Fitting the model... CV[8]\n",
      "training length:  886\n",
      "fraud training length 443\n",
      "test length 98\n",
      "Fitting the model... CV[9]\n",
      "training length:  886\n",
      "fraud training length 443\n",
      "test length 98\n",
      "Fitting the model... CV[10]\n",
      "('Mean scores: ', ['LogisticRegression', 0.90722726545375854, 0.96619649967276688, 0.85987755102040819, datetime.timedelta(0, 0, 7256)])\n"
     ]
    },
    {
     "name": "stderr",
     "output_type": "stream",
     "text": [
      "/Users/HarryG1/Documents/University/Year_3/DeepLearning-CreditCardFraud/devEnv/lib/python2.7/site-packages/ipykernel_launcher.py:16: DeprecationWarning: \n",
      ".ix is deprecated. Please use\n",
      ".loc for label based indexing or\n",
      ".iloc for positional indexing\n",
      "\n",
      "See the documentation here:\n",
      "http://pandas.pydata.org/pandas-docs/stable/indexing.html#ix-indexer-is-deprecated\n",
      "  app.launch_new_instance()\n"
     ]
    },
    {
     "data": {
      "text/plain": [
       "['LogisticRegression',\n",
       " 0.90722726545375854,\n",
       " 0.96619649967276688,\n",
       " 0.85987755102040819,\n",
       " datetime.timedelta(0, 0, 7256)]"
      ]
     },
     "execution_count": 26,
     "metadata": {},
     "output_type": "execute_result"
    }
   ],
   "source": [
    "custom_cross_val_under(data, lr, 10)"
   ]
  },
  {
   "cell_type": "code",
   "execution_count": 22,
   "metadata": {},
   "outputs": [
    {
     "name": "stdout",
     "output_type": "stream",
     "text": [
      "Cross validating... \n",
      "\n",
      "256325\n",
      "442\n",
      "Fitting the model... CV[1]\n",
      "256325\n",
      "442\n",
      "Fitting the model... CV[2]\n",
      "256326\n",
      "443\n",
      "Fitting the model... CV[3]\n",
      "256326\n",
      "443\n",
      "Fitting the model... CV[4]\n",
      "256326\n",
      "443\n",
      "Fitting the model... CV[5]\n",
      "256327\n",
      "443\n",
      "Fitting the model... CV[6]\n",
      "256327\n",
      "443\n",
      "Fitting the model... CV[7]\n",
      "256327\n",
      "443\n",
      "Fitting the model... CV[8]\n",
      "256327\n",
      "443\n",
      "Fitting the model... CV[9]\n",
      "256327\n",
      "443\n",
      "Fitting the model... CV[10]\n",
      "('Mean scores: ', ['LogisticRegression', 0.61905577414463908, 0.83352994441218109, 0.60857142857142854, datetime.timedelta(0, 3, 3573)])\n"
     ]
    },
    {
     "data": {
      "text/plain": [
       "['LogisticRegression',\n",
       " 0.61905577414463908,\n",
       " 0.83352994441218109,\n",
       " 0.60857142857142854,\n",
       " datetime.timedelta(0, 3, 3573)]"
      ]
     },
     "execution_count": 22,
     "metadata": {},
     "output_type": "execute_result"
    }
   ],
   "source": [
    "custom_cross_val_original(data, lr, 10)"
   ]
  },
  {
   "cell_type": "code",
   "execution_count": 8,
   "metadata": {
    "scrolled": false
   },
   "outputs": [
    {
     "data": {
      "text/plain": [
       "\"\\nCUSTOM CROSS-VAL / n = 10 / RESULTS\\nUNDER\\n('Mean scores: ', ['LogisticRegression', 0.91648916128927205, 0.96546179887028438, 0.87763265306122451, datetime.timedelta(0, 0, 6074)])\\nOVER\\n('Mean scores: ', ['LogisticRegression', 0.11956608464831955, 0.064831910865825529, 0.88028571428571423, datetime.timedelta(0, 6, 157322)])\\nSMOTE\\n('Mean scores: ', ['LogisticRegression', 0.11092022946688154, 0.059684765875965239, 0.87628571428571433, datetime.timedelta(0, 6, 112225)])\\n\\n\""
      ]
     },
     "execution_count": 8,
     "metadata": {},
     "output_type": "execute_result"
    }
   ],
   "source": [
    "'''\n",
    "CUSTOM CROSS-VAL / n = 10 / RESULTS\n",
    "====================================\n",
    "ORIGINAL\n",
    "('Mean scores: ', ['LogisticRegression', 0.61991018289378452, 0.83683682271905935, 0.60857142857142854, datetime.timedelta(0, 2, 933120)])\n",
    "UNDER\n",
    "('Mean scores: ', ['LogisticRegression', 0.91648916128927205, 0.96546179887028438, 0.87763265306122451, datetime.timedelta(0, 0, 6074)])\n",
    "OVER\n",
    "('Mean scores: ', ['LogisticRegression', 0.11956608464831955, 0.064831910865825529, 0.88028571428571423, datetime.timedelta(0, 6, 157322)])\n",
    "SMOTE\n",
    "('Mean scores: ', ['LogisticRegression', 0.11092022946688154, 0.059684765875965239, 0.87628571428571433, datetime.timedelta(0, 6, 112225)])\n",
    "\n",
    "'''"
   ]
  },
  {
   "cell_type": "code",
   "execution_count": 12,
   "metadata": {},
   "outputs": [],
   "source": [
    "########################################################################\n",
    "from sklearn.svm import LinearSVC\n",
    "from sklearn.naive_bayes import GaussianNB\n",
    "from sklearn.neural_network import MLPClassifier\n",
    "from sklearn.ensemble import RandomForestClassifier\n",
    "from sklearn.neighbors import KNeighborsClassifier\n",
    "from sklearn.tree import DecisionTreeClassifier\n",
    "\n",
    "classifiers = [\n",
    "    KNeighborsClassifier(),\n",
    "    LinearSVC(),\n",
    "    DecisionTreeClassifier(random_state=0),\n",
    "    RandomForestClassifier(random_state=0),\n",
    "    MLPClassifier(),\n",
    "    GaussianNB()]"
   ]
  },
  {
   "cell_type": "code",
   "execution_count": 13,
   "metadata": {},
   "outputs": [
    {
     "name": "stdout",
     "output_type": "stream",
     "text": [
      "==============================\n",
      "KNeighborsClassifier\n",
      "Cross validating... \n",
      "\n",
      "189871\n",
      "328\n",
      "Fitting the model... CV[1]\n"
     ]
    },
    {
     "name": "stderr",
     "output_type": "stream",
     "text": [
      "/Users/HarryG1/Documents/University/Year_3/DeepLearning-CreditCardFraud/devEnv/lib/python2.7/site-packages/ipykernel_launcher.py:36: DataConversionWarning: A column-vector y was passed when a 1d array was expected. Please change the shape of y to (n_samples, ), for example using ravel().\n"
     ]
    },
    {
     "name": "stdout",
     "output_type": "stream",
     "text": [
      "189871\n",
      "328\n",
      "Fitting the model... CV[2]\n",
      "189872\n",
      "328\n",
      "Fitting the model... CV[3]\n"
     ]
    },
    {
     "name": "stderr",
     "output_type": "stream",
     "text": [
      "/Users/HarryG1/Documents/University/Year_3/DeepLearning-CreditCardFraud/devEnv/lib/python2.7/site-packages/sklearn/metrics/classification.py:1135: UndefinedMetricWarning: Precision and F-score are ill-defined and being set to 0.0 due to no predicted samples.\n",
      "  'precision', 'predicted', average, warn_for)\n"
     ]
    },
    {
     "name": "stdout",
     "output_type": "stream",
     "text": [
      "('Mean scores: ', ['KNeighborsClassifier', 0.0019990661410766563, 0.0010019010295317624, 0.46341463414634143, datetime.timedelta(0, 60, 503710)])\n",
      "==============================\n",
      "LinearSVC\n",
      "Cross validating... \n",
      "\n",
      "189871\n",
      "328\n",
      "Fitting the model... CV[1]\n",
      "189871\n",
      "328\n",
      "Fitting the model... CV[2]\n",
      "189872\n",
      "328\n",
      "Fitting the model... CV[3]\n",
      "('Mean scores: ', ['LinearSVC', 0.0046783625730994153, 0.0055096418732782371, 0.0040650406504065045, datetime.timedelta(0, 32, 412505)])\n",
      "==============================\n",
      "DecisionTreeClassifier\n",
      "Cross validating... \n",
      "\n",
      "189871\n",
      "328\n",
      "Fitting the model... CV[1]\n",
      "189871\n",
      "328\n",
      "Fitting the model... CV[2]\n",
      "189872\n",
      "328\n",
      "Fitting the model... CV[3]\n",
      "('Mean scores: ', ['DecisionTreeClassifier', 0.33274691656775085, 0.33060711371947465, 0.68089430894308933, datetime.timedelta(0, 11, 695929)])\n",
      "==============================\n",
      "RandomForestClassifier\n",
      "Cross validating... \n",
      "\n",
      "189871\n",
      "328\n",
      "Fitting the model... CV[1]\n"
     ]
    },
    {
     "name": "stderr",
     "output_type": "stream",
     "text": [
      "/Users/HarryG1/Documents/University/Year_3/DeepLearning-CreditCardFraud/devEnv/lib/python2.7/site-packages/ipykernel_launcher.py:36: DataConversionWarning: A column-vector y was passed when a 1d array was expected. Please change the shape of y to (n_samples,), for example using ravel().\n"
     ]
    },
    {
     "name": "stdout",
     "output_type": "stream",
     "text": [
      "189871\n",
      "328\n",
      "Fitting the model... CV[2]\n",
      "189872\n",
      "328\n",
      "Fitting the model... CV[3]\n",
      "('Mean scores: ', ['RandomForestClassifier', 0.52954487358442437, 0.62603126289627709, 0.77642276422764223, datetime.timedelta(0, 11, 912450)])\n",
      "==============================\n",
      "MLPClassifier\n",
      "Cross validating... \n",
      "\n",
      "189871\n",
      "328\n",
      "Fitting the model... CV[1]\n"
     ]
    },
    {
     "name": "stderr",
     "output_type": "stream",
     "text": [
      "/Users/HarryG1/Documents/University/Year_3/DeepLearning-CreditCardFraud/devEnv/lib/python2.7/site-packages/sklearn/neural_network/multilayer_perceptron.py:912: DataConversionWarning: A column-vector y was passed when a 1d array was expected. Please change the shape of y to (n_samples, ), for example using ravel().\n",
      "  y = column_or_1d(y, warn=True)\n"
     ]
    },
    {
     "name": "stdout",
     "output_type": "stream",
     "text": [
      "189871\n",
      "328\n",
      "Fitting the model... CV[2]\n",
      "189872\n",
      "328\n",
      "Fitting the model... CV[3]\n",
      "('Mean scores: ', ['MLPClassifier', 0.32119199745099025, 0.34342250115575607, 0.52642276422764223, datetime.timedelta(0, 5, 211895)])\n",
      "==============================\n",
      "GaussianNB\n",
      "Cross validating... \n",
      "\n",
      "189871\n",
      "328\n",
      "Fitting the model... CV[1]\n",
      "189871\n",
      "328\n",
      "Fitting the model... CV[2]\n",
      "189872\n",
      "328\n",
      "Fitting the model... CV[3]\n",
      "('Mean scores: ', ['GaussianNB', 0.22371270582049371, 0.13795859023131751, 0.70121951219512191, datetime.timedelta(0, 0, 108357)])\n",
      "==============================\n",
      "Cross validation training results: \n",
      "                        F1 Score  Precision    Recall   Training Time\n",
      "Classifier                                                           \n",
      "KNeighborsClassifier    0.001999   0.001002  0.463415 00:01:00.503710\n",
      "LinearSVC               0.004678   0.005510  0.004065 00:00:32.412505\n",
      "DecisionTreeClassifier  0.332747   0.330607  0.680894 00:00:11.695929\n",
      "RandomForestClassifier  0.529545   0.626031  0.776423 00:00:11.912450\n",
      "MLPClassifier           0.321192   0.343423  0.526423 00:00:05.211895\n",
      "GaussianNB              0.223713   0.137959  0.701220 00:00:00.108357\n",
      "==============================\n"
     ]
    }
   ],
   "source": [
    "import datetime\n",
    "from sklearn.metrics import precision_recall_fscore_support\n",
    "\n",
    "# Setting up dataframe table properties\n",
    "log_cols=[\"Classifier\", \"F1 Score\", \"Precision\", \"Recall\", \"Training Time\"]\n",
    "log = pd.DataFrame(columns=log_cols)\n",
    "\n",
    "print(\"=\"*30)\n",
    "\n",
    "# Loop over the classifiers, fit the data over 3 iterations, gather results, input to dataframe table\n",
    "for clf in classifiers:\n",
    "    precision = []\n",
    "    recall = []\n",
    "    f1score = []\n",
    "    elapsed_times = []\n",
    "\n",
    "    name = clf.__class__.__name__\n",
    "    \n",
    "    print(name)\n",
    "\n",
    "    entry = custom_cross_val_original(data, clf, 3)\n",
    "    \n",
    "    print(\"=\"*30)\n",
    "\n",
    "    log_entry = pd.DataFrame([entry], columns=log_cols)\n",
    "    log = log.append(log_entry)\n",
    "\n",
    "# Replace table index by the Classifier column\n",
    "log.set_index('Classifier', inplace=True)\n",
    "print 'Cross validation training results: '\n",
    "print log \n",
    "\n",
    "print(\"=\"*30)"
   ]
  },
  {
   "cell_type": "code",
   "execution_count": 27,
   "metadata": {},
   "outputs": [
    {
     "name": "stdout",
     "output_type": "stream",
     "text": [
      "==============================\n",
      "KNeighborsClassifier\n",
      "Cross validating... \n",
      "\n",
      "Number of frauds 492\n",
      "number of non fraud:  284315\n",
      "non_fraud after:  492\n",
      "training length:  656\n",
      "fraud training length 328\n",
      "test length 328\n",
      "Fitting the model... CV[1]\n",
      "training length:  656\n",
      "fraud training length 328\n",
      "test length 328\n",
      "Fitting the model... CV[2]\n",
      "training length:  656\n",
      "fraud training length 328\n",
      "test length 328\n",
      "Fitting the model... CV[3]\n",
      "('Mean scores: ', ['KNeighborsClassifier', 0.06404657933042214, 0.11282051282051282, 0.044715447154471545, datetime.timedelta(0, 0, 1634)])\n",
      "==============================\n",
      "LinearSVC\n",
      "Cross validating... \n",
      "\n",
      "Number of frauds 492\n",
      "number of non fraud:  284315\n",
      "non_fraud after:  492\n",
      "training length:  656\n",
      "fraud training length 328\n",
      "test length 328\n",
      "Fitting the model... CV[1]\n",
      "training length:  656\n",
      "fraud training length 328\n",
      "test length 328\n",
      "Fitting the model... CV[2]\n"
     ]
    },
    {
     "name": "stderr",
     "output_type": "stream",
     "text": [
      "/Users/HarryG1/Documents/University/Year_3/DeepLearning-CreditCardFraud/devEnv/lib/python2.7/site-packages/ipykernel_launcher.py:16: DeprecationWarning: \n",
      ".ix is deprecated. Please use\n",
      ".loc for label based indexing or\n",
      ".iloc for positional indexing\n",
      "\n",
      "See the documentation here:\n",
      "http://pandas.pydata.org/pandas-docs/stable/indexing.html#ix-indexer-is-deprecated\n",
      "  app.launch_new_instance()\n",
      "/Users/HarryG1/Documents/University/Year_3/DeepLearning-CreditCardFraud/devEnv/lib/python2.7/site-packages/ipykernel_launcher.py:36: DataConversionWarning: A column-vector y was passed when a 1d array was expected. Please change the shape of y to (n_samples, ), for example using ravel().\n"
     ]
    },
    {
     "name": "stdout",
     "output_type": "stream",
     "text": [
      "training length:  656\n",
      "fraud training length 328\n",
      "test length 328\n",
      "Fitting the model... CV[3]\n",
      "('Mean scores: ', ['LinearSVC', 0.11070707070707071, 0.62962962962962965, 0.067073170731707321, datetime.timedelta(0, 0, 52998)])\n",
      "==============================\n",
      "DecisionTreeClassifier\n",
      "Cross validating... \n",
      "\n",
      "Number of frauds 492\n",
      "number of non fraud:  284315\n",
      "non_fraud after:  492\n",
      "training length:  656\n",
      "fraud training length 328\n",
      "test length 328\n",
      "Fitting the model... CV[1]\n",
      "training length:  656\n",
      "fraud training length 328\n",
      "test length 328\n",
      "Fitting the model... CV[2]\n",
      "training length:  656\n",
      "fraud training length 328\n",
      "test length 328\n",
      "Fitting the model... CV[3]\n",
      "('Mean scores: ', ['DecisionTreeClassifier', 0.89058444824773586, 0.89692417860785845, 0.88617886178861793, datetime.timedelta(0, 0, 9283)])\n",
      "==============================\n",
      "RandomForestClassifier\n",
      "Cross validating... \n",
      "\n",
      "Number of frauds 492\n",
      "number of non fraud:  284315\n",
      "non_fraud after:  492\n",
      "training length:  656\n",
      "fraud training length 328\n",
      "test length 328\n",
      "Fitting the model... CV[1]\n"
     ]
    },
    {
     "name": "stderr",
     "output_type": "stream",
     "text": [
      "/Users/HarryG1/Documents/University/Year_3/DeepLearning-CreditCardFraud/devEnv/lib/python2.7/site-packages/ipykernel_launcher.py:36: DataConversionWarning: A column-vector y was passed when a 1d array was expected. Please change the shape of y to (n_samples,), for example using ravel().\n"
     ]
    },
    {
     "name": "stdout",
     "output_type": "stream",
     "text": [
      "training length:  656\n",
      "fraud training length 328\n",
      "test length 328\n",
      "Fitting the model... CV[2]\n",
      "training length:  656\n",
      "fraud training length 328\n",
      "test length 328\n",
      "Fitting the model... CV[3]\n",
      "('Mean scores: ', ['RandomForestClassifier', 0.92404887263215318, 0.97301416895181658, 0.88008130081300806, datetime.timedelta(0, 0, 34621)])\n",
      "==============================\n",
      "MLPClassifier\n",
      "Cross validating... \n",
      "\n",
      "Number of frauds 492\n",
      "number of non fraud:  284315\n",
      "non_fraud after:  492\n",
      "training length:  656\n",
      "fraud training length 328\n",
      "test length 328\n",
      "Fitting the model... CV[1]\n",
      "training length:  656\n",
      "fraud training length 328\n",
      "test length 328\n",
      "Fitting the model... CV[2]\n",
      "training length:  656\n",
      "fraud training length 328\n",
      "test length 328\n",
      "Fitting the model... CV[3]\n",
      "('Mean scores: ', ['MLPClassifier', 0.26311249137336096, 0.54999999999999993, 0.35569105691056913, datetime.timedelta(0, 0, 24867)])\n",
      "==============================\n",
      "GaussianNB\n",
      "Cross validating... \n",
      "\n",
      "Number of frauds 492\n",
      "number of non fraud:  284315\n",
      "non_fraud after:  492\n",
      "training length:  656\n",
      "fraud training length 328\n",
      "test length 328\n",
      "Fitting the model... CV[1]\n",
      "training length:  656\n",
      "fraud training length 328\n",
      "test length 328\n",
      "Fitting the model... CV[2]\n",
      "training length:  656\n",
      "fraud training length 328\n",
      "test length 328\n",
      "Fitting the model... CV[3]\n",
      "('Mean scores: ', ['GaussianNB', 0.8172287315042176, 0.98041476955028362, 0.70731707317073178, datetime.timedelta(0, 0, 1000)])\n",
      "==============================\n",
      "Cross validation training results: \n",
      "                        F1 Score  Precision    Recall   Training Time\n",
      "Classifier                                                           \n",
      "KNeighborsClassifier    0.064047   0.112821  0.044715 00:00:00.001634\n",
      "LinearSVC               0.110707   0.629630  0.067073 00:00:00.052998\n",
      "DecisionTreeClassifier  0.890584   0.896924  0.886179 00:00:00.009283\n",
      "RandomForestClassifier  0.924049   0.973014  0.880081 00:00:00.034621\n",
      "MLPClassifier           0.263112   0.550000  0.355691 00:00:00.024867\n",
      "GaussianNB              0.817229   0.980415  0.707317 00:00:00.001000\n",
      "==============================\n"
     ]
    }
   ],
   "source": [
    "import datetime\n",
    "from sklearn.metrics import precision_recall_fscore_support\n",
    "\n",
    "# Setting up dataframe table properties\n",
    "log_cols=[\"Classifier\", \"F1 Score\", \"Precision\", \"Recall\", \"Training Time\"]\n",
    "log = pd.DataFrame(columns=log_cols)\n",
    "\n",
    "print(\"=\"*30)\n",
    "\n",
    "# Loop over the classifiers, fit the data over 3 iterations, gather results, input to dataframe table\n",
    "for clf in classifiers:\n",
    "    precision = []\n",
    "    recall = []\n",
    "    f1score = []\n",
    "    elapsed_times = []\n",
    "\n",
    "    name = clf.__class__.__name__\n",
    "    \n",
    "    print(name)\n",
    "\n",
    "    entry = custom_cross_val_under(data, clf, 3)\n",
    "    \n",
    "    print(\"=\"*30)\n",
    "\n",
    "    log_entry = pd.DataFrame([entry], columns=log_cols)\n",
    "    log = log.append(log_entry)\n",
    "\n",
    "# Replace table index by the Classifier column\n",
    "log.set_index('Classifier', inplace=True)\n",
    "print 'Cross validation training results: '\n",
    "print log \n",
    "\n",
    "print(\"=\"*30)"
   ]
  },
  {
   "cell_type": "code",
   "execution_count": 17,
   "metadata": {},
   "outputs": [
    {
     "name": "stdout",
     "output_type": "stream",
     "text": [
      "==============================\n",
      "Number of frauds 492\n",
      "number of non fraud:  284315\n",
      "non_fraud after:  492\n",
      "KNeighborsClassifier\n",
      "[ 0.          0.          0.01904762]\n",
      "==============================\n",
      "LinearSVC\n"
     ]
    },
    {
     "name": "stderr",
     "output_type": "stream",
     "text": [
      "/Users/HarryG1/Documents/University/Year_3/DeepLearning-CreditCardFraud/devEnv/lib/python2.7/site-packages/ipykernel_launcher.py:16: DeprecationWarning: \n",
      ".ix is deprecated. Please use\n",
      ".loc for label based indexing or\n",
      ".iloc for positional indexing\n",
      "\n",
      "See the documentation here:\n",
      "http://pandas.pydata.org/pandas-docs/stable/indexing.html#ix-indexer-is-deprecated\n",
      "  app.launch_new_instance()\n"
     ]
    },
    {
     "name": "stdout",
     "output_type": "stream",
     "text": [
      "[ 0.54205607  0.67489712  0.22564103]\n",
      "==============================\n",
      "DecisionTreeClassifier\n",
      "[ 0.92215569  0.89296636  0.25961538]\n",
      "==============================\n",
      "RandomForestClassifier\n",
      "[ 0.95031056  0.93159609  0.89180328]\n",
      "==============================\n",
      "MLPClassifier\n"
     ]
    },
    {
     "name": "stderr",
     "output_type": "stream",
     "text": [
      "/Users/HarryG1/Documents/University/Year_3/DeepLearning-CreditCardFraud/devEnv/lib/python2.7/site-packages/sklearn/model_selection/_validation.py:458: DataConversionWarning: A column-vector y was passed when a 1d array was expected. Please change the shape of y to (n_samples,), for example using ravel().\n",
      "  estimator.fit(X_train, y_train, **fit_params)\n",
      "/Users/HarryG1/Documents/University/Year_3/DeepLearning-CreditCardFraud/devEnv/lib/python2.7/site-packages/sklearn/metrics/classification.py:1135: UndefinedMetricWarning: F-score is ill-defined and being set to 0.0 due to no predicted samples.\n",
      "  'precision', 'predicted', average, warn_for)\n"
     ]
    },
    {
     "name": "stdout",
     "output_type": "stream",
     "text": [
      "[ 0.66122449  0.          0.        ]\n",
      "==============================\n",
      "GaussianNB\n",
      "[ 0.92810458  0.7732342   0.77419355]\n",
      "==============================\n",
      "Cross validation training results: \n",
      "[{'KNeighborsClassifier': 0.0063492063492063501}, {'LinearSVC': 0.48086473991631484}, {'DecisionTreeClassifier': 0.69157914469813608}, {'RandomForestClassifier': 0.9245699762999825}, {'MLPClassifier': 0.22040816326530613}, {'GaussianNB': 0.82517744143133009}]\n",
      "==============================\n"
     ]
    }
   ],
   "source": [
    "import datetime\n",
    "from sklearn.metrics import precision_recall_fscore_support\n",
    "\n",
    "# Setting up dataframe table properties\n",
    "log_cols=[\"Classifier\", \"F1 Score\", \"Precision\", \"Recall\", \"Training Time\"]\n",
    "log = pd.DataFrame(columns=log_cols)\n",
    "\n",
    "print(\"=\"*30)\n",
    "\n",
    "X, y = undersample_data(data)\n",
    "\n",
    "precision = []\n",
    "recall = []\n",
    "f1score = []\n",
    "elapsed_times = []\n",
    "# Loop over the classifiers, fit the data over 3 iterations, gather results, input to dataframe table\n",
    "for clf in classifiers:\n",
    "    \n",
    "\n",
    "    name = clf.__class__.__name__\n",
    "    \n",
    "    print(name)\n",
    "\n",
    "    scores = cross_val_score(clf,X,y, cv=3, scoring='f1')\n",
    "    print scores\n",
    "    mean = np.mean(scores)\n",
    "    f1score.append({name : mean})\n",
    "    print(\"=\"*30)\n",
    "\n",
    "#     log_entry = pd.DataFrame([entry], columns=log_cols)\n",
    "#     log = log.append(log_entry)\n",
    "\n",
    "# Replace table index by the Classifier column\n",
    "# log.set_index('Classifier', inplace=True)\n",
    "print 'Cross validation training results: '\n",
    "print f1score \n",
    "\n",
    "print(\"=\"*30)"
   ]
  },
  {
   "cell_type": "code",
   "execution_count": null,
   "metadata": {},
   "outputs": [],
   "source": []
  },
  {
   "cell_type": "markdown",
   "metadata": {},
   "source": [
    "---\n",
    "## Other classifiers\n",
    "---\n",
    "Let's now experiment with other classifiers, moving forward with SMOTE oversampled data (performed on training data only).\n",
    "\n",
    "* K NEAREST NEIGHBORS\n",
    "* NEURAL NET\n",
    "* LINEAR SVM \n",
    "* DECISION TREE\n",
    "* NAIVE BAYES\n",
    "* RANDOM FORREST\n",
    "* GAUSSIAN PROCESS"
   ]
  },
  {
   "cell_type": "code",
   "execution_count": 23,
   "metadata": {},
   "outputs": [
    {
     "name": "stdout",
     "output_type": "stream",
     "text": [
      "K NEAREST NEIGHBORS: \n"
     ]
    },
    {
     "data": {
      "image/png": "[encoded data removed]",
      "text/plain": [
       "<matplotlib.figure.Figure at 0x1140e6490>"
      ]
     },
     "metadata": {},
     "output_type": "display_data"
    },
    {
     "name": "stdout",
     "output_type": "stream",
     "text": [
      "             precision    recall  f1-score   support\n",
      "\n",
      "          0       1.00      1.00      1.00     85296\n",
      "          1       0.50      0.86      0.63       147\n",
      "\n",
      "avg / total       1.00      1.00      1.00     85443\n",
      "\n",
      "RECALL :  0.863945578231\n"
     ]
    }
   ],
   "source": [
    "################## K NEAREST NEIGHBORS ###################\n",
    "print 'K NEAREST NEIGHBORS: '\n",
    "from sklearn.neighbors import KNeighborsClassifier\n",
    "neigh = KNeighborsClassifier()\n",
    "\n",
    "neigh.fit(X_res, y_res)\n",
    "y_pred = neigh.predict(X_test)\n",
    "cm = confusion_matrix(y_test, y_pred)\n",
    "class_names = [0,1]\n",
    "\n",
    "plt.figure()\n",
    "plot_confusion_matrix(cm, classes=class_names, title='Confusion matrix')\n",
    "plt.show()\n",
    "\n",
    "from sklearn.metrics import classification_report\n",
    "print classification_report(y_test, y_pred)\n",
    "print 'RECALL : ', recall_score(y_test, y_pred)"
   ]
  },
  {
   "cell_type": "code",
   "execution_count": 24,
   "metadata": {},
   "outputs": [
    {
     "name": "stdout",
     "output_type": "stream",
     "text": [
      "NEURAL NET: \n",
      "             precision    recall  f1-score   support\n",
      "\n",
      "          0       1.00      1.00      1.00     85296\n",
      "          1       0.70      0.82      0.76       147\n",
      "\n",
      "avg / total       1.00      1.00      1.00     85443\n",
      "\n",
      "RECALL :  0.823129251701\n"
     ]
    }
   ],
   "source": [
    "################### NEURAL NET ###################\n",
    "print 'NEURAL NET: '\n",
    "from sklearn.neural_network import MLPClassifier\n",
    "mlp = MLPClassifier()\n",
    "\n",
    "mlp.fit(X_res, y_res)\n",
    "y_pred = mlp.predict(X_test)\n",
    "cm = confusion_matrix(y_test, y_pred)\n",
    "class_names = [0,1]\n",
    "\n",
    "from sklearn.metrics import classification_report\n",
    "print classification_report(y_test, y_pred)\n",
    "print 'RECALL : ', recall_score(y_test, y_pred)"
   ]
  },
  {
   "cell_type": "code",
   "execution_count": 25,
   "metadata": {},
   "outputs": [
    {
     "name": "stdout",
     "output_type": "stream",
     "text": [
      "DECISION TREE: \n",
      "             precision    recall  f1-score   support\n",
      "\n",
      "          0       1.00      1.00      1.00     85296\n",
      "          1       0.40      0.76      0.52       147\n",
      "\n",
      "avg / total       1.00      1.00      1.00     85443\n",
      "\n",
      "RECALL :  0.755102040816\n"
     ]
    }
   ],
   "source": [
    "################### DECISION TREE ###################\n",
    "print 'DECISION TREE: '\n",
    "from sklearn.tree import DecisionTreeClassifier\n",
    "dt = DecisionTreeClassifier()\n",
    "\n",
    "dt.fit(X_res, y_res)\n",
    "y_pred = dt.predict(X_test)\n",
    "cm = confusion_matrix(y_test, y_pred)\n",
    "class_names = [0,1]\n",
    "\n",
    "from sklearn.metrics import classification_report\n",
    "print classification_report(y_test, y_pred)\n",
    "print 'RECALL : ', recall_score(y_test, y_pred)"
   ]
  },
  {
   "cell_type": "code",
   "execution_count": 26,
   "metadata": {},
   "outputs": [
    {
     "name": "stdout",
     "output_type": "stream",
     "text": [
      "LINEAR SVM: \n",
      "             precision    recall  f1-score   support\n",
      "\n",
      "          0       1.00      1.00      1.00     85296\n",
      "          1       0.38      0.69      0.49       147\n",
      "\n",
      "avg / total       1.00      1.00      1.00     85443\n",
      "\n",
      "RECALL:  0.69387755102\n"
     ]
    }
   ],
   "source": [
    "################### LINEAR SVM ###################\n",
    "print 'LINEAR SVM: '\n",
    "from sklearn.svm import SVC\n",
    "\n",
    "lin_svm = SVC()\n",
    "\n",
    "lin_svm.fit(X_res, y_res)\n",
    "y_pred = lin_svm.predict(X_test)\n",
    "cm = confusion_matrix(y_test, y_pred)\n",
    "class_names = [0,1]\n",
    "\n",
    "from sklearn.metrics import classification_report\n",
    "print classification_report(y_test, y_pred)\n",
    "print 'RECALL: ', recall_score(y_test, y_pred)"
   ]
  },
  {
   "cell_type": "code",
   "execution_count": 27,
   "metadata": {},
   "outputs": [
    {
     "name": "stdout",
     "output_type": "stream",
     "text": [
      "RANDOM FOREST: \n",
      "             precision    recall  f1-score   support\n",
      "\n",
      "          0       1.00      1.00      1.00     85296\n",
      "          1       0.91      0.80      0.85       147\n",
      "\n",
      "avg / total       1.00      1.00      1.00     85443\n",
      "\n",
      "0.795918367347\n"
     ]
    }
   ],
   "source": [
    "################### RANDOM FOREST ###################\n",
    "print 'RANDOM FOREST: '\n",
    "from sklearn.ensemble import RandomForestClassifier\n",
    "\n",
    "rf = RandomForestClassifier()\n",
    "\n",
    "rf.fit(X_res, y_res)\n",
    "y_pred = rf.predict(X_test)\n",
    "cm = confusion_matrix(y_test, y_pred)\n",
    "class_names = [0,1]\n",
    "\n",
    "from sklearn.metrics import classification_report\n",
    "print classification_report(y_test, y_pred)\n",
    "print recall_score(y_test, y_pred)"
   ]
  },
  {
   "cell_type": "code",
   "execution_count": 28,
   "metadata": {},
   "outputs": [
    {
     "name": "stdout",
     "output_type": "stream",
     "text": [
      "Gaussian Naive Bayes: \n",
      "             precision    recall  f1-score   support\n",
      "\n",
      "          0       1.00      0.98      0.99     85296\n",
      "          1       0.06      0.86      0.11       147\n",
      "\n",
      "avg / total       1.00      0.98      0.99     85443\n",
      "\n",
      "0.863945578231\n"
     ]
    }
   ],
   "source": [
    "################### NAIVE BAYES ###################\n",
    "print 'Gaussian Naive Bayes: '\n",
    "from sklearn.naive_bayes import GaussianNB\n",
    "\n",
    "gnb = GaussianNB()\n",
    "\n",
    "gnb.fit(X_res, y_res)\n",
    "y_pred = gnb.predict(X_test)\n",
    "cm = confusion_matrix(y_test, y_pred)\n",
    "class_names = [0,1]\n",
    "\n",
    "from sklearn.metrics import classification_report\n",
    "print classification_report(y_test, y_pred)\n",
    "print recall_score(y_test, y_pred)"
   ]
  },
  {
   "cell_type": "markdown",
   "metadata": {},
   "source": [
    "## Summarising classifiers and averaging runs\n",
    "\n",
    "#### Here, instead of just training a classifier once and predicting, I create a function that averages results over 3 runs. These 3 runs incoperate a new, fresh random test-train split of the data. In addition, SMOTE is used for every train data, with each iteration. So all three runs are new random tests in the sense that the split of data and resampling is different. We then average the important metrics, to be confident in the results.\n",
    "\n",
    "#### In a lot of machine learning applications, one may use a similar technique of cross-validation. This is normally preferable on a small subsample of the data to see what classifiers perform best. Seeing as we want to ultimate set baselines for these models, I just run them on the full dataset to get full results."
   ]
  },
  {
   "cell_type": "code",
   "execution_count": 29,
   "metadata": {},
   "outputs": [],
   "source": [
    "def generate_train_test_sample(x_data, y_data): \n",
    "    ''' 1) Generate new, random train-test split\n",
    "        2) Random smote oversample the train data, keeping test data unseen\n",
    "        3) Use this new train-test split to fit and test model\n",
    "    '''\n",
    "\n",
    "    X_train, X_test, y_train, y_test = train_test_split(x_data,y_data,test_size = 0.3)\n",
    "\n",
    "    from collections import Counter\n",
    "    from imblearn.over_sampling import SMOTE\n",
    "    sm = SMOTE()\n",
    "    X_res, y_res = sm.fit_sample(X_train, y_train)\n",
    "    print('Resampling the data with SMOTE. . .')\n",
    "    print('Resampled training dataset shape {}'.format(Counter(y_res)))\n",
    "\n",
    "    return X_res, y_res, X_test, y_test"
   ]
  },
  {
   "cell_type": "code",
   "execution_count": 30,
   "metadata": {},
   "outputs": [],
   "source": [
    "########################################################################\n",
    "from sklearn.svm import LinearSVC\n",
    "from sklearn.naive_bayes import GaussianNB\n",
    "from sklearn.neural_network import MLPClassifier\n",
    "from sklearn.ensemble import RandomForestClassifier\n",
    "from sklearn.neighbors import KNeighborsClassifier\n",
    "from sklearn.tree import DecisionTreeClassifier\n",
    "\n",
    "classifiers = [\n",
    "    KNeighborsClassifier(),\n",
    "    LinearSVC(),\n",
    "    DecisionTreeClassifier(random_state=0),\n",
    "    RandomForestClassifier(random_state=0),\n",
    "    MLPClassifier(),\n",
    "    GaussianNB()]"
   ]
  },
  {
   "cell_type": "code",
   "execution_count": 31,
   "metadata": {},
   "outputs": [],
   "source": [
    "def smote_data(x_data, y_data):\n",
    "    from collections import Counter\n",
    "    from imblearn.over_sampling import SMOTE\n",
    "    sm = SMOTE()\n",
    "    X_res, y_res = sm.fit_sample(x_data, y_data)\n",
    "    print('Resampling the data with SMOTE. . .')\n",
    "    print('Resampled training dataset shape {}'.format(Counter(y_res)))\n",
    "\n",
    "    return X_res, y_res"
   ]
  },
  {
   "cell_type": "code",
   "execution_count": 34,
   "metadata": {},
   "outputs": [],
   "source": [
    "def custom_cross_val(X_train, y_train, clf):\n",
    "    from sklearn.model_selection import StratifiedKFold\n",
    "    from sklearn.base import clone\n",
    "    import datetime\n",
    "    from sklearn.metrics import precision_recall_fscore_support\n",
    "    \n",
    "    print 'Cross validating... \\n'\n",
    "    skfolds = StratifiedKFold(n_splits=3, random_state=42)\n",
    "    \n",
    "    precision = []\n",
    "    recall = []\n",
    "    f1score = []\n",
    "    elapsed_times = []\n",
    "    cv = 0\n",
    "    \n",
    "    \n",
    "    for train_index, test_index in skfolds.split(X_train, y_train):\n",
    "        cv=cv+1\n",
    "        \n",
    "        clone_clf = clone(clf)\n",
    "        X_train_folds = X_train[train_index]\n",
    "        y_train_folds = y_train[train_index]\n",
    "        X_test_fold = X_train[test_index]\n",
    "        y_test_fold = y_train[test_index]\n",
    "        \n",
    "        \n",
    "        start = datetime.datetime.now()\n",
    "        \n",
    "        print('Fitting the model... CV[{}]'.format(cv))\n",
    "        clone_clf.fit(X_train_folds, y_train_folds)\n",
    "        \n",
    "        end = datetime.datetime.now()\n",
    "        elapsed = end - start\n",
    "        elapsed_times.append(elapsed)\n",
    "        \n",
    "        y_pred = clone_clf.predict(X_test_fold)\n",
    "        \n",
    "        prfs = precision_recall_fscore_support(y_test_fold, y_pred, pos_label=1, average='binary')\n",
    "        \n",
    "        precision.append(prfs[0])\n",
    "        recall.append(prfs[1])\n",
    "        f1score.append(prfs[2])\n",
    "        \n",
    "        \n",
    "    \n",
    "    average_timedelta = sum(elapsed_times, datetime.timedelta(0)) / len(elapsed_times)\n",
    "    entry = [name, np.mean(f1score), np.mean(precision), np.mean(recall), average_timedelta]\n",
    "    print('Mean scores: ', entry )\n",
    "    return entry"
   ]
  },
  {
   "cell_type": "code",
   "execution_count": 32,
   "metadata": {},
   "outputs": [],
   "source": [
    "def custom_cross_val_2(X, y, clf, n):\n",
    "    from sklearn.model_selection import StratifiedKFold\n",
    "    from sklearn.base import clone\n",
    "    import datetime\n",
    "    from sklearn.metrics import precision_recall_fscore_support\n",
    "    \n",
    "    print 'Cross validating... \\n'\n",
    "    skfolds = StratifiedKFold(n_splits=n, random_state=42)\n",
    "    \n",
    "    precision = []\n",
    "    recall = []\n",
    "    f1score = []\n",
    "    elapsed_times = []\n",
    "    cv = 0\n",
    "    name = clf.__class__.__name__\n",
    "    \n",
    "    for train_index, test_index in skfolds.split(X, y):\n",
    "        cv=cv+1\n",
    "        print len(train_index)\n",
    "        clone_clf = clone(clf)\n",
    "        X_train_folds = X.iloc[train_index]\n",
    "        y_train_folds = y.iloc[train_index]\n",
    "        X_test_fold = X.iloc[test_index]\n",
    "        y_test_fold = y.iloc[test_index]\n",
    "        \n",
    "        print len(y_train_folds[y_train_folds['Class']==1])\n",
    "        X_res, y_res = smote_data(X_train_folds, y_train_folds )\n",
    "        \n",
    "        \n",
    "        \n",
    "        start = datetime.datetime.now()\n",
    "        \n",
    "        print('Fitting the model... CV[{}]'.format(cv))\n",
    "        clone_clf.fit(X_res, y_res)\n",
    "        \n",
    "        end = datetime.datetime.now()\n",
    "        elapsed = end - start\n",
    "        elapsed_times.append(elapsed)\n",
    "        \n",
    "        y_pred = clone_clf.predict(X_test_fold)\n",
    "        \n",
    "        prfs = precision_recall_fscore_support(y_test_fold, y_pred, pos_label=1, average='binary')\n",
    "        \n",
    "        precision.append(prfs[0])\n",
    "        recall.append(prfs[1])\n",
    "        f1score.append(prfs[2])\n",
    "        \n",
    "        \n",
    "    \n",
    "    average_timedelta = sum(elapsed_times, datetime.timedelta(0)) / len(elapsed_times)\n",
    "    entry = [name, np.mean(f1score), np.mean(precision), np.mean(recall), average_timedelta]\n",
    "    print('Mean scores: ', entry )\n",
    "    return entry"
   ]
  },
  {
   "cell_type": "code",
   "execution_count": 62,
   "metadata": {},
   "outputs": [
    {
     "name": "stdout",
     "output_type": "stream",
     "text": [
      "KNeighborsClassifier(algorithm='auto', leaf_size=30, metric='minkowski',\n",
      "           metric_params=None, n_jobs=1, n_neighbors=5, p=2,\n",
      "           weights='uniform')\n",
      "Cross validating... \n",
      "\n",
      "Resampling the data with SMOTE. . .\n",
      "Resampled training dataset shape Counter({0: 199019, 1: 199019})\n",
      "Fitting the model... CV[1]\n",
      "Resampling the data with SMOTE. . .\n",
      "Resampled training dataset shape Counter({0: 199019, 1: 199019})\n",
      "Fitting the model... CV[2]\n",
      "Resampling the data with SMOTE. . .\n",
      "Resampled training dataset shape Counter({0: 199019, 1: 199019})\n",
      "Fitting the model... CV[3]\n",
      "('Mean scores: ', ['KNeighborsClassifier', 0.73244077978869715, 0.59251167150271034, 0.95934959349593496, datetime.timedelta(0, 2, 743151)])\n"
     ]
    },
    {
     "data": {
      "text/plain": [
       "['KNeighborsClassifier',\n",
       " 0.73244077978869715,\n",
       " 0.59251167150271034,\n",
       " 0.95934959349593496,\n",
       " datetime.timedelta(0, 2, 743151)]"
      ]
     },
     "execution_count": 62,
     "metadata": {},
     "output_type": "execute_result"
    }
   ],
   "source": [
    "print neigh\n",
    "custom_cross_val_2(X, y, neigh, 3)\n"
   ]
  },
  {
   "cell_type": "code",
   "execution_count": 64,
   "metadata": {},
   "outputs": [
    {
     "name": "stdout",
     "output_type": "stream",
     "text": [
      "Cross validating... \n",
      "\n",
      "Resampling the data with SMOTE. . .\n",
      "Resampled training dataset shape Counter({0: 199019, 1: 199019})\n",
      "Fitting the model... CV[1]\n",
      "Resampling the data with SMOTE. . .\n",
      "Resampled training dataset shape Counter({0: 199019, 1: 199019})\n",
      "Fitting the model... CV[2]\n",
      "Resampling the data with SMOTE. . .\n",
      "Resampled training dataset shape Counter({0: 199019, 1: 199019})\n",
      "Fitting the model... CV[3]\n",
      "('Mean scores: ', ['MLPClassifier', 0.86843903354167284, 0.80873341301997892, 0.93902439024390238, datetime.timedelta(0, 47, 162002)])\n"
     ]
    },
    {
     "data": {
      "text/plain": [
       "['MLPClassifier',\n",
       " 0.86843903354167284,\n",
       " 0.80873341301997892,\n",
       " 0.93902439024390238,\n",
       " datetime.timedelta(0, 47, 162002)]"
      ]
     },
     "execution_count": 64,
     "metadata": {},
     "output_type": "execute_result"
    }
   ],
   "source": [
    "custom_cross_val_2(X, y, mlp, 3)"
   ]
  },
  {
   "cell_type": "code",
   "execution_count": 80,
   "metadata": {
    "scrolled": true
   },
   "outputs": [
    {
     "name": "stdout",
     "output_type": "stream",
     "text": [
      "Cross validating... \n",
      "\n",
      "189871\n",
      "328\n",
      "Resampling the data with SMOTE. . .\n",
      "Resampled training dataset shape Counter({0: 189543, 1: 189543})\n",
      "Fitting the model... CV[1]\n",
      "189871\n",
      "328\n",
      "Resampling the data with SMOTE. . .\n",
      "Resampled training dataset shape Counter({0: 189543, 1: 189543})\n",
      "Fitting the model... CV[2]\n",
      "189872\n",
      "328\n",
      "Resampling the data with SMOTE. . .\n",
      "Resampled training dataset shape Counter({0: 189544, 1: 189544})\n",
      "Fitting the model... CV[3]\n",
      "('Mean scores: ', ['GaussianNB', 0.10717066723583384, 0.057195877947314087, 0.85569105691056901, datetime.timedelta(0, 0, 313755)])\n"
     ]
    },
    {
     "data": {
      "text/plain": [
       "['GaussianNB',\n",
       " 0.10717066723583384,\n",
       " 0.057195877947314087,\n",
       " 0.85569105691056901,\n",
       " datetime.timedelta(0, 0, 313755)]"
      ]
     },
     "execution_count": 80,
     "metadata": {},
     "output_type": "execute_result"
    }
   ],
   "source": [
    "custom_cross_val_2(X, y, gnb, 3)"
   ]
  },
  {
   "cell_type": "code",
   "execution_count": 81,
   "metadata": {},
   "outputs": [
    {
     "name": "stdout",
     "output_type": "stream",
     "text": [
      "Cross validating... \n",
      "\n",
      "189871\n",
      "328\n",
      "Resampling the data with SMOTE. . .\n",
      "Resampled training dataset shape Counter({0: 189543, 1: 189543})\n",
      "Fitting the model... CV[1]\n",
      "189871\n",
      "328\n",
      "Resampling the data with SMOTE. . .\n",
      "Resampled training dataset shape Counter({0: 189543, 1: 189543})\n",
      "Fitting the model... CV[2]\n",
      "189872\n",
      "328\n",
      "Resampling the data with SMOTE. . .\n",
      "Resampled training dataset shape Counter({0: 189544, 1: 189544})\n",
      "Fitting the model... CV[3]\n",
      "('Mean scores: ', ['MLPClassifier', 0.68900042936554096, 0.67340796918261703, 0.72560975609756095, datetime.timedelta(0, 37, 494422)])\n"
     ]
    },
    {
     "data": {
      "text/plain": [
       "['MLPClassifier',\n",
       " 0.68900042936554096,\n",
       " 0.67340796918261703,\n",
       " 0.72560975609756095,\n",
       " datetime.timedelta(0, 37, 494422)]"
      ]
     },
     "execution_count": 81,
     "metadata": {},
     "output_type": "execute_result"
    }
   ],
   "source": [
    "custom_cross_val_2(X, y, mlp, 3)"
   ]
  },
  {
   "cell_type": "code",
   "execution_count": 82,
   "metadata": {},
   "outputs": [
    {
     "name": "stdout",
     "output_type": "stream",
     "text": [
      "==============================\n",
      "KNeighborsClassifier\n",
      "Cross validating... \n",
      "\n",
      "189871\n",
      "328\n",
      "Resampling the data with SMOTE. . .\n",
      "Resampled training dataset shape Counter({0: 189543, 1: 189543})\n",
      "Fitting the model... CV[1]\n",
      "189871\n",
      "328\n",
      "Resampling the data with SMOTE. . .\n",
      "Resampled training dataset shape Counter({0: 189543, 1: 189543})\n",
      "Fitting the model... CV[2]\n",
      "189872\n",
      "328\n",
      "Resampling the data with SMOTE. . .\n",
      "Resampled training dataset shape Counter({0: 189544, 1: 189544})\n",
      "Fitting the model... CV[3]\n",
      "('Mean scores: ', ['KNeighborsClassifier', 0.50021784664418822, 0.37562230441049321, 0.83130081300812997, datetime.timedelta(0, 3, 104011)])\n"
     ]
    },
    {
     "name": "stderr",
     "output_type": "stream",
     "text": [
      "/Users/HarryG1/Documents/University/Year_3/DeepLearning-CreditCardFraud/devEnv/lib/python2.7/site-packages/ipykernel_launcher.py:30: DataConversionWarning: A column-vector y was passed when a 1d array was expected. Please change the shape of y to (n_samples, ), for example using ravel().\n"
     ]
    },
    {
     "name": "stdout",
     "output_type": "stream",
     "text": [
      "==============================\n",
      "LinearSVC\n",
      "Cross validating... \n",
      "\n",
      "189871\n",
      "328\n",
      "Resampling the data with SMOTE. . .\n",
      "Resampled training dataset shape Counter({0: 189543, 1: 189543})\n",
      "Fitting the model... CV[1]\n",
      "189871\n",
      "328\n",
      "Resampling the data with SMOTE. . .\n",
      "Resampled training dataset shape Counter({0: 189543, 1: 189543})\n",
      "Fitting the model... CV[2]\n",
      "189872\n",
      "328\n",
      "Resampling the data with SMOTE. . .\n",
      "Resampled training dataset shape Counter({0: 189544, 1: 189544})\n",
      "Fitting the model... CV[3]\n",
      "('Mean scores: ', ['LinearSVC', 0.11634819819482807, 0.062385966273416193, 0.86991869918699194, datetime.timedelta(0, 98, 645728)])\n",
      "==============================\n",
      "DecisionTreeClassifier\n",
      "Cross validating... \n",
      "\n",
      "189871\n",
      "328\n",
      "Resampling the data with SMOTE. . .\n",
      "Resampled training dataset shape Counter({0: 189543, 1: 189543})\n",
      "Fitting the model... CV[1]\n",
      "189871\n",
      "328\n",
      "Resampling the data with SMOTE. . .\n",
      "Resampled training dataset shape Counter({0: 189543, 1: 189543})\n",
      "Fitting the model... CV[2]\n",
      "189872\n",
      "328\n",
      "Resampling the data with SMOTE. . .\n",
      "Resampled training dataset shape Counter({0: 189544, 1: 189544})\n",
      "Fitting the model... CV[3]\n",
      "('Mean scores: ', ['DecisionTreeClassifier', 0.42103247711214165, 0.30221442709666074, 0.71544715447154472, datetime.timedelta(0, 34, 938850)])\n",
      "==============================\n",
      "RandomForestClassifier\n",
      "Cross validating... \n",
      "\n",
      "189871\n",
      "328\n",
      "Resampling the data with SMOTE. . .\n",
      "Resampled training dataset shape Counter({0: 189543, 1: 189543})\n",
      "Fitting the model... CV[1]\n",
      "189871\n",
      "328\n",
      "Resampling the data with SMOTE. . .\n",
      "Resampled training dataset shape Counter({0: 189543, 1: 189543})\n",
      "Fitting the model... CV[2]\n",
      "189872\n",
      "328\n",
      "Resampling the data with SMOTE. . .\n",
      "Resampled training dataset shape Counter({0: 189544, 1: 189544})\n",
      "Fitting the model... CV[3]\n",
      "('Mean scores: ', ['RandomForestClassifier', 0.80383877343293453, 0.84003064309081121, 0.7825203252032521, datetime.timedelta(0, 34, 851308)])\n"
     ]
    },
    {
     "name": "stderr",
     "output_type": "stream",
     "text": [
      "/Users/HarryG1/Documents/University/Year_3/DeepLearning-CreditCardFraud/devEnv/lib/python2.7/site-packages/ipykernel_launcher.py:30: DataConversionWarning: A column-vector y was passed when a 1d array was expected. Please change the shape of y to (n_samples,), for example using ravel().\n"
     ]
    },
    {
     "name": "stdout",
     "output_type": "stream",
     "text": [
      "==============================\n",
      "MLPClassifier\n",
      "Cross validating... \n",
      "\n",
      "189871\n",
      "328\n",
      "Resampling the data with SMOTE. . .\n",
      "Resampled training dataset shape Counter({0: 189543, 1: 189543})\n",
      "Fitting the model... CV[1]\n",
      "189871\n",
      "328\n",
      "Resampling the data with SMOTE. . .\n",
      "Resampled training dataset shape Counter({0: 189543, 1: 189543})\n",
      "Fitting the model... CV[2]\n",
      "189872\n",
      "328\n",
      "Resampling the data with SMOTE. . .\n",
      "Resampled training dataset shape Counter({0: 189544, 1: 189544})\n",
      "Fitting the model... CV[3]\n",
      "('Mean scores: ', ['MLPClassifier', 0.68711079960574217, 0.67149210052177166, 0.72764227642276413, datetime.timedelta(0, 40, 762667)])\n"
     ]
    },
    {
     "name": "stderr",
     "output_type": "stream",
     "text": [
      "/Users/HarryG1/Documents/University/Year_3/DeepLearning-CreditCardFraud/devEnv/lib/python2.7/site-packages/sklearn/neural_network/multilayer_perceptron.py:912: DataConversionWarning: A column-vector y was passed when a 1d array was expected. Please change the shape of y to (n_samples, ), for example using ravel().\n",
      "  y = column_or_1d(y, warn=True)\n"
     ]
    },
    {
     "name": "stdout",
     "output_type": "stream",
     "text": [
      "==============================\n",
      "GaussianNB\n",
      "Cross validating... \n",
      "\n",
      "189871\n",
      "328\n",
      "Resampling the data with SMOTE. . .\n",
      "Resampled training dataset shape Counter({0: 189543, 1: 189543})\n",
      "Fitting the model... CV[1]\n",
      "189871\n",
      "328\n",
      "Resampling the data with SMOTE. . .\n",
      "Resampled training dataset shape Counter({0: 189543, 1: 189543})\n",
      "Fitting the model... CV[2]\n",
      "189872\n",
      "328\n",
      "Resampling the data with SMOTE. . .\n",
      "Resampled training dataset shape Counter({0: 189544, 1: 189544})\n",
      "Fitting the model... CV[3]\n",
      "('Mean scores: ', ['GaussianNB', 0.1070355192095666, 0.057118318033931526, 0.85569105691056901, datetime.timedelta(0, 0, 283884)])\n",
      "==============================\n",
      "Cross validation training results: \n",
      "                        F1 Score  Precision    Recall   Training Time\n",
      "Classifier                                                           \n",
      "KNeighborsClassifier    0.500218   0.375622  0.831301 00:00:03.104011\n",
      "LinearSVC               0.116348   0.062386  0.869919 00:01:38.645728\n",
      "DecisionTreeClassifier  0.421032   0.302214  0.715447 00:00:34.938850\n",
      "RandomForestClassifier  0.803839   0.840031  0.782520 00:00:34.851308\n",
      "MLPClassifier           0.687111   0.671492  0.727642 00:00:40.762667\n",
      "GaussianNB              0.107036   0.057118  0.855691 00:00:00.283884\n",
      "==============================\n"
     ]
    }
   ],
   "source": [
    "import datetime\n",
    "from sklearn.metrics import precision_recall_fscore_support\n",
    "\n",
    "# Setting up dataframe table properties\n",
    "log_cols=[\"Classifier\", \"F1 Score\", \"Precision\", \"Recall\", \"Training Time\"]\n",
    "log = pd.DataFrame(columns=log_cols)\n",
    "\n",
    "# Setting up dataframe table properties for generalised test data\n",
    "log_general = pd.DataFrame(columns=log_cols)\n",
    "\n",
    "test_general_graph_data = {}\n",
    "\n",
    "print(\"=\"*30)\n",
    "\n",
    "# Loop over the classifiers, fit the data over 3 iterations, gather results, input to dataframe table\n",
    "for clf in classifiers:\n",
    "    precision = []\n",
    "    recall = []\n",
    "    f1score = []\n",
    "    elapsed_times = []\n",
    "\n",
    "    name = clf.__class__.__name__\n",
    "    \n",
    "    print(name)\n",
    "\n",
    "    entry = custom_cross_val_2(X, y, clf, 3)\n",
    "    \n",
    "    # generalised test\n",
    "    start = datetime.datetime.now()\n",
    "    clf.fit(X_train, y_train)\n",
    "    end = datetime.datetime.now()\n",
    "    elapsed = end - start\n",
    "        \n",
    "    y_pred = clf.predict(X_test)\n",
    "    prfs = precision_recall_fscore_support(y_test, y_pred, pos_label=1, average='binary')    \n",
    "    \n",
    "    print(\"=\"*30)\n",
    "\n",
    "    log_entry = pd.DataFrame([entry], columns=log_cols)\n",
    "    log = log.append(log_entry)\n",
    "\n",
    "# Replace table index by the Classifier column\n",
    "log.set_index('Classifier', inplace=True)\n",
    "print 'Cross validation training results: '\n",
    "print log \n",
    "\n",
    "print(\"=\"*30)"
   ]
  },
  {
   "cell_type": "code",
   "execution_count": 83,
   "metadata": {},
   "outputs": [
    {
     "name": "stdout",
     "output_type": "stream",
     "text": [
      "                        F1 Score  Precision    Recall   Training Time\n",
      "Classifier                                                           \n",
      "KNeighborsClassifier    0.500218   0.375622  0.831301 00:00:03.104011\n",
      "LinearSVC               0.116348   0.062386  0.869919 00:01:38.645728\n",
      "DecisionTreeClassifier  0.421032   0.302214  0.715447 00:00:34.938850\n",
      "RandomForestClassifier  0.803839   0.840031  0.782520 00:00:34.851308\n",
      "MLPClassifier           0.687111   0.671492  0.727642 00:00:40.762667\n",
      "GaussianNB              0.107036   0.057118  0.855691 00:00:00.283884\n"
     ]
    }
   ],
   "source": [
    "print log"
   ]
  },
  {
   "cell_type": "code",
   "execution_count": null,
   "metadata": {},
   "outputs": [],
   "source": []
  },
  {
   "cell_type": "code",
   "execution_count": 28,
   "metadata": {},
   "outputs": [],
   "source": [
    "data = pd.read_csv(\"creditcard.csv\")"
   ]
  },
  {
   "cell_type": "code",
   "execution_count": 29,
   "metadata": {},
   "outputs": [
    {
     "name": "stderr",
     "output_type": "stream",
     "text": [
      "/Users/HarryG1/Documents/University/Year_3/DeepLearning-CreditCardFraud/devEnv/lib/python2.7/site-packages/ipykernel_launcher.py:2: DeprecationWarning: \n",
      ".ix is deprecated. Please use\n",
      ".loc for label based indexing or\n",
      ".iloc for positional indexing\n",
      "\n",
      "See the documentation here:\n",
      "http://pandas.pydata.org/pandas-docs/stable/indexing.html#ix-indexer-is-deprecated\n",
      "  \n"
     ]
    }
   ],
   "source": [
    "# Assign variables x and y corresponding to row data and it's class value\n",
    "X = data.ix[:, data.columns != 'Class']\n",
    "y = data.ix[:, data.columns == 'Class']"
   ]
  },
  {
   "cell_type": "code",
   "execution_count": null,
   "metadata": {},
   "outputs": [],
   "source": [
    "import datetime\n",
    "from sklearn.metrics import precision_recall_fscore_support\n",
    "\n",
    "# Setting up dataframe table properties\n",
    "log_cols=[\"Classifier\", \"F1 Score\", \"Precision\", \"Recall\", \"Training Time\"]\n",
    "log = pd.DataFrame(columns=log_cols)\n",
    "\n",
    "\n",
    "print(\"=\"*30)\n",
    "\n",
    "# Loop over the classifiers, fit the data over 3 iterations, gather results, input to dataframe table\n",
    "for clf in classifiers:\n",
    "    precision = []\n",
    "    recall = []\n",
    "    f1score = []\n",
    "    elapsed_times = []\n",
    "\n",
    "    name = clf.__class__.__name__\n",
    "    \n",
    "    print(name)\n",
    "\n",
    "    entry = custom_cross_val_2(X, y, clf, 4)\n",
    "    \n",
    "    print(\"=\"*30)\n",
    "\n",
    "    log_entry = pd.DataFrame([entry], columns=log_cols)\n",
    "    log = log.append(log_entry)\n",
    "\n",
    "# Replace table index by the Classifier column\n",
    "log.set_index('Classifier', inplace=True)\n",
    "print 'Cross validation training results: '\n",
    "print log \n",
    "\n",
    "print(\"=\"*30)"
   ]
  },
  {
   "cell_type": "code",
   "execution_count": null,
   "metadata": {},
   "outputs": [],
   "source": []
  },
  {
   "cell_type": "code",
   "execution_count": null,
   "metadata": {},
   "outputs": [],
   "source": []
  },
  {
   "cell_type": "code",
   "execution_count": null,
   "metadata": {},
   "outputs": [],
   "source": []
  },
  {
   "cell_type": "code",
   "execution_count": null,
   "metadata": {},
   "outputs": [],
   "source": []
  },
  {
   "cell_type": "code",
   "execution_count": 33,
   "metadata": {
    "scrolled": true
   },
   "outputs": [
    {
     "name": "stdout",
     "output_type": "stream",
     "text": [
      "==============================\n",
      "KNeighborsClassifier\n",
      "Resampling the data with SMOTE. . .\n",
      "Resampled training dataset shape Counter({0: 198987, 1: 198987})\n",
      "Cross validating... \n",
      "\n",
      "Fitting the model... CV[2]\n",
      "Fitting the model... CV[3]\n",
      "Fitting the model... CV[4]\n",
      "('Mean scores: ', ['KNeighborsClassifier', 0.99861740620854922, 0.99723863930033596, 1.0, datetime.timedelta(0, 1, 402998)])\n"
     ]
    },
    {
     "name": "stderr",
     "output_type": "stream",
     "text": [
      "/Users/HarryG1/Documents/University/Year_3/DeepLearning-CreditCardFraud/devEnv/lib/python2.7/site-packages/ipykernel_launcher.py:32: DataConversionWarning: A column-vector y was passed when a 1d array was expected. Please change the shape of y to (n_samples, ), for example using ravel().\n"
     ]
    },
    {
     "ename": "AssertionError",
     "evalue": "5 columns passed, passed data had 4 columns",
     "output_type": "error",
     "traceback": [
      "\u001b[0;31m---------------------------------------------------------------------------\u001b[0m",
      "\u001b[0;31mAssertionError\u001b[0m                            Traceback (most recent call last)",
      "\u001b[0;32m<ipython-input-33-245b458baaf5>\u001b[0m in \u001b[0;36m<module>\u001b[0;34m()\u001b[0m\n\u001b[1;32m     38\u001b[0m \u001b[0;34m\u001b[0m\u001b[0m\n\u001b[1;32m     39\u001b[0m     \u001b[0mgeneral_test_entry\u001b[0m \u001b[0;34m=\u001b[0m \u001b[0;34m[\u001b[0m\u001b[0mprfs\u001b[0m\u001b[0;34m[\u001b[0m\u001b[0;36m0\u001b[0m\u001b[0;34m]\u001b[0m\u001b[0;34m,\u001b[0m \u001b[0mprfs\u001b[0m\u001b[0;34m[\u001b[0m\u001b[0;36m1\u001b[0m\u001b[0;34m]\u001b[0m\u001b[0;34m,\u001b[0m \u001b[0mprfs\u001b[0m\u001b[0;34m[\u001b[0m\u001b[0;36m2\u001b[0m\u001b[0;34m]\u001b[0m\u001b[0;34m,\u001b[0m \u001b[0melapsed\u001b[0m\u001b[0;34m]\u001b[0m\u001b[0;34m\u001b[0m\u001b[0m\n\u001b[0;32m---> 40\u001b[0;31m     \u001b[0mgeneral_log_entry\u001b[0m \u001b[0;34m=\u001b[0m \u001b[0mpd\u001b[0m\u001b[0;34m.\u001b[0m\u001b[0mDataFrame\u001b[0m\u001b[0;34m(\u001b[0m\u001b[0;34m[\u001b[0m\u001b[0mgeneral_test_entry\u001b[0m\u001b[0;34m]\u001b[0m\u001b[0;34m,\u001b[0m \u001b[0mcolumns\u001b[0m\u001b[0;34m=\u001b[0m\u001b[0mlog_cols\u001b[0m\u001b[0;34m)\u001b[0m\u001b[0;34m\u001b[0m\u001b[0m\n\u001b[0m\u001b[1;32m     41\u001b[0m     \u001b[0mlog_general\u001b[0m \u001b[0;34m=\u001b[0m \u001b[0mlog_general\u001b[0m\u001b[0;34m.\u001b[0m\u001b[0mappend\u001b[0m\u001b[0;34m(\u001b[0m\u001b[0mgeneral_log_entry\u001b[0m\u001b[0;34m)\u001b[0m\u001b[0;34m\u001b[0m\u001b[0m\n\u001b[1;32m     42\u001b[0m \u001b[0;34m\u001b[0m\u001b[0m\n",
      "\u001b[0;32m/Users/HarryG1/Documents/University/Year_3/DeepLearning-CreditCardFraud/devEnv/lib/python2.7/site-packages/pandas/core/frame.pyc\u001b[0m in \u001b[0;36m__init__\u001b[0;34m(self, data, index, columns, dtype, copy)\u001b[0m\n\u001b[1;32m    367\u001b[0m                     \u001b[0;32mif\u001b[0m \u001b[0mis_named_tuple\u001b[0m\u001b[0;34m(\u001b[0m\u001b[0mdata\u001b[0m\u001b[0;34m[\u001b[0m\u001b[0;36m0\u001b[0m\u001b[0;34m]\u001b[0m\u001b[0;34m)\u001b[0m \u001b[0;32mand\u001b[0m \u001b[0mcolumns\u001b[0m \u001b[0;32mis\u001b[0m \u001b[0mNone\u001b[0m\u001b[0;34m:\u001b[0m\u001b[0;34m\u001b[0m\u001b[0m\n\u001b[1;32m    368\u001b[0m                         \u001b[0mcolumns\u001b[0m \u001b[0;34m=\u001b[0m \u001b[0mdata\u001b[0m\u001b[0;34m[\u001b[0m\u001b[0;36m0\u001b[0m\u001b[0;34m]\u001b[0m\u001b[0;34m.\u001b[0m\u001b[0m_fields\u001b[0m\u001b[0;34m\u001b[0m\u001b[0m\n\u001b[0;32m--> 369\u001b[0;31m                     \u001b[0marrays\u001b[0m\u001b[0;34m,\u001b[0m \u001b[0mcolumns\u001b[0m \u001b[0;34m=\u001b[0m \u001b[0m_to_arrays\u001b[0m\u001b[0;34m(\u001b[0m\u001b[0mdata\u001b[0m\u001b[0;34m,\u001b[0m \u001b[0mcolumns\u001b[0m\u001b[0;34m,\u001b[0m \u001b[0mdtype\u001b[0m\u001b[0;34m=\u001b[0m\u001b[0mdtype\u001b[0m\u001b[0;34m)\u001b[0m\u001b[0;34m\u001b[0m\u001b[0m\n\u001b[0m\u001b[1;32m    370\u001b[0m                     \u001b[0mcolumns\u001b[0m \u001b[0;34m=\u001b[0m \u001b[0m_ensure_index\u001b[0m\u001b[0;34m(\u001b[0m\u001b[0mcolumns\u001b[0m\u001b[0;34m)\u001b[0m\u001b[0;34m\u001b[0m\u001b[0m\n\u001b[1;32m    371\u001b[0m \u001b[0;34m\u001b[0m\u001b[0m\n",
      "\u001b[0;32m/Users/HarryG1/Documents/University/Year_3/DeepLearning-CreditCardFraud/devEnv/lib/python2.7/site-packages/pandas/core/frame.pyc\u001b[0m in \u001b[0;36m_to_arrays\u001b[0;34m(data, columns, coerce_float, dtype)\u001b[0m\n\u001b[1;32m   6249\u001b[0m     \u001b[0;32mif\u001b[0m \u001b[0misinstance\u001b[0m\u001b[0;34m(\u001b[0m\u001b[0mdata\u001b[0m\u001b[0;34m[\u001b[0m\u001b[0;36m0\u001b[0m\u001b[0;34m]\u001b[0m\u001b[0;34m,\u001b[0m \u001b[0;34m(\u001b[0m\u001b[0mlist\u001b[0m\u001b[0;34m,\u001b[0m \u001b[0mtuple\u001b[0m\u001b[0;34m)\u001b[0m\u001b[0;34m)\u001b[0m\u001b[0;34m:\u001b[0m\u001b[0;34m\u001b[0m\u001b[0m\n\u001b[1;32m   6250\u001b[0m         return _list_to_arrays(data, columns, coerce_float=coerce_float,\n\u001b[0;32m-> 6251\u001b[0;31m                                dtype=dtype)\n\u001b[0m\u001b[1;32m   6252\u001b[0m     \u001b[0;32melif\u001b[0m \u001b[0misinstance\u001b[0m\u001b[0;34m(\u001b[0m\u001b[0mdata\u001b[0m\u001b[0;34m[\u001b[0m\u001b[0;36m0\u001b[0m\u001b[0;34m]\u001b[0m\u001b[0;34m,\u001b[0m \u001b[0mcollections\u001b[0m\u001b[0;34m.\u001b[0m\u001b[0mMapping\u001b[0m\u001b[0;34m)\u001b[0m\u001b[0;34m:\u001b[0m\u001b[0;34m\u001b[0m\u001b[0m\n\u001b[1;32m   6253\u001b[0m         return _list_of_dict_to_arrays(data, columns,\n",
      "\u001b[0;32m/Users/HarryG1/Documents/University/Year_3/DeepLearning-CreditCardFraud/devEnv/lib/python2.7/site-packages/pandas/core/frame.pyc\u001b[0m in \u001b[0;36m_list_to_arrays\u001b[0;34m(data, columns, coerce_float, dtype)\u001b[0m\n\u001b[1;32m   6328\u001b[0m         \u001b[0mcontent\u001b[0m \u001b[0;34m=\u001b[0m \u001b[0mlist\u001b[0m\u001b[0;34m(\u001b[0m\u001b[0mlib\u001b[0m\u001b[0;34m.\u001b[0m\u001b[0mto_object_array\u001b[0m\u001b[0;34m(\u001b[0m\u001b[0mdata\u001b[0m\u001b[0;34m)\u001b[0m\u001b[0;34m.\u001b[0m\u001b[0mT\u001b[0m\u001b[0;34m)\u001b[0m\u001b[0;34m\u001b[0m\u001b[0m\n\u001b[1;32m   6329\u001b[0m     return _convert_object_array(content, columns, dtype=dtype,\n\u001b[0;32m-> 6330\u001b[0;31m                                  coerce_float=coerce_float)\n\u001b[0m\u001b[1;32m   6331\u001b[0m \u001b[0;34m\u001b[0m\u001b[0m\n\u001b[1;32m   6332\u001b[0m \u001b[0;34m\u001b[0m\u001b[0m\n",
      "\u001b[0;32m/Users/HarryG1/Documents/University/Year_3/DeepLearning-CreditCardFraud/devEnv/lib/python2.7/site-packages/pandas/core/frame.pyc\u001b[0m in \u001b[0;36m_convert_object_array\u001b[0;34m(content, columns, coerce_float, dtype)\u001b[0m\n\u001b[1;32m   6385\u001b[0m             \u001b[0;31m# caller's responsibility to check for this...\u001b[0m\u001b[0;34m\u001b[0m\u001b[0;34m\u001b[0m\u001b[0m\n\u001b[1;32m   6386\u001b[0m             raise AssertionError('%d columns passed, passed data had %s '\n\u001b[0;32m-> 6387\u001b[0;31m                                  'columns' % (len(columns), len(content)))\n\u001b[0m\u001b[1;32m   6388\u001b[0m \u001b[0;34m\u001b[0m\u001b[0m\n\u001b[1;32m   6389\u001b[0m     \u001b[0;31m# provide soft conversion of object dtypes\u001b[0m\u001b[0;34m\u001b[0m\u001b[0;34m\u001b[0m\u001b[0m\n",
      "\u001b[0;31mAssertionError\u001b[0m: 5 columns passed, passed data had 4 columns"
     ]
    }
   ],
   "source": [
    "import datetime\n",
    "from sklearn.metrics import precision_recall_fscore_support\n",
    "\n",
    "# Setting up dataframe table properties\n",
    "log_cols=[\"Classifier\", \"F1 Score\", \"Precision\", \"Recall\", \"Training Time\"]\n",
    "log = pd.DataFrame(columns=log_cols)\n",
    "\n",
    "# Setting up dataframe table properties for generalised test data\n",
    "log_general = pd.DataFrame(columns=log_cols)\n",
    "\n",
    "test_general_graph_data = {}\n",
    "\n",
    "print(\"=\"*30)\n",
    "\n",
    "# Loop over the classifiers, fit the data over 3 iterations, gather results, input to dataframe table\n",
    "for clf in classifiers:\n",
    "    precision = []\n",
    "    recall = []\n",
    "    f1score = []\n",
    "    elapsed_times = []\n",
    "\n",
    "    name = clf.__class__.__name__\n",
    "    \n",
    "    print(name)\n",
    "\n",
    "    X_res, y_res, X_test, y_test = generate_train_test_sample(X, y)\n",
    "\n",
    "    entry = custom_cross_val(X_res, y_res, clf)\n",
    "    \n",
    "    # generalised test\n",
    "    start = datetime.datetime.now()\n",
    "    clf.fit(X_train, y_train)\n",
    "    end = datetime.datetime.now()\n",
    "    elapsed = end - start\n",
    "        \n",
    "    y_pred = clf.predict(X_test)\n",
    "    prfs = precision_recall_fscore_support(y_test, y_pred, pos_label=1, average='binary')\n",
    "    \n",
    "    general_test_entry = [name, prfs[0], prfs[1], prfs[2], elapsed]\n",
    "    general_log_entry = pd.DataFrame([general_test_entry], columns=log_cols)\n",
    "    log_general = log_general.append(general_log_entry)\n",
    "    \n",
    "    # data for precision recall graphs\n",
    "    precision, recall, _ = precision_recall_curve(y_test, y_pred)\n",
    "    \n",
    "    test_general_graph_data.update(name, (precision, recall, thresholds))\n",
    "    \n",
    "    print(\"=\"*30)\n",
    "\n",
    "    log_entry = pd.DataFrame([entry], columns=log_cols)\n",
    "    log = log.append(log_entry)\n",
    "\n",
    "# Replace table index by the Classifier column\n",
    "log.set_index('Classifier', inplace=True)\n",
    "print 'Cross validation training results: '\n",
    "print log \n",
    "print 'Generalised results on new test data: '\n",
    "print log_general\n",
    "print(\"=\"*30)"
   ]
  },
  {
   "cell_type": "code",
   "execution_count": null,
   "metadata": {},
   "outputs": [],
   "source": [
    "# Plots to visualise results\n",
    "ax = log[['F1 Score']].plot(kind='bar', title =\"F1 Score\", figsize=(15, 10),legend=True, fontsize=12)\n",
    "ax.set_xlabel(\"Classifier\", fontsize=12)\n",
    "ax.set_ylabel(\"Score\", fontsize=12)\n",
    "plt.show()\n",
    "\n"
   ]
  },
  {
   "cell_type": "code",
   "execution_count": null,
   "metadata": {
    "scrolled": false
   },
   "outputs": [],
   "source": [
    "ax = log[['Recall']].plot(kind='bar', title =\"Recall\", figsize=(15, 10), legend=True, fontsize=12)\n",
    "ax.set_xlabel(\"Classifier\", fontsize=12)\n",
    "ax.set_ylabel(\"Score\", fontsize=12)\n",
    "plt.subplot()\n",
    "\n"
   ]
  },
  {
   "cell_type": "code",
   "execution_count": null,
   "metadata": {},
   "outputs": [],
   "source": [
    "ax = log[['Precision']].plot(kind='bar', title =\"Precision\", figsize=(15, 10), legend=True, fontsize=12)\n",
    "ax.set_xlabel(\"Classifier\", fontsize=12)\n",
    "ax.set_ylabel(\"Score\", fontsize=12)\n",
    "plt.show()"
   ]
  },
  {
   "cell_type": "code",
   "execution_count": null,
   "metadata": {},
   "outputs": [],
   "source": [
    "def plot_precision_recall(precision_recall_dict):\n",
    "    plt.figure()\n",
    "    i = 221\n",
    "    for name, values in precision_recall_dict:\n",
    "        \n",
    "        plt.subplot(i)\n",
    "        plt.plot(values[0], values[1])\n",
    "        plt.xlabel(\"recall\")\n",
    "        plt.ylabel(\"precision\")\n",
    "        plt.title(name)\n",
    "        plt.grid(True)\n",
    "        i = i + 1\n",
    "    plt.show()"
   ]
  },
  {
   "cell_type": "code",
   "execution_count": null,
   "metadata": {},
   "outputs": [],
   "source": [
    "''' Cross-val on original (unbalanced) data\n",
    "==============================\n",
    "Cross validation training results: \n",
    "                        F1 Score  Precision    Recall   Training Time\n",
    "Classifier                                                           \n",
    "KNeighborsClassifier    0.001999   0.001002  0.463415 00:01:00.503710\n",
    "LinearSVC               0.004678   0.005510  0.004065 00:00:32.412505\n",
    "DecisionTreeClassifier  0.332747   0.330607  0.680894 00:00:11.695929\n",
    "RandomForestClassifier  0.529545   0.626031  0.776423 00:00:11.912450\n",
    "MLPClassifier           0.321192   0.343423  0.526423 00:00:05.211895\n",
    "GaussianNB              0.223713   0.137959  0.701220 00:00:00.108357\n",
    "==============================\n",
    "'''"
   ]
  },
  {
   "cell_type": "code",
   "execution_count": null,
   "metadata": {},
   "outputs": [],
   "source": [
    "''' Cross-val on UnderSampled data\n",
    "==============================\n",
    "Cross validation training results: \n",
    "                        F1 Score  Precision    Recall   Training Time\n",
    "Classifier                                                           \n",
    "KNeighborsClassifier    0.006202   0.013072  0.004065 00:00:00.001172\n",
    "LinearSVC               0.321363   0.498962  0.329268 00:00:00.048264\n",
    "DecisionTreeClassifier  0.682836   0.825479  0.611789 00:00:00.008920\n",
    "RandomForestClassifier  0.924536   0.979922  0.876016 00:00:00.033931\n",
    "MLPClassifier           0.219945   0.165638  0.327236 00:00:00.012885\n",
    "GaussianNB              0.829327   0.985367  0.721545 00:00:00.001068\n",
    "==============================\n",
    "'''"
   ]
  },
  {
   "cell_type": "code",
   "execution_count": null,
   "metadata": {},
   "outputs": [],
   "source": [
    "''' Cross-val accounting properly for oversampling with smote\n",
    "                        F1 Score  Precision    Recall   Training Time\n",
    "Classifier                                                           \n",
    "KNeighborsClassifier    0.500218   0.375622  0.831301 00:00:03.104011\n",
    "LinearSVC               0.116348   0.062386  0.869919 00:01:38.645728\n",
    "DecisionTreeClassifier  0.421032   0.302214  0.715447 00:00:34.938850\n",
    "RandomForestClassifier  0.803839   0.840031  0.782520 00:00:34.851308\n",
    "MLPClassifier           0.687111   0.671492  0.727642 00:00:40.762667\n",
    "GaussianNB              0.107036   0.057118  0.855691 00:00:00.283884\n",
    "'''"
   ]
  },
  {
   "cell_type": "code",
   "execution_count": null,
   "metadata": {},
   "outputs": [],
   "source": [
    "'''\n",
    "SUMMARY OF RESULTS (AVG over three random iterations)\n",
    "=====================================================================\n",
    "                        F1 Score  Precision    Recall   Training Time\n",
    "Classifier                                                           \n",
    "KNeighborsClassifier    0.611444   0.476876  0.853809 00:00:01.758558\n",
    "LinearSVC               0.119385   0.063951  0.896587 00:01:24.125692\n",
    "DecisionTreeClassifier  0.536858   0.411079  0.774736 00:00:23.579666\n",
    "RandomForestClassifier  0.846437   0.879453  0.816384 00:00:23.179558\n",
    "MLPClassifier           0.750672   0.704481  0.807383 00:00:27.263501\n",
    "GaussianNB              0.109543   0.058463  0.870450 00:00:00.213850\n",
    "=====================================================================\n",
    "'''\n",
    "\n",
    "print log\n",
    "print log_general"
   ]
  },
  {
   "cell_type": "markdown",
   "metadata": {},
   "source": [
    "## Evaluation Summary\n",
    "\n",
    "#### F1-score:\n",
    "F1-score is the harmonic average of precision and recall. We can define precision as intuitively the ability of the classifier not to label as positive, a sample that is negative. Similarly we define recall as intuitively the ability of the classifier to find all the positive samples.\n",
    "\n",
    "So why do we care about F1 score? \n",
    "\n",
    "#### Context of the bank\n",
    "In the context of banks and how these metrics add or lose value to them, we indeed care about F1 score. As you can see from the results table, LinearSVC has the highest Recall score, which means it is great at finding true fraudulent cases. However, it's precision is very low at 0.11. This essentially means that the classifier performs badly when it comes to predicting some non-fraudulent data and falsly labelling them as fraud. Why is this bad? This is bad because the loses the bank money and gives customers a bad experience. If we have bad precision then we falsly classify as fraud a lot and we freeze customer cards and accounts and send them a text to say we believe there is fraud etc. Only to ultimately verify that everything is benign and reverse the situation. This is very bad and gives a bad impression for the customer, who may indeed change bank or lose faith in the bank's intelligence systems.\n",
    "\n",
    "#### Hence, we care about F1 score, which is the balance between these two metrics. Recall: being able to catch true frauds and Precision: being able to correctly classify and reduce the number of false positives.\n",
    "In this light, we see that\n",
    "\n",
    "#### RandomForestClassifier  0.846437\n",
    "\n",
    "is very favourable and performs rather well in comparison to the other classifiers."
   ]
  },
  {
   "cell_type": "code",
   "execution_count": null,
   "metadata": {},
   "outputs": [],
   "source": []
  }
 ],
 "metadata": {
  "kernelspec": {
   "display_name": "Python 2",
   "language": "python",
   "name": "python2"
  },
  "language_info": {
   "codemirror_mode": {
    "name": "ipython",
    "version": 2
   },
   "file_extension": ".py",
   "mimetype": "text/x-python",
   "name": "python",
   "nbconvert_exporter": "python",
   "pygments_lexer": "ipython2",
   "version": "2.7.10"
  }
 },
 "nbformat": 4,
 "nbformat_minor": 2
}
