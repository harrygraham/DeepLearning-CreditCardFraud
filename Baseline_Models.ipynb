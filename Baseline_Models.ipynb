{
 "cells": [
  {
   "cell_type": "markdown",
   "metadata": {},
   "source": [
    "# Baseline Models\n",
    "\n",
    "Here we walk through some data exploration and do work on our baseline models.\n",
    "\n",
    "The outline is as follows:\n",
    "\n",
    "* Look at data and run simple logistic regression classifer on data\n",
    "* Try resampling methods using this classifer \n",
    "* Implement other baseline classifiers using the best resampling technique \n",
    "* See briefly what tuning can be done"
   ]
  },
  {
   "cell_type": "markdown",
   "metadata": {},
   "source": [
    "\n",
    "### Imports and printing utility\n"
   ]
  },
  {
   "cell_type": "code",
   "execution_count": 3,
   "metadata": {},
   "outputs": [],
   "source": [
    "import pandas as pd\n",
    "import matplotlib.pyplot as plt\n",
    "import numpy as np\n",
    "import itertools\n",
    "\n",
    "from IPython.core.display import HTML\n",
    "\n",
    "HTML(\"\"\"\n",
    "<style>\n",
    " {\n",
    "    display: table-cell;\n",
    "    text-align: center;\n",
    "   .output_png vertical-align: middle;\n",
    "}\n",
    "</style>\n",
    "\"\"\")\n",
    "\n",
    "def plot_confusion_matrix(cm, classes,\n",
    "                          normalize=False,\n",
    "                          title='Confusion matrix',\n",
    "                          cmap=plt.cm.Blues):\n",
    "    \"\"\"\n",
    "    This function prints and plots the confusion matrix.\n",
    "    Normalization can be applied by setting `normalize=True`.\n",
    "    \"\"\"\n",
    "    plt.imshow(cm, interpolation='nearest', cmap=cmap)\n",
    "    plt.title(title)\n",
    "    plt.colorbar()\n",
    "    tick_marks = np.arange(len(classes))\n",
    "    plt.xticks(tick_marks, classes, rotation=0)\n",
    "    plt.yticks(tick_marks, classes)\n",
    "\n",
    "    if normalize:\n",
    "        cm = cm.astype('float') / cm.sum(axis=1)[:, np.newaxis]\n",
    "        #print(\"Normalized confusion matrix\")\n",
    "    else:\n",
    "        1#print('Confusion matrix, without normalization')\n",
    "\n",
    "    #print(cm)\n",
    "\n",
    "    thresh = cm.max() / 2.\n",
    "    for i, j in itertools.product(range(cm.shape[0]), range(cm.shape[1])):\n",
    "        plt.text(j, i, cm[i, j],\n",
    "                 horizontalalignment=\"center\",\n",
    "                 color=\"white\" if cm[i, j] > thresh else \"black\")\n",
    "\n",
    "    plt.tight_layout()\n",
    "    plt.ylabel('True label')\n",
    "    plt.xlabel('Predicted label')\n",
    "    "
   ]
  },
  {
   "cell_type": "markdown",
   "metadata": {},
   "source": [
    "This is a function that prints a nice plot of the confusion matrix, that'll be useful to use later on."
   ]
  },
  {
   "cell_type": "markdown",
   "metadata": {},
   "source": [
    "### Read in Data"
   ]
  },
  {
   "cell_type": "code",
   "execution_count": 4,
   "metadata": {
    "scrolled": false
   },
   "outputs": [
    {
     "data": {
      "text/html": [
       "<div>\n",
       "<style scoped>\n",
       "    .dataframe tbody tr th:only-of-type {\n",
       "        vertical-align: middle;\n",
       "    }\n",
       "\n",
       "    .dataframe tbody tr th {\n",
       "        vertical-align: top;\n",
       "    }\n",
       "\n",
       "    .dataframe thead th {\n",
       "        text-align: right;\n",
       "    }\n",
       "</style>\n",
       "<table border=\"1\" class=\"dataframe\">\n",
       "  <thead>\n",
       "    <tr style=\"text-align: right;\">\n",
       "      <th></th>\n",
       "      <th>Time</th>\n",
       "      <th>V1</th>\n",
       "      <th>V2</th>\n",
       "      <th>V3</th>\n",
       "      <th>V4</th>\n",
       "      <th>V5</th>\n",
       "      <th>V6</th>\n",
       "      <th>V7</th>\n",
       "      <th>V8</th>\n",
       "      <th>V9</th>\n",
       "      <th>...</th>\n",
       "      <th>V21</th>\n",
       "      <th>V22</th>\n",
       "      <th>V23</th>\n",
       "      <th>V24</th>\n",
       "      <th>V25</th>\n",
       "      <th>V26</th>\n",
       "      <th>V27</th>\n",
       "      <th>V28</th>\n",
       "      <th>Amount</th>\n",
       "      <th>Class</th>\n",
       "    </tr>\n",
       "  </thead>\n",
       "  <tbody>\n",
       "    <tr>\n",
       "      <th>0</th>\n",
       "      <td>0.0</td>\n",
       "      <td>-1.359807</td>\n",
       "      <td>-0.072781</td>\n",
       "      <td>2.536347</td>\n",
       "      <td>1.378155</td>\n",
       "      <td>-0.338321</td>\n",
       "      <td>0.462388</td>\n",
       "      <td>0.239599</td>\n",
       "      <td>0.098698</td>\n",
       "      <td>0.363787</td>\n",
       "      <td>...</td>\n",
       "      <td>-0.018307</td>\n",
       "      <td>0.277838</td>\n",
       "      <td>-0.110474</td>\n",
       "      <td>0.066928</td>\n",
       "      <td>0.128539</td>\n",
       "      <td>-0.189115</td>\n",
       "      <td>0.133558</td>\n",
       "      <td>-0.021053</td>\n",
       "      <td>149.62</td>\n",
       "      <td>0</td>\n",
       "    </tr>\n",
       "    <tr>\n",
       "      <th>1</th>\n",
       "      <td>0.0</td>\n",
       "      <td>1.191857</td>\n",
       "      <td>0.266151</td>\n",
       "      <td>0.166480</td>\n",
       "      <td>0.448154</td>\n",
       "      <td>0.060018</td>\n",
       "      <td>-0.082361</td>\n",
       "      <td>-0.078803</td>\n",
       "      <td>0.085102</td>\n",
       "      <td>-0.255425</td>\n",
       "      <td>...</td>\n",
       "      <td>-0.225775</td>\n",
       "      <td>-0.638672</td>\n",
       "      <td>0.101288</td>\n",
       "      <td>-0.339846</td>\n",
       "      <td>0.167170</td>\n",
       "      <td>0.125895</td>\n",
       "      <td>-0.008983</td>\n",
       "      <td>0.014724</td>\n",
       "      <td>2.69</td>\n",
       "      <td>0</td>\n",
       "    </tr>\n",
       "    <tr>\n",
       "      <th>2</th>\n",
       "      <td>1.0</td>\n",
       "      <td>-1.358354</td>\n",
       "      <td>-1.340163</td>\n",
       "      <td>1.773209</td>\n",
       "      <td>0.379780</td>\n",
       "      <td>-0.503198</td>\n",
       "      <td>1.800499</td>\n",
       "      <td>0.791461</td>\n",
       "      <td>0.247676</td>\n",
       "      <td>-1.514654</td>\n",
       "      <td>...</td>\n",
       "      <td>0.247998</td>\n",
       "      <td>0.771679</td>\n",
       "      <td>0.909412</td>\n",
       "      <td>-0.689281</td>\n",
       "      <td>-0.327642</td>\n",
       "      <td>-0.139097</td>\n",
       "      <td>-0.055353</td>\n",
       "      <td>-0.059752</td>\n",
       "      <td>378.66</td>\n",
       "      <td>0</td>\n",
       "    </tr>\n",
       "    <tr>\n",
       "      <th>3</th>\n",
       "      <td>1.0</td>\n",
       "      <td>-0.966272</td>\n",
       "      <td>-0.185226</td>\n",
       "      <td>1.792993</td>\n",
       "      <td>-0.863291</td>\n",
       "      <td>-0.010309</td>\n",
       "      <td>1.247203</td>\n",
       "      <td>0.237609</td>\n",
       "      <td>0.377436</td>\n",
       "      <td>-1.387024</td>\n",
       "      <td>...</td>\n",
       "      <td>-0.108300</td>\n",
       "      <td>0.005274</td>\n",
       "      <td>-0.190321</td>\n",
       "      <td>-1.175575</td>\n",
       "      <td>0.647376</td>\n",
       "      <td>-0.221929</td>\n",
       "      <td>0.062723</td>\n",
       "      <td>0.061458</td>\n",
       "      <td>123.50</td>\n",
       "      <td>0</td>\n",
       "    </tr>\n",
       "    <tr>\n",
       "      <th>4</th>\n",
       "      <td>2.0</td>\n",
       "      <td>-1.158233</td>\n",
       "      <td>0.877737</td>\n",
       "      <td>1.548718</td>\n",
       "      <td>0.403034</td>\n",
       "      <td>-0.407193</td>\n",
       "      <td>0.095921</td>\n",
       "      <td>0.592941</td>\n",
       "      <td>-0.270533</td>\n",
       "      <td>0.817739</td>\n",
       "      <td>...</td>\n",
       "      <td>-0.009431</td>\n",
       "      <td>0.798278</td>\n",
       "      <td>-0.137458</td>\n",
       "      <td>0.141267</td>\n",
       "      <td>-0.206010</td>\n",
       "      <td>0.502292</td>\n",
       "      <td>0.219422</td>\n",
       "      <td>0.215153</td>\n",
       "      <td>69.99</td>\n",
       "      <td>0</td>\n",
       "    </tr>\n",
       "  </tbody>\n",
       "</table>\n",
       "<p>5 rows × 31 columns</p>\n",
       "</div>"
      ],
      "text/plain": [
       "   Time        V1        V2        V3        V4        V5        V6        V7  \\\n",
       "0   0.0 -1.359807 -0.072781  2.536347  1.378155 -0.338321  0.462388  0.239599   \n",
       "1   0.0  1.191857  0.266151  0.166480  0.448154  0.060018 -0.082361 -0.078803   \n",
       "2   1.0 -1.358354 -1.340163  1.773209  0.379780 -0.503198  1.800499  0.791461   \n",
       "3   1.0 -0.966272 -0.185226  1.792993 -0.863291 -0.010309  1.247203  0.237609   \n",
       "4   2.0 -1.158233  0.877737  1.548718  0.403034 -0.407193  0.095921  0.592941   \n",
       "\n",
       "         V8        V9  ...         V21       V22       V23       V24  \\\n",
       "0  0.098698  0.363787  ...   -0.018307  0.277838 -0.110474  0.066928   \n",
       "1  0.085102 -0.255425  ...   -0.225775 -0.638672  0.101288 -0.339846   \n",
       "2  0.247676 -1.514654  ...    0.247998  0.771679  0.909412 -0.689281   \n",
       "3  0.377436 -1.387024  ...   -0.108300  0.005274 -0.190321 -1.175575   \n",
       "4 -0.270533  0.817739  ...   -0.009431  0.798278 -0.137458  0.141267   \n",
       "\n",
       "        V25       V26       V27       V28  Amount  Class  \n",
       "0  0.128539 -0.189115  0.133558 -0.021053  149.62      0  \n",
       "1  0.167170  0.125895 -0.008983  0.014724    2.69      0  \n",
       "2 -0.327642 -0.139097 -0.055353 -0.059752  378.66      0  \n",
       "3  0.647376 -0.221929  0.062723  0.061458  123.50      0  \n",
       "4 -0.206010  0.502292  0.219422  0.215153   69.99      0  \n",
       "\n",
       "[5 rows x 31 columns]"
      ]
     },
     "execution_count": 4,
     "metadata": {},
     "output_type": "execute_result"
    }
   ],
   "source": [
    "data = pd.read_csv(\"creditcard.csv\")\n",
    "data.head()"
   ]
  },
  {
   "cell_type": "markdown",
   "metadata": {},
   "source": [
    "As we can see, the features have been normalised, except Time and Amount."
   ]
  },
  {
   "cell_type": "markdown",
   "metadata": {},
   "source": [
    "### View data balance"
   ]
  },
  {
   "cell_type": "code",
   "execution_count": 5,
   "metadata": {
    "scrolled": true
   },
   "outputs": [
    {
     "data": {
      "image/png": "[encoded data removed]",
      "text/plain": [
       "<matplotlib.figure.Figure at 0x10bd1e6d0>"
      ]
     },
     "metadata": {},
     "output_type": "display_data"
    },
    {
     "name": "stdout",
     "output_type": "stream",
     "text": [
      "0    284315\n",
      "1       492\n",
      "Name: Class, dtype: int64\n"
     ]
    }
   ],
   "source": [
    "# Print a plot of class balance\n",
    "classes = pd.value_counts(data['Class'], sort=True).sort_index()\n",
    "classes.plot(kind = 'bar')\n",
    "plt.show()\n",
    "print classes"
   ]
  },
  {
   "cell_type": "markdown",
   "metadata": {},
   "source": [
    "### Normalise the Amount column and drop the Time column and the old Amount column"
   ]
  },
  {
   "cell_type": "code",
   "execution_count": 6,
   "metadata": {},
   "outputs": [
    {
     "name": "stderr",
     "output_type": "stream",
     "text": [
      "/Users/HarryG1/Documents/University/Year_3/DeepLearning-CreditCardFraud/devEnv/lib/python2.7/site-packages/ipykernel_launcher.py:3: FutureWarning: reshape is deprecated and will raise in a subsequent release. Please use .values.reshape(...) instead\n",
      "  This is separate from the ipykernel package so we can avoid doing imports until\n"
     ]
    },
    {
     "data": {
      "text/html": [
       "<div>\n",
       "<style scoped>\n",
       "    .dataframe tbody tr th:only-of-type {\n",
       "        vertical-align: middle;\n",
       "    }\n",
       "\n",
       "    .dataframe tbody tr th {\n",
       "        vertical-align: top;\n",
       "    }\n",
       "\n",
       "    .dataframe thead th {\n",
       "        text-align: right;\n",
       "    }\n",
       "</style>\n",
       "<table border=\"1\" class=\"dataframe\">\n",
       "  <thead>\n",
       "    <tr style=\"text-align: right;\">\n",
       "      <th></th>\n",
       "      <th>V1</th>\n",
       "      <th>V2</th>\n",
       "      <th>V3</th>\n",
       "      <th>V4</th>\n",
       "      <th>V5</th>\n",
       "      <th>V6</th>\n",
       "      <th>V7</th>\n",
       "      <th>V8</th>\n",
       "      <th>V9</th>\n",
       "      <th>V10</th>\n",
       "      <th>...</th>\n",
       "      <th>V21</th>\n",
       "      <th>V22</th>\n",
       "      <th>V23</th>\n",
       "      <th>V24</th>\n",
       "      <th>V25</th>\n",
       "      <th>V26</th>\n",
       "      <th>V27</th>\n",
       "      <th>V28</th>\n",
       "      <th>Class</th>\n",
       "      <th>norm_Amount</th>\n",
       "    </tr>\n",
       "  </thead>\n",
       "  <tbody>\n",
       "    <tr>\n",
       "      <th>0</th>\n",
       "      <td>-1.359807</td>\n",
       "      <td>-0.072781</td>\n",
       "      <td>2.536347</td>\n",
       "      <td>1.378155</td>\n",
       "      <td>-0.338321</td>\n",
       "      <td>0.462388</td>\n",
       "      <td>0.239599</td>\n",
       "      <td>0.098698</td>\n",
       "      <td>0.363787</td>\n",
       "      <td>0.090794</td>\n",
       "      <td>...</td>\n",
       "      <td>-0.018307</td>\n",
       "      <td>0.277838</td>\n",
       "      <td>-0.110474</td>\n",
       "      <td>0.066928</td>\n",
       "      <td>0.128539</td>\n",
       "      <td>-0.189115</td>\n",
       "      <td>0.133558</td>\n",
       "      <td>-0.021053</td>\n",
       "      <td>0</td>\n",
       "      <td>0.244964</td>\n",
       "    </tr>\n",
       "    <tr>\n",
       "      <th>1</th>\n",
       "      <td>1.191857</td>\n",
       "      <td>0.266151</td>\n",
       "      <td>0.166480</td>\n",
       "      <td>0.448154</td>\n",
       "      <td>0.060018</td>\n",
       "      <td>-0.082361</td>\n",
       "      <td>-0.078803</td>\n",
       "      <td>0.085102</td>\n",
       "      <td>-0.255425</td>\n",
       "      <td>-0.166974</td>\n",
       "      <td>...</td>\n",
       "      <td>-0.225775</td>\n",
       "      <td>-0.638672</td>\n",
       "      <td>0.101288</td>\n",
       "      <td>-0.339846</td>\n",
       "      <td>0.167170</td>\n",
       "      <td>0.125895</td>\n",
       "      <td>-0.008983</td>\n",
       "      <td>0.014724</td>\n",
       "      <td>0</td>\n",
       "      <td>-0.342475</td>\n",
       "    </tr>\n",
       "    <tr>\n",
       "      <th>2</th>\n",
       "      <td>-1.358354</td>\n",
       "      <td>-1.340163</td>\n",
       "      <td>1.773209</td>\n",
       "      <td>0.379780</td>\n",
       "      <td>-0.503198</td>\n",
       "      <td>1.800499</td>\n",
       "      <td>0.791461</td>\n",
       "      <td>0.247676</td>\n",
       "      <td>-1.514654</td>\n",
       "      <td>0.207643</td>\n",
       "      <td>...</td>\n",
       "      <td>0.247998</td>\n",
       "      <td>0.771679</td>\n",
       "      <td>0.909412</td>\n",
       "      <td>-0.689281</td>\n",
       "      <td>-0.327642</td>\n",
       "      <td>-0.139097</td>\n",
       "      <td>-0.055353</td>\n",
       "      <td>-0.059752</td>\n",
       "      <td>0</td>\n",
       "      <td>1.160686</td>\n",
       "    </tr>\n",
       "    <tr>\n",
       "      <th>3</th>\n",
       "      <td>-0.966272</td>\n",
       "      <td>-0.185226</td>\n",
       "      <td>1.792993</td>\n",
       "      <td>-0.863291</td>\n",
       "      <td>-0.010309</td>\n",
       "      <td>1.247203</td>\n",
       "      <td>0.237609</td>\n",
       "      <td>0.377436</td>\n",
       "      <td>-1.387024</td>\n",
       "      <td>-0.054952</td>\n",
       "      <td>...</td>\n",
       "      <td>-0.108300</td>\n",
       "      <td>0.005274</td>\n",
       "      <td>-0.190321</td>\n",
       "      <td>-1.175575</td>\n",
       "      <td>0.647376</td>\n",
       "      <td>-0.221929</td>\n",
       "      <td>0.062723</td>\n",
       "      <td>0.061458</td>\n",
       "      <td>0</td>\n",
       "      <td>0.140534</td>\n",
       "    </tr>\n",
       "    <tr>\n",
       "      <th>4</th>\n",
       "      <td>-1.158233</td>\n",
       "      <td>0.877737</td>\n",
       "      <td>1.548718</td>\n",
       "      <td>0.403034</td>\n",
       "      <td>-0.407193</td>\n",
       "      <td>0.095921</td>\n",
       "      <td>0.592941</td>\n",
       "      <td>-0.270533</td>\n",
       "      <td>0.817739</td>\n",
       "      <td>0.753074</td>\n",
       "      <td>...</td>\n",
       "      <td>-0.009431</td>\n",
       "      <td>0.798278</td>\n",
       "      <td>-0.137458</td>\n",
       "      <td>0.141267</td>\n",
       "      <td>-0.206010</td>\n",
       "      <td>0.502292</td>\n",
       "      <td>0.219422</td>\n",
       "      <td>0.215153</td>\n",
       "      <td>0</td>\n",
       "      <td>-0.073403</td>\n",
       "    </tr>\n",
       "  </tbody>\n",
       "</table>\n",
       "<p>5 rows × 30 columns</p>\n",
       "</div>"
      ],
      "text/plain": [
       "         V1        V2        V3        V4        V5        V6        V7  \\\n",
       "0 -1.359807 -0.072781  2.536347  1.378155 -0.338321  0.462388  0.239599   \n",
       "1  1.191857  0.266151  0.166480  0.448154  0.060018 -0.082361 -0.078803   \n",
       "2 -1.358354 -1.340163  1.773209  0.379780 -0.503198  1.800499  0.791461   \n",
       "3 -0.966272 -0.185226  1.792993 -0.863291 -0.010309  1.247203  0.237609   \n",
       "4 -1.158233  0.877737  1.548718  0.403034 -0.407193  0.095921  0.592941   \n",
       "\n",
       "         V8        V9       V10     ...            V21       V22       V23  \\\n",
       "0  0.098698  0.363787  0.090794     ...      -0.018307  0.277838 -0.110474   \n",
       "1  0.085102 -0.255425 -0.166974     ...      -0.225775 -0.638672  0.101288   \n",
       "2  0.247676 -1.514654  0.207643     ...       0.247998  0.771679  0.909412   \n",
       "3  0.377436 -1.387024 -0.054952     ...      -0.108300  0.005274 -0.190321   \n",
       "4 -0.270533  0.817739  0.753074     ...      -0.009431  0.798278 -0.137458   \n",
       "\n",
       "        V24       V25       V26       V27       V28  Class  norm_Amount  \n",
       "0  0.066928  0.128539 -0.189115  0.133558 -0.021053      0     0.244964  \n",
       "1 -0.339846  0.167170  0.125895 -0.008983  0.014724      0    -0.342475  \n",
       "2 -0.689281 -0.327642 -0.139097 -0.055353 -0.059752      0     1.160686  \n",
       "3 -1.175575  0.647376 -0.221929  0.062723  0.061458      0     0.140534  \n",
       "4  0.141267 -0.206010  0.502292  0.219422  0.215153      0    -0.073403  \n",
       "\n",
       "[5 rows x 30 columns]"
      ]
     },
     "execution_count": 6,
     "metadata": {},
     "output_type": "execute_result"
    }
   ],
   "source": [
    "# Normalise and reshape the Amount column, so it's values lie between -1 and 1\n",
    "from sklearn.preprocessing import StandardScaler\n",
    "data['norm_Amount'] = StandardScaler().fit_transform(data['Amount'].reshape(-1,1))\n",
    "\n",
    "# Drop the old Amount column and also the Time column as we don't want to include this at this stage\n",
    "data = data.drop(['Time', 'Amount'], axis=1)\n",
    "\n",
    "data.head()"
   ]
  },
  {
   "cell_type": "markdown",
   "metadata": {},
   "source": [
    "---\n",
    "## Logistic regression (without sampling)\n",
    "---\n",
    "Let's setup a logistic regression classifier to run on our data."
   ]
  },
  {
   "cell_type": "markdown",
   "metadata": {},
   "source": [
    "### Imports and classifer instantiation "
   ]
  },
  {
   "cell_type": "code",
   "execution_count": 7,
   "metadata": {},
   "outputs": [],
   "source": [
    "from sklearn.linear_model import LogisticRegression\n",
    "from sklearn.model_selection import train_test_split, KFold, cross_val_score\n",
    "from sklearn.metrics import confusion_matrix,precision_recall_curve,auc,roc_auc_score,roc_curve,recall_score,classification_report \n",
    "\n",
    "# Call the logistic regression model with a certain C parameter\n",
    "lr = LogisticRegression(C = 10)"
   ]
  },
  {
   "cell_type": "markdown",
   "metadata": {},
   "source": [
    "### Assign data to x and y and perform a train-test split on the data"
   ]
  },
  {
   "cell_type": "code",
   "execution_count": 8,
   "metadata": {},
   "outputs": [
    {
     "name": "stderr",
     "output_type": "stream",
     "text": [
      "/Users/HarryG1/Documents/University/Year_3/DeepLearning-CreditCardFraud/devEnv/lib/python2.7/site-packages/ipykernel_launcher.py:2: DeprecationWarning: \n",
      ".ix is deprecated. Please use\n",
      ".loc for label based indexing or\n",
      ".iloc for positional indexing\n",
      "\n",
      "See the documentation here:\n",
      "http://pandas.pydata.org/pandas-docs/stable/indexing.html#ix-indexer-is-deprecated\n",
      "  \n"
     ]
    }
   ],
   "source": [
    "# Assign variables x and y corresponding to row data and it's class value\n",
    "X = data.ix[:, data.columns != 'Class']\n",
    "y = data.ix[:, data.columns == 'Class']\n",
    "\n",
    "# Whole dataset, training-test data splitting\n",
    "X_train, X_test, y_train, y_test = train_test_split(X,y,test_size = 0.3, random_state = 0)"
   ]
  },
  {
   "cell_type": "markdown",
   "metadata": {},
   "source": [
    "### Here we perform cross validation\n",
    "The reason we do this is so we compute an average of runs of our classifier, to be confident in it's results. The scoring metric here is defined as Recall as this is the metric we are most interested in. If you wanted the whole confusion matrix metrics performed under cross-val then you would need to essentially run cross-val yourself, looping over iterations and storing the matrix results. For the purposes of this, we'll just look at Recall."
   ]
  },
  {
   "cell_type": "code",
   "execution_count": 9,
   "metadata": {},
   "outputs": [
    {
     "name": "stderr",
     "output_type": "stream",
     "text": [
      "/Users/HarryG1/Documents/University/Year_3/DeepLearning-CreditCardFraud/devEnv/lib/python2.7/site-packages/sklearn/utils/validation.py:578: DataConversionWarning: A column-vector y was passed when a 1d array was expected. Please change the shape of y to (n_samples, ), for example using ravel().\n",
      "  y = column_or_1d(y, warn=True)\n"
     ]
    },
    {
     "name": "stdout",
     "output_type": "stream",
     "text": [
      "[ 0.74747475  0.63636364  0.42857143  0.68367347  0.51020408]\n",
      "Recall mean =  0.601257472686\n"
     ]
    }
   ],
   "source": [
    "# CROSS VALIDATION\n",
    "scores = cross_val_score(lr, X, y, scoring='recall', cv=5)\n",
    "print scores\n",
    "print 'Recall mean = ', np.mean(scores)"
   ]
  },
  {
   "cell_type": "markdown",
   "metadata": {},
   "source": [
    "### Fit the data in a single run and print a confusion matrix\n",
    "This is just a single run for the purposes of printing a confusion matrix to give us a visualisation of how the classifer performed."
   ]
  },
  {
   "cell_type": "code",
   "execution_count": 10,
   "metadata": {},
   "outputs": [
    {
     "data": {
      "image/png": "[encoded data removed]",
      "text/plain": [
       "<matplotlib.figure.Figure at 0x10bd1e810>"
      ]
     },
     "metadata": {},
     "output_type": "display_data"
    }
   ],
   "source": [
    "lr.fit(X_train, y_train)\n",
    "y_pred = lr.predict(X_test)\n",
    "cm = confusion_matrix(y_test, y_pred)\n",
    "class_names = [0,1]\n",
    "\n",
    "\n",
    "plt.figure()\n",
    "plot_confusion_matrix(cm, classes=class_names, title='Confusion matrix')\n",
    "plt.show()"
   ]
  },
  {
   "cell_type": "markdown",
   "metadata": {},
   "source": [
    "### Print classification report"
   ]
  },
  {
   "cell_type": "code",
   "execution_count": 11,
   "metadata": {},
   "outputs": [
    {
     "name": "stdout",
     "output_type": "stream",
     "text": [
      "             precision    recall  f1-score   support\n",
      "\n",
      "          0       1.00      1.00      1.00     85296\n",
      "          1       0.88      0.62      0.73       147\n",
      "\n",
      "avg / total       1.00      1.00      1.00     85443\n",
      "\n"
     ]
    }
   ],
   "source": [
    "\n",
    "from sklearn.metrics import classification_report\n",
    "print classification_report(y_test, y_pred)"
   ]
  },
  {
   "cell_type": "markdown",
   "metadata": {},
   "source": [
    "---\n",
    "### Evaluation\n",
    "\n",
    "So, as we can see, without any sampling techniques on the data, running a simple logistic regression gives us a recall score average of around 60%. \n",
    "\n",
    "This is pretty bad. That means that nearly 40% of fraudlent cases were incorrectly predicted. \n",
    "\n",
    "---"
   ]
  },
  {
   "cell_type": "markdown",
   "metadata": {},
   "source": [
    "---\n",
    "## Aside on C parameter of Logistic regression\n",
    "---\n",
    "The C parameter of the logistic regression is essentially a regularisation parameter. Increasing the regularisation strength penalises \"large\" weight coefficients. This is mainly so that the model performs better on unseen data and avoids learning anomolies or noise.\n",
    "\n",
    "#### To determine the best value to give this parameter we can do a quick hyper-parameter tuning, namely Grid Search, to find the best value to use:"
   ]
  },
  {
   "cell_type": "code",
   "execution_count": 12,
   "metadata": {},
   "outputs": [
    {
     "name": "stdout",
     "output_type": "stream",
     "text": [
      "Best parameters set found on development set:\n",
      "\n",
      "{'C': 10}\n",
      "\n",
      "Grid scores on development set:\n",
      "\n",
      "0.583 (+/-0.150) for {'C': 0.01}\n",
      "0.606 (+/-0.110) for {'C': 0.1}\n",
      "0.620 (+/-0.107) for {'C': 1}\n",
      "0.623 (+/-0.122) for {'C': 10}\n",
      "0.623 (+/-0.122) for {'C': 100}\n",
      "\n",
      "Detailed classification report:\n",
      "\n",
      "             precision    recall  f1-score   support\n",
      "\n",
      "          0       1.00      1.00      1.00     85296\n",
      "          1       0.88      0.62      0.73       147\n",
      "\n",
      "avg / total       1.00      1.00      1.00     85443\n",
      "\n",
      "\n",
      "The model is trained on the full development set.\n",
      "The scores are computed on the full evaluation set.\n",
      "\n"
     ]
    }
   ],
   "source": [
    "from sklearn.model_selection import GridSearchCV\n",
    "\n",
    "# Call the logistic regression model with a certain C parameter\n",
    "lr = GridSearchCV(LogisticRegression(C = 0.01), {'C':[0.01, 0.1, 1, 10, 100]}, scoring='recall')\n",
    "\n",
    "# Assign variables x and y corresponding to row data and it's class value\n",
    "X = data.ix[:, data.columns != 'Class']\n",
    "y = data.ix[:, data.columns == 'Class']\n",
    "\n",
    "# # Whole dataset, training-test data splitting\n",
    "X_train, X_test, y_train, y_test = train_test_split(X,y,test_size = 0.3, random_state = 0)\n",
    "\n",
    "lr.fit(X_train, y_train)\n",
    "y_pred = lr.predict(X_test)\n",
    "\n",
    "# cm = confusion_matrix(y_test, y_pred)\n",
    "# class_names = [0,1]\n",
    "\n",
    "print(\"Best parameters set found on development set:\")\n",
    "print \"\"\n",
    "print(lr.best_params_)\n",
    "print \"\"\n",
    "print(\"Grid scores on development set:\")\n",
    "print \"\"\n",
    "means = lr.cv_results_['mean_test_score']\n",
    "stds = lr.cv_results_['std_test_score']\n",
    "for mean, std, params in zip(means, stds, lr.cv_results_['params']):\n",
    "    print(\"%0.3f (+/-%0.03f) for %r\"\n",
    "          % (mean, std * 2, params))\n",
    "print \"\"\n",
    "\n",
    "print(\"Detailed classification report:\")\n",
    "print \"\"\n",
    "print classification_report(y_test, y_pred)\n",
    "print \"\"\n",
    "print(\"The model is trained on the full development set.\")\n",
    "print(\"The scores are computed on the full evaluation set.\")\n",
    "print \"\"\n"
   ]
  },
  {
   "cell_type": "markdown",
   "metadata": {},
   "source": [
    "#### So we can see here that C=10 is the best value to use."
   ]
  },
  {
   "cell_type": "markdown",
   "metadata": {},
   "source": [
    "---\n",
    "## Undersampling \n",
    "---\n",
    "#### Here, we will attempt undersampling by reducing the number of the majority class, down to a 50:50 ratio with the minority class"
   ]
  },
  {
   "cell_type": "code",
   "execution_count": 13,
   "metadata": {},
   "outputs": [
    {
     "name": "stdout",
     "output_type": "stream",
     "text": [
      "Number of frauds 492\n",
      "number of non fraud:  284315\n",
      "non_fraud after:  492\n",
      "[ 0.94202899  0.88405797  0.82608696  0.95588235  0.92647059]\n",
      "Recall mean =  0.906905370844\n"
     ]
    },
    {
     "name": "stderr",
     "output_type": "stream",
     "text": [
      "/Users/HarryG1/Documents/University/Year_3/DeepLearning-CreditCardFraud/devEnv/lib/python2.7/site-packages/ipykernel_launcher.py:17: DeprecationWarning: \n",
      ".ix is deprecated. Please use\n",
      ".loc for label based indexing or\n",
      ".iloc for positional indexing\n",
      "\n",
      "See the documentation here:\n",
      "http://pandas.pydata.org/pandas-docs/stable/indexing.html#ix-indexer-is-deprecated\n"
     ]
    },
    {
     "data": {
      "image/png": "[encoded data removed]",
      "text/plain": [
       "<matplotlib.figure.Figure at 0x10f3fad90>"
      ]
     },
     "metadata": {},
     "output_type": "display_data"
    },
    {
     "name": "stdout",
     "output_type": "stream",
     "text": [
      "             precision    recall  f1-score   support\n",
      "\n",
      "          0       0.92      0.97      0.95       147\n",
      "          1       0.97      0.92      0.94       149\n",
      "\n",
      "avg / total       0.95      0.95      0.95       296\n",
      "\n"
     ]
    }
   ],
   "source": [
    "fraud_indices = np.array(data[data.Class == 1].index)\n",
    "print 'Number of frauds', len(fraud_indices)\n",
    "\n",
    "non_fraud = data[data.Class==0]\n",
    "fraud = data[data.Class==1]\n",
    "\n",
    "print 'number of non fraud: ', len(non_fraud)\n",
    "non_fraud = non_fraud.loc[np.random.choice(non_fraud.index, len(fraud_indices), replace=False)]\n",
    "\n",
    "undersampled_data = pd.concat([non_fraud, fraud])\n",
    "print 'non_fraud after: ', len(non_fraud)\n",
    "\n",
    "# Call the logistic regression model with a certain C parameter\n",
    "lr = LogisticRegression(C = 10)\n",
    "\n",
    "# Assign variables x and y corresponding to row data and it's class value\n",
    "X = undersampled_data.ix[:, data.columns != 'Class']\n",
    "y = undersampled_data.ix[:, data.columns == 'Class']\n",
    "\n",
    "# Whole dataset, training-test data splitting\n",
    "X_train, X_test, y_train, y_test = train_test_split(X,y,test_size = 0.3, random_state = 0)\n",
    "\n",
    "# CROSS VALIDATION\n",
    "scores = cross_val_score(lr, X_train, y_train, scoring='recall', cv=5)\n",
    "print scores\n",
    "print 'Recall mean = ', np.mean(scores)\n",
    "\n",
    "lr.fit(X_train, y_train)\n",
    "y_pred = lr.predict(X_test)\n",
    "cm = confusion_matrix(y_test, y_pred)\n",
    "class_names = [0,1]\n",
    "\n",
    "\n",
    "plt.figure()\n",
    "plot_confusion_matrix(cm, classes=class_names, title='Confusion matrix')\n",
    "plt.show()\n",
    "\n",
    "from sklearn.metrics import classification_report\n",
    "print classification_report(y_test, y_pred)\n",
    "\n"
   ]
  },
  {
   "cell_type": "markdown",
   "metadata": {},
   "source": [
    "### Evaluation \n",
    "\n",
    "#### As we can see, by bringing the data to a 50:50 ratio, we bring the recall performance up to 88% average! up from 60%.\n",
    "This is a significant increase."
   ]
  },
  {
   "cell_type": "markdown",
   "metadata": {},
   "source": [
    "---\n",
    "## Oversampling \n",
    "---\n",
    "\n",
    "Next, we want to try oversampling techniques. This is where the minority class (the fraudulent cases) is scaled up in size, to compare more equally with the number of the majority class. "
   ]
  },
  {
   "cell_type": "markdown",
   "metadata": {},
   "source": [
    "#### A way we can do this is by random oversampling, which randomly duplicates data. Let's see how this performs..."
   ]
  },
  {
   "cell_type": "code",
   "execution_count": 14,
   "metadata": {},
   "outputs": [
    {
     "name": "stdout",
     "output_type": "stream",
     "text": [
      "Original dataset shape Counter({0: 284315, 1: 492})\n",
      "Training dataset shape Counter({0: 345, 1: 343})\n",
      "Resampled training dataset shape Counter({0: 284315, 1: 284315})\n",
      "[ 0.92187029  0.91875314  0.9214178   0.92129013  0.91963096]\n",
      "Recall mean =  0.920592463153\n"
     ]
    },
    {
     "data": {
      "image/png": "[encoded data removed]",
      "text/plain": [
       "<matplotlib.figure.Figure at 0x10f427f10>"
      ]
     },
     "metadata": {},
     "output_type": "display_data"
    },
    {
     "name": "stdout",
     "output_type": "stream",
     "text": [
      "             precision    recall  f1-score   support\n",
      "\n",
      "          0       0.93      0.98      0.95     85172\n",
      "          1       0.98      0.92      0.95     85417\n",
      "\n",
      "avg / total       0.95      0.95      0.95    170589\n",
      "\n"
     ]
    }
   ],
   "source": [
    "# Assign variables x and y corresponding to row data and it's class value\n",
    "X = data.ix[:, data.columns != 'Class']\n",
    "y = data.ix[:, data.columns == 'Class']\n",
    "\n",
    "# Setup oversampler and print new data shape\n",
    "from collections import Counter\n",
    "from imblearn.over_sampling import RandomOverSampler \n",
    "ros = RandomOverSampler(random_state=1)\n",
    "X_res, y_res = ros.fit_sample(X, y)\n",
    "print('Original dataset shape {}'.format(Counter(data['Class'])))\n",
    "print('Training dataset shape {}'.format(Counter(y_train['Class'])))\n",
    "print('Resampled training dataset shape {}'.format(Counter(y_res)))\n",
    "\n",
    "\n",
    "# Whole dataset, training-test data splitting\n",
    "X_train, X_test, y_train, y_test = train_test_split(X_res,y_res,test_size = 0.3, random_state = 0)\n",
    "\n",
    "# CROSS VALIDATION - NOW ONLY ON TRAINING DATA *\n",
    "scores = cross_val_score(lr, X_train, y_train, scoring='recall', cv=5)\n",
    "print scores\n",
    "print 'Recall mean = ', np.mean(scores)\n",
    "\n",
    "lr.fit(X_train, y_train)\n",
    "y_pred = lr.predict(X_test)\n",
    "cm = confusion_matrix(y_test, y_pred)\n",
    "class_names = [0,1]\n",
    "\n",
    "\n",
    "plt.figure()\n",
    "plot_confusion_matrix(cm, classes=class_names, title='Confusion matrix')\n",
    "plt.show()\n",
    "\n",
    "from sklearn.metrics import classification_report\n",
    "print classification_report(y_test, y_pred)"
   ]
  },
  {
   "cell_type": "markdown",
   "metadata": {},
   "source": [
    "### Evaluation \n",
    "\n",
    "#### Oversampling definitely seems to perform slightly better than undersampling here.  We bring the recall performance up to 92% average, fairly conclusively.\n"
   ]
  },
  {
   "cell_type": "markdown",
   "metadata": {},
   "source": [
    "### NOTE: However we have to think whether this is wise. Simply duplicating data means that model has potential to cheat. Some of the test data in the test-train split will be the same data as in training. This means that there is likely to be some bias in predictions. \n",
    "\n",
    "#### How to overcome? - Instead of oversampling straight away, we should SPLIT the data into test-train FIRST and THEN apply oversampling. This means we have less test data but it is TRUE test data that has not been seen before by the model. \n",
    "\n",
    "#### Let's retry this random oversampling but sampling ONLY the training data..."
   ]
  },
  {
   "cell_type": "markdown",
   "metadata": {},
   "source": [
    "---\n",
    "## Oversampling ( Preserving test data - oversampling training data only)\n",
    "---"
   ]
  },
  {
   "cell_type": "markdown",
   "metadata": {},
   "source": [
    "#### The code will look almost identical to before, just a shift in the order of events:"
   ]
  },
  {
   "cell_type": "code",
   "execution_count": 15,
   "metadata": {},
   "outputs": [],
   "source": [
    "# Assign variables x and y corresponding to row data and it's class value\n",
    "X = data.ix[:, data.columns != 'Class']\n",
    "y = data.ix[:, data.columns == 'Class']"
   ]
  },
  {
   "cell_type": "markdown",
   "metadata": {},
   "source": [
    "#### Swap the order of data splitting and oversampling"
   ]
  },
  {
   "cell_type": "code",
   "execution_count": 16,
   "metadata": {},
   "outputs": [
    {
     "name": "stdout",
     "output_type": "stream",
     "text": [
      "Original dataset shape Counter({0: 284315, 1: 492})\n",
      "Training dataset shape Counter({0: 199019, 1: 345})\n",
      "Resampled training dataset shape Counter({0: 199019, 1: 199019})\n"
     ]
    }
   ],
   "source": [
    "# Whole dataset, training-test data splitting\n",
    "X_train, X_test, y_train, y_test = train_test_split(X,y,test_size = 0.3, random_state = 0)\n",
    "\n",
    "from collections import Counter\n",
    "from imblearn.over_sampling import RandomOverSampler \n",
    "ros = RandomOverSampler(random_state=1)\n",
    "X_res, y_res = ros.fit_sample(X_train, y_train)\n",
    "print('Original dataset shape {}'.format(Counter(data['Class'])))\n",
    "print('Training dataset shape {}'.format(Counter(y_train['Class'])))\n",
    "print('Resampled training dataset shape {}'.format(Counter(y_res)))"
   ]
  },
  {
   "cell_type": "markdown",
   "metadata": {},
   "source": [
    "#### As we see, the shape of the data is an equal, but less than 284315 split. This is because we are resampling the TRAINING data only. This then leaves 147 fraud cases for testing, as seen in the confusion matric results below.\n",
    "\n",
    "EXTENSION: Experiment with variations on fraud test data. I.e. Take a lower amount of fraud training data and oversample, leaving more 'True' fraud data for testing and see if there is any better performance.\n",
    "\n",
    "\n",
    "#### Then do as usual, cross validate and print metrics"
   ]
  },
  {
   "cell_type": "code",
   "execution_count": 17,
   "metadata": {},
   "outputs": [
    {
     "name": "stdout",
     "output_type": "stream",
     "text": [
      "[ 0.91483268  0.91596322  0.915511    0.91623957  0.91940306]\n",
      "Recall mean =  0.916389907562\n"
     ]
    },
    {
     "data": {
      "image/png": "[encoded data removed]",
      "text/plain": [
       "<matplotlib.figure.Figure at 0x10f32b910>"
      ]
     },
     "metadata": {},
     "output_type": "display_data"
    },
    {
     "name": "stdout",
     "output_type": "stream",
     "text": [
      "             precision    recall  f1-score   support\n",
      "\n",
      "          0       1.00      0.98      0.99     85296\n",
      "          1       0.06      0.91      0.12       147\n",
      "\n",
      "avg / total       1.00      0.98      0.99     85443\n",
      "\n"
     ]
    }
   ],
   "source": [
    "# CROSS VALIDATION\n",
    "scores = cross_val_score(lr, X_res, y_res, scoring='recall', cv=5)\n",
    "print scores\n",
    "print 'Recall mean = ', np.mean(scores)\n",
    "\n",
    "lr.fit(X_res, y_res)\n",
    "y_pred = lr.predict(X_test)\n",
    "cm = confusion_matrix(y_test, y_pred)\n",
    "class_names = [0,1]\n",
    "\n",
    "\n",
    "plt.figure()\n",
    "plot_confusion_matrix(cm, classes=class_names, title='Confusion matrix')\n",
    "plt.show()\n",
    "\n",
    "from sklearn.metrics import classification_report\n",
    "print classification_report(y_test, y_pred)"
   ]
  },
  {
   "cell_type": "markdown",
   "metadata": {},
   "source": [
    "### Evaluation \n",
    "\n",
    "#### Oversampling on training data only seems to perform approximately the same, if not slightly less. This is to be expected however, as the hypothesis was that by oversampling the entire dataset, some of our duplicates were 'leaking' into our test sets which could have created some slight bias. \n",
    "\n",
    "#### So for the purposes of Oversampling by Random, duplication, I would conclude that moving forward with the second method is absolutely fine given the intuition and empirical result."
   ]
  },
  {
   "cell_type": "markdown",
   "metadata": {},
   "source": [
    "---\n",
    "## SMOTE ( Preserving test data - oversampling training data only)\n",
    "---\n",
    "\n",
    "### Now we try the SMOTE method (Synthetic Minority Oversampling Technique). \n",
    "#### This will oversample our minority data in a similar fashion as before, except the new data will be synthetic ones, which means fraudulent data will be slightly modified (i.e noise added, tweak of value etc) to create new examples.\n",
    "\n",
    "#### The procedure is similar to before, sampling training data only to preserve test data"
   ]
  },
  {
   "cell_type": "code",
   "execution_count": 18,
   "metadata": {},
   "outputs": [
    {
     "name": "stdout",
     "output_type": "stream",
     "text": [
      "Original dataset shape Counter({0: 284315, 1: 492})\n",
      "Training dataset shape Counter({0: 199019, 1: 345})\n",
      "Resampled training dataset shape Counter({0: 199019, 1: 199019})\n",
      "[ 0.91661642  0.91759622  0.91505879  0.91578736  0.91475517]\n",
      "Recall mean =  0.915962791454\n"
     ]
    },
    {
     "data": {
      "image/png": "[encoded data removed]",
      "text/plain": [
       "<matplotlib.figure.Figure at 0x10d734290>"
      ]
     },
     "metadata": {},
     "output_type": "display_data"
    },
    {
     "name": "stdout",
     "output_type": "stream",
     "text": [
      "             precision    recall  f1-score   support\n",
      "\n",
      "          0       1.00      0.98      0.99     85296\n",
      "          1       0.06      0.92      0.11       147\n",
      "\n",
      "avg / total       1.00      0.98      0.99     85443\n",
      "\n"
     ]
    }
   ],
   "source": [
    "# Assign variables x and y corresponding to row data and it's class value\n",
    "X = data.ix[:, data.columns != 'Class']\n",
    "y = data.ix[:, data.columns == 'Class']\n",
    "\n",
    "\n",
    "# Whole dataset, training-test data splitting\n",
    "X_train, X_test, y_train, y_test = train_test_split(X,y,test_size = 0.3, random_state = 0)\n",
    "\n",
    "from collections import Counter\n",
    "from imblearn.over_sampling import SMOTE\n",
    "sm = SMOTE(random_state=1)\n",
    "X_res, y_res = sm.fit_sample(X_train, y_train)\n",
    "print('Original dataset shape {}'.format(Counter(data['Class'])))\n",
    "print('Training dataset shape {}'.format(Counter(y_train['Class'])))\n",
    "print('Resampled training dataset shape {}'.format(Counter(y_res)))\n",
    "\n",
    "# CROSS VALIDATION\n",
    "scores = cross_val_score(lr, X_res, y_res, scoring='recall', cv=5)\n",
    "print scores\n",
    "print 'Recall mean = ', np.mean(scores)\n",
    "\n",
    "lr.fit(X_res, y_res)\n",
    "y_pred = lr.predict(X_test)\n",
    "cm = confusion_matrix(y_test, y_pred)\n",
    "class_names = [0,1]\n",
    "\n",
    "\n",
    "plt.figure()\n",
    "plot_confusion_matrix(cm, classes=class_names, title='Confusion matrix')\n",
    "plt.show()\n",
    "\n",
    "from sklearn.metrics import classification_report\n",
    "print classification_report(y_test, y_pred)"
   ]
  },
  {
   "cell_type": "markdown",
   "metadata": {},
   "source": [
    "### Evaluation \n",
    "\n",
    "#### Oversampling on training data using SMOTE seems to perform approximately the same. "
   ]
  },
  {
   "cell_type": "markdown",
   "metadata": {},
   "source": [
    "---\n",
    "## Other classifiers\n",
    "---\n",
    "Let's now experiment with other classifiers, moving forward with SMOTE oversampled data (performed on training data only).\n",
    "\n",
    "* K NEAREST NEIGHBORS\n",
    "* NEURAL NET\n",
    "* LINEAR SVM \n",
    "* DECISION TREE\n",
    "* NAIVE BAYES\n",
    "* RANDOM FORREST\n",
    "* GAUSSIAN PROCESS"
   ]
  },
  {
   "cell_type": "code",
   "execution_count": 19,
   "metadata": {},
   "outputs": [
    {
     "name": "stdout",
     "output_type": "stream",
     "text": [
      "K NEAREST NEIGHBORS: \n"
     ]
    },
    {
     "data": {
      "image/png": "[encoded data removed]",
      "text/plain": [
       "<matplotlib.figure.Figure at 0x10f35a950>"
      ]
     },
     "metadata": {},
     "output_type": "display_data"
    },
    {
     "name": "stdout",
     "output_type": "stream",
     "text": [
      "             precision    recall  f1-score   support\n",
      "\n",
      "          0       1.00      1.00      1.00     85296\n",
      "          1       0.50      0.86      0.63       147\n",
      "\n",
      "avg / total       1.00      1.00      1.00     85443\n",
      "\n",
      "RECALL :  0.863945578231\n"
     ]
    }
   ],
   "source": [
    "################## K NEAREST NEIGHBORS ###################\n",
    "print 'K NEAREST NEIGHBORS: '\n",
    "from sklearn.neighbors import KNeighborsClassifier\n",
    "neigh = KNeighborsClassifier()\n",
    "\n",
    "neigh.fit(X_res, y_res)\n",
    "y_pred = neigh.predict(X_test)\n",
    "cm = confusion_matrix(y_test, y_pred)\n",
    "class_names = [0,1]\n",
    "\n",
    "plt.figure()\n",
    "plot_confusion_matrix(cm, classes=class_names, title='Confusion matrix')\n",
    "plt.show()\n",
    "\n",
    "from sklearn.metrics import classification_report\n",
    "print classification_report(y_test, y_pred)\n",
    "print 'RECALL : ', recall_score(y_test, y_pred)"
   ]
  },
  {
   "cell_type": "code",
   "execution_count": 20,
   "metadata": {},
   "outputs": [
    {
     "name": "stdout",
     "output_type": "stream",
     "text": [
      "NEURAL NET: \n",
      "             precision    recall  f1-score   support\n",
      "\n",
      "          0       1.00      1.00      1.00     85296\n",
      "          1       0.71      0.81      0.76       147\n",
      "\n",
      "avg / total       1.00      1.00      1.00     85443\n",
      "\n",
      "RECALL :  0.809523809524\n"
     ]
    }
   ],
   "source": [
    "################### NEURAL NET ###################\n",
    "print 'NEURAL NET: '\n",
    "from sklearn.neural_network import MLPClassifier\n",
    "mlp = MLPClassifier()\n",
    "\n",
    "mlp.fit(X_res, y_res)\n",
    "y_pred = mlp.predict(X_test)\n",
    "cm = confusion_matrix(y_test, y_pred)\n",
    "class_names = [0,1]\n",
    "\n",
    "from sklearn.metrics import classification_report\n",
    "print classification_report(y_test, y_pred)\n",
    "print 'RECALL : ', recall_score(y_test, y_pred)"
   ]
  },
  {
   "cell_type": "code",
   "execution_count": 21,
   "metadata": {},
   "outputs": [
    {
     "name": "stdout",
     "output_type": "stream",
     "text": [
      "DECISION TREE: \n",
      "             precision    recall  f1-score   support\n",
      "\n",
      "          0       1.00      1.00      1.00     85296\n",
      "          1       0.41      0.78      0.53       147\n",
      "\n",
      "avg / total       1.00      1.00      1.00     85443\n",
      "\n",
      "RECALL :  0.775510204082\n"
     ]
    }
   ],
   "source": [
    "################### DECISION TREE ###################\n",
    "print 'DECISION TREE: '\n",
    "from sklearn.tree import DecisionTreeClassifier\n",
    "dt = DecisionTreeClassifier()\n",
    "\n",
    "dt.fit(X_res, y_res)\n",
    "y_pred = dt.predict(X_test)\n",
    "cm = confusion_matrix(y_test, y_pred)\n",
    "class_names = [0,1]\n",
    "\n",
    "from sklearn.metrics import classification_report\n",
    "print classification_report(y_test, y_pred)\n",
    "print 'RECALL : ', recall_score(y_test, y_pred)"
   ]
  },
  {
   "cell_type": "code",
   "execution_count": 22,
   "metadata": {},
   "outputs": [
    {
     "name": "stdout",
     "output_type": "stream",
     "text": [
      "LINEAR SVM: \n",
      "             precision    recall  f1-score   support\n",
      "\n",
      "          0       1.00      1.00      1.00     85296\n",
      "          1       0.38      0.69      0.49       147\n",
      "\n",
      "avg / total       1.00      1.00      1.00     85443\n",
      "\n",
      "RECALL:  0.69387755102\n"
     ]
    }
   ],
   "source": [
    "################### LINEAR SVM ###################\n",
    "print 'LINEAR SVM: '\n",
    "from sklearn.svm import SVC\n",
    "\n",
    "lin_svm = SVC()\n",
    "\n",
    "lin_svm.fit(X_res, y_res)\n",
    "y_pred = lin_svm.predict(X_test)\n",
    "cm = confusion_matrix(y_test, y_pred)\n",
    "class_names = [0,1]\n",
    "\n",
    "from sklearn.metrics import classification_report\n",
    "print classification_report(y_test, y_pred)\n",
    "print 'RECALL: ', recall_score(y_test, y_pred)"
   ]
  },
  {
   "cell_type": "code",
   "execution_count": 23,
   "metadata": {},
   "outputs": [
    {
     "name": "stdout",
     "output_type": "stream",
     "text": [
      "RANDOM FOREST: \n",
      "             precision    recall  f1-score   support\n",
      "\n",
      "          0       1.00      1.00      1.00     85296\n",
      "          1       0.91      0.78      0.84       147\n",
      "\n",
      "avg / total       1.00      1.00      1.00     85443\n",
      "\n",
      "0.78231292517\n"
     ]
    }
   ],
   "source": [
    "################### RANDOM FOREST ###################\n",
    "print 'RANDOM FOREST: '\n",
    "from sklearn.ensemble import RandomForestClassifier\n",
    "\n",
    "rf = RandomForestClassifier()\n",
    "\n",
    "rf.fit(X_res, y_res)\n",
    "y_pred = rf.predict(X_test)\n",
    "cm = confusion_matrix(y_test, y_pred)\n",
    "class_names = [0,1]\n",
    "\n",
    "from sklearn.metrics import classification_report\n",
    "print classification_report(y_test, y_pred)\n",
    "print recall_score(y_test, y_pred)"
   ]
  },
  {
   "cell_type": "code",
   "execution_count": 24,
   "metadata": {},
   "outputs": [
    {
     "name": "stdout",
     "output_type": "stream",
     "text": [
      "Gaussian Naive Bayes: \n",
      "             precision    recall  f1-score   support\n",
      "\n",
      "          0       1.00      0.98      0.99     85296\n",
      "          1       0.06      0.86      0.11       147\n",
      "\n",
      "avg / total       1.00      0.98      0.99     85443\n",
      "\n",
      "0.863945578231\n"
     ]
    }
   ],
   "source": [
    "################### NAIVE BAYES ###################\n",
    "print 'Gaussian Naive Bayes: '\n",
    "from sklearn.naive_bayes import GaussianNB\n",
    "\n",
    "gnb = GaussianNB()\n",
    "\n",
    "gnb.fit(X_res, y_res)\n",
    "y_pred = gnb.predict(X_test)\n",
    "cm = confusion_matrix(y_test, y_pred)\n",
    "class_names = [0,1]\n",
    "\n",
    "from sklearn.metrics import classification_report\n",
    "print classification_report(y_test, y_pred)\n",
    "print recall_score(y_test, y_pred)"
   ]
  },
  {
   "cell_type": "markdown",
   "metadata": {},
   "source": [
    "## Summarising classifiers and averaging runs\n",
    "\n",
    "#### Here, instead of just training a classifier once and predicting, I create a function that averages results over 3 runs. These 3 runs incoperate a new, fresh random test-train split of the data. In addition, SMOTE is used for every train data, with each iteration. So all three runs are new random tests in the sense that the split of data and resampling is different. We then average the important metrics, to be confident in the results.\n",
    "\n",
    "#### In a lot of machine learning applications, one may use a similar technique of cross-validation. This is normally preferable on a small subsample of the data to see what classifiers perform best. Seeing as we want to ultimate set baselines for these models, I just run them on the full dataset to get full results."
   ]
  },
  {
   "cell_type": "code",
   "execution_count": 25,
   "metadata": {},
   "outputs": [],
   "source": [
    "def generate_train_test_sample(x_data, y_data): \n",
    "    ''' 1) Generate new, random train-test split\n",
    "        2) Random smote oversample the train data, keeping test data unseen\n",
    "        3) Use this new train-test split to fit and test model\n",
    "    '''\n",
    "\n",
    "    X_train, X_test, y_train, y_test = train_test_split(x_data,y_data,test_size = 0.3)\n",
    "\n",
    "    from collections import Counter\n",
    "    from imblearn.over_sampling import SMOTE\n",
    "    sm = SMOTE()\n",
    "    X_res, y_res = sm.fit_sample(X_train, y_train)\n",
    "    print('Resampling the data with SMOTE. . .')\n",
    "    print('Resampled training dataset shape {}'.format(Counter(y_res)))\n",
    "\n",
    "    return X_res, y_res, X_test, y_test"
   ]
  },
  {
   "cell_type": "code",
   "execution_count": 26,
   "metadata": {},
   "outputs": [],
   "source": [
    "########################################################################\n",
    "from sklearn.svm import LinearSVC\n",
    "from sklearn.naive_bayes import GaussianNB\n",
    "from sklearn.neural_network import MLPClassifier\n",
    "from sklearn.ensemble import RandomForestClassifier\n",
    "from sklearn.neighbors import KNeighborsClassifier\n",
    "from sklearn.tree import DecisionTreeClassifier\n",
    "\n",
    "classifiers = [\n",
    "    KNeighborsClassifier(),\n",
    "    LinearSVC(),\n",
    "    DecisionTreeClassifier(random_state=0),\n",
    "    RandomForestClassifier(random_state=0),\n",
    "    MLPClassifier(),\n",
    "    GaussianNB()]"
   ]
  },
  {
   "cell_type": "code",
   "execution_count": 30,
   "metadata": {},
   "outputs": [
    {
     "name": "stdout",
     "output_type": "stream",
     "text": [
      "==============================\n",
      "KNeighborsClassifier\n",
      "Resampling the data with SMOTE. . .\n",
      "Resampled training dataset shape Counter({0: 199025, 1: 199025})\n",
      "Resampling the data with SMOTE. . .\n",
      "Resampled training dataset shape Counter({0: 199033, 1: 199033})\n",
      "Resampling the data with SMOTE. . .\n",
      "Resampled training dataset shape Counter({0: 199020, 1: 199020})\n",
      "('Mean scores: ', ['KNeighborsClassifier', 0.61144448968165455, 0.47687635747337237, 0.85380932631572015, datetime.timedelta(0, 1, 758558)])\n",
      "==============================\n",
      "LinearSVC\n",
      "Resampling the data with SMOTE. . .\n",
      "Resampled training dataset shape Counter({0: 199021, 1: 199021})\n",
      "Resampling the data with SMOTE. . .\n",
      "Resampled training dataset shape Counter({0: 198996, 1: 198996})\n",
      "Resampling the data with SMOTE. . .\n",
      "Resampled training dataset shape Counter({0: 199021, 1: 199021})\n",
      "('Mean scores: ', ['LinearSVC', 0.11938510394608835, 0.063950993214307986, 0.89658656274806958, datetime.timedelta(0, 84, 125692)])\n",
      "==============================\n",
      "DecisionTreeClassifier\n",
      "Resampling the data with SMOTE. . .\n",
      "Resampled training dataset shape Counter({0: 199045, 1: 199045})\n",
      "Resampling the data with SMOTE. . .\n",
      "Resampled training dataset shape Counter({0: 199023, 1: 199023})\n",
      "Resampling the data with SMOTE. . .\n",
      "Resampled training dataset shape Counter({0: 199024, 1: 199024})\n",
      "('Mean scores: ', ['DecisionTreeClassifier', 0.53685827957877963, 0.41107896323086196, 0.77473554594291105, datetime.timedelta(0, 23, 579666)])\n",
      "==============================\n",
      "RandomForestClassifier\n",
      "Resampling the data with SMOTE. . .\n",
      "Resampled training dataset shape Counter({0: 199018, 1: 199018})\n",
      "Resampling the data with SMOTE. . .\n",
      "Resampled training dataset shape Counter({0: 199011, 1: 199011})\n",
      "Resampling the data with SMOTE. . .\n",
      "Resampled training dataset shape Counter({0: 199016, 1: 199016})\n",
      "('Mean scores: ', ['RandomForestClassifier', 0.84643693250191454, 0.87945292620865134, 0.81638387919801136, datetime.timedelta(0, 23, 179558)])\n",
      "==============================\n",
      "MLPClassifier\n",
      "Resampling the data with SMOTE. . .\n",
      "Resampled training dataset shape Counter({0: 199009, 1: 199009})\n",
      "Resampling the data with SMOTE. . .\n",
      "Resampled training dataset shape Counter({0: 199037, 1: 199037})\n",
      "Resampling the data with SMOTE. . .\n",
      "Resampled training dataset shape Counter({0: 199007, 1: 199007})\n",
      "('Mean scores: ', ['MLPClassifier', 0.75067160909068009, 0.70448053986189574, 0.80738283074049499, datetime.timedelta(0, 27, 263501)])\n",
      "==============================\n",
      "GaussianNB\n",
      "Resampling the data with SMOTE. . .\n",
      "Resampled training dataset shape Counter({0: 199017, 1: 199017})\n",
      "Resampling the data with SMOTE. . .\n",
      "Resampled training dataset shape Counter({0: 199036, 1: 199036})\n",
      "Resampling the data with SMOTE. . .\n",
      "Resampled training dataset shape Counter({0: 199006, 1: 199006})\n",
      "('Mean scores: ', ['GaussianNB', 0.10954287763045499, 0.058462999009800565, 0.87045010439811044, datetime.timedelta(0, 0, 213850)])\n",
      "==============================\n",
      "                        F1 Score  Precision    Recall   Training Time\n",
      "Classifier                                                           \n",
      "KNeighborsClassifier    0.611444   0.476876  0.853809 00:00:01.758558\n",
      "LinearSVC               0.119385   0.063951  0.896587 00:01:24.125692\n",
      "DecisionTreeClassifier  0.536858   0.411079  0.774736 00:00:23.579666\n",
      "RandomForestClassifier  0.846437   0.879453  0.816384 00:00:23.179558\n",
      "MLPClassifier           0.750672   0.704481  0.807383 00:00:27.263501\n",
      "GaussianNB              0.109543   0.058463  0.870450 00:00:00.213850\n",
      "==============================\n"
     ]
    }
   ],
   "source": [
    "import datetime\n",
    "from sklearn.metrics import precision_recall_fscore_support\n",
    "\n",
    "# Setting up dataframe table properties\n",
    "log_cols=[\"Classifier\", \"F1 Score\", \"Precision\", \"Recall\", \"Training Time\"]\n",
    "log = pd.DataFrame(columns=log_cols)\n",
    "print(\"=\"*30)\n",
    "\n",
    "# Loop over the classifiers, fit the data over 3 iterations, gather results, input to dataframe table\n",
    "for clf in classifiers:\n",
    "    precision = []\n",
    "    recall = []\n",
    "    f1score = []\n",
    "    elapsed_times = []\n",
    "\n",
    "    name = clf.__class__.__name__\n",
    "    \n",
    "    print(name)\n",
    "\n",
    "    for x in range(0, 3):\n",
    "        \n",
    "        # print('\\n')\n",
    "        # print('ITERATION {}:'.format(x))\n",
    "\n",
    "        X_res, y_res, X_test, y_test = generate_train_test_sample(X, y)\n",
    "\n",
    "        # print('Fitting the model...')\n",
    "        start = datetime.datetime.now()\n",
    "        clf.fit(X_res, y_res)\n",
    "        end = datetime.datetime.now()\n",
    "        elapsed = end - start\n",
    "        elapsed_times.append(elapsed)\n",
    "\n",
    "        y_pred = clf.predict(X_test)\n",
    "\n",
    "        # print('**** Results ****')\n",
    "        report = classification_report(y_test, y_pred)\n",
    "        # print(report)\n",
    "\n",
    "        prfs = precision_recall_fscore_support(y_test, y_pred, pos_label=1, average='binary')\n",
    "        precision.append(prfs[0])\n",
    "        recall.append(prfs[1])\n",
    "        f1score.append(prfs[2])\n",
    "\n",
    "    average_timedelta = sum(elapsed_times, datetime.timedelta(0)) / len(elapsed_times)\n",
    "    entry = [name, np.mean(f1score), np.mean(precision), np.mean(recall), average_timedelta]\n",
    "    print('Mean scores: ', entry )\n",
    "    print(\"=\"*30)\n",
    "\n",
    "    log_entry = pd.DataFrame([entry], columns=log_cols)\n",
    "    log = log.append(log_entry)\n",
    "\n",
    "# Replace table index by the Classifier column\n",
    "log.set_index('Classifier', inplace=True)\n",
    "print log \n",
    "print(\"=\"*30)"
   ]
  },
  {
   "cell_type": "code",
   "execution_count": 40,
   "metadata": {},
   "outputs": [
    {
     "data": {
      "image/png": "[encoded data removed]",
      "text/plain": [
       "<matplotlib.figure.Figure at 0x10e8a32d0>"
      ]
     },
     "metadata": {},
     "output_type": "display_data"
    }
   ],
   "source": [
    "# Plots to visualise results\n",
    "ax = log[['F1 Score']].plot(kind='bar', title =\"F1 Score\", figsize=(15, 10),legend=True, fontsize=12)\n",
    "ax.set_xlabel(\"Classifier\", fontsize=12)\n",
    "ax.set_ylabel(\"Score\", fontsize=12)\n",
    "plt.show()\n",
    "\n"
   ]
  },
  {
   "cell_type": "code",
   "execution_count": 39,
   "metadata": {
    "scrolled": false
   },
   "outputs": [
    {
     "data": {
      "image/png": "[encoded data removed]",
      "text/plain": [
       "<matplotlib.figure.Figure at 0x10f07c7d0>"
      ]
     },
     "metadata": {},
     "output_type": "display_data"
    }
   ],
   "source": [
    "ax = log[['Recall']].plot(kind='bar', title =\"Recall\", figsize=(15, 10), legend=True, fontsize=12)\n",
    "ax.set_xlabel(\"Classifier\", fontsize=12)\n",
    "ax.set_ylabel(\"Score\", fontsize=12)\n",
    "plt.show()\n",
    "\n"
   ]
  },
  {
   "cell_type": "code",
   "execution_count": 41,
   "metadata": {},
   "outputs": [
    {
     "data": {
      "image/png": "[encoded data removed]",
      "text/plain": [
       "<matplotlib.figure.Figure at 0x10e8874d0>"
      ]
     },
     "metadata": {},
     "output_type": "display_data"
    }
   ],
   "source": [
    "ax = log[['Precision']].plot(kind='bar', title =\"Precision\", figsize=(15, 10), legend=True, fontsize=12)\n",
    "ax.set_xlabel(\"Classifier\", fontsize=12)\n",
    "ax.set_ylabel(\"Score\", fontsize=12)\n",
    "plt.show()"
   ]
  },
  {
   "cell_type": "code",
   "execution_count": 43,
   "metadata": {},
   "outputs": [
    {
     "name": "stdout",
     "output_type": "stream",
     "text": [
      "                        F1 Score  Precision    Recall   Training Time\n",
      "Classifier                                                           \n",
      "KNeighborsClassifier    0.611444   0.476876  0.853809 00:00:01.758558\n",
      "LinearSVC               0.119385   0.063951  0.896587 00:01:24.125692\n",
      "DecisionTreeClassifier  0.536858   0.411079  0.774736 00:00:23.579666\n",
      "RandomForestClassifier  0.846437   0.879453  0.816384 00:00:23.179558\n",
      "MLPClassifier           0.750672   0.704481  0.807383 00:00:27.263501\n",
      "GaussianNB              0.109543   0.058463  0.870450 00:00:00.213850\n"
     ]
    }
   ],
   "source": [
    "'''\n",
    "SUMMARY OF RESULTS (AVG over three random iterations)\n",
    "=====================================================================\n",
    "                        F1 Score  Precision    Recall   Training Time\n",
    "Classifier                                                           \n",
    "KNeighborsClassifier    0.611444   0.476876  0.853809 00:00:01.758558\n",
    "LinearSVC               0.119385   0.063951  0.896587 00:01:24.125692\n",
    "DecisionTreeClassifier  0.536858   0.411079  0.774736 00:00:23.579666\n",
    "RandomForestClassifier  0.846437   0.879453  0.816384 00:00:23.179558\n",
    "MLPClassifier           0.750672   0.704481  0.807383 00:00:27.263501\n",
    "GaussianNB              0.109543   0.058463  0.870450 00:00:00.213850\n",
    "=====================================================================\n",
    "'''\n",
    "\n",
    "print log"
   ]
  },
  {
   "cell_type": "markdown",
   "metadata": {},
   "source": [
    "## Evaluation Summary\n",
    "\n",
    "#### F1-score:\n",
    "F1-score is the harmonic average of precision and recall. We can define precision as intuitively the ability of the classifier not to label as positive, a sample that is negative. Similarly we define recall as intuitively the ability of the classifier to find all the positive samples.\n",
    "\n",
    "So why do we care about F1 score? \n",
    "\n",
    "#### Context of the bank\n",
    "In the context of banks and how these metrics add or lose value to them, we indeed care about F1 score. As you can see from the results table, LinearSVC has the highest Recall score, which means it is great at finding true fraudulent cases. However, it's precision is very low at 0.11. This essentially means that the classifier performs badly when it comes to predicting some non-fraudulent data and falsly labelling them as fraud. Why is this bad? This is bad because the loses the bank money and gives customers a bad experience. If we have bad precision then we falsly classify as fraud a lot and we freeze customer cards and accounts and send them a text to say we believe there is fraud etc. Only to ultimately verify that everything is benign and reverse the situation. This is very bad and gives a bad impression for the customer, who may indeed change bank or lose faith in the bank's intelligence systems.\n",
    "\n",
    "#### Hence, we care about F1 score, which is the balance between these two metrics. Recall: being able to catch true frauds and Precision: being able to correctly classify and reduce the number of false positives.\n",
    "In this light, we see that\n",
    "\n",
    "#### RandomForestClassifier  0.846437\n",
    "\n",
    "is very favourable and performs rather well in comparison to the other classifiers."
   ]
  },
  {
   "cell_type": "code",
   "execution_count": null,
   "metadata": {},
   "outputs": [],
   "source": []
  }
 ],
 "metadata": {
  "kernelspec": {
   "display_name": "Python 2",
   "language": "python",
   "name": "python2"
  },
  "language_info": {
   "codemirror_mode": {
    "name": "ipython",
    "version": 2
   },
   "file_extension": ".py",
   "mimetype": "text/x-python",
   "name": "python",
   "nbconvert_exporter": "python",
   "pygments_lexer": "ipython2",
   "version": "2.7.10"
  }
 },
 "nbformat": 4,
 "nbformat_minor": 2
}
